{
  "nbformat": 4,
  "nbformat_minor": 0,
  "metadata": {
    "colab": {
      "provenance": []
    },
    "kernelspec": {
      "name": "python3",
      "display_name": "Python 3"
    },
    "language_info": {
      "name": "python"
    }
  },
  "cells": [
    {
      "cell_type": "markdown",
      "source": [
        "# XML"
      ],
      "metadata": {
        "id": "wBPpP9BzCipY"
      }
    },
    {
      "cell_type": "code",
      "source": [
        "!pip install lxml"
      ],
      "metadata": {
        "id": "Bw6aO8RkJ17c",
        "colab": {
          "base_uri": "https://localhost:8080/"
        },
        "outputId": "f51c6a21-c889-4420-fe80-ff1c995aa231"
      },
      "execution_count": null,
      "outputs": [
        {
          "output_type": "stream",
          "name": "stdout",
          "text": [
            "Requirement already satisfied: lxml in /usr/local/lib/python3.10/dist-packages (5.3.0)\n"
          ]
        }
      ]
    },
    {
      "cell_type": "code",
      "source": [
        "from lxml import etree"
      ],
      "metadata": {
        "id": "ChcnyfYmJ5Ju"
      },
      "execution_count": null,
      "outputs": []
    },
    {
      "cell_type": "code",
      "source": [
        "xml_file = 'movies.xml'"
      ],
      "metadata": {
        "id": "p7-25dteCriq"
      },
      "execution_count": null,
      "outputs": []
    },
    {
      "cell_type": "code",
      "source": [
        "xml_tree = etree.parse(xml_file)"
      ],
      "metadata": {
        "id": "apnM5RuaCoTk"
      },
      "execution_count": null,
      "outputs": []
    },
    {
      "cell_type": "markdown",
      "source": [
        "Разработать xPath-запросы"
      ],
      "metadata": {
        "id": "EvZHww_g5YEa"
      }
    },
    {
      "cell_type": "markdown",
      "source": [
        "a)      Получить все фильмы указанного жанра (задается в запросе константой)."
      ],
      "metadata": {
        "id": "NTYXVdgwBLeA"
      }
    },
    {
      "cell_type": "code",
      "execution_count": null,
      "metadata": {
        "id": "7r4erM0B98sU",
        "colab": {
          "base_uri": "https://localhost:8080/"
        },
        "outputId": "2032a18e-91f6-4a97-d5f4-e9ef5bcd294a"
      },
      "outputs": [
        {
          "output_type": "stream",
          "name": "stdout",
          "text": [
            "<movie id=\"1\" country=\"USA\">\n",
            "        <title>Inception</title>\n",
            "        <genres>\n",
            "            <genre>Sci-Fi</genre>\n",
            "            <genre>Thriller</genre>\n",
            "        </genres>\n",
            "        <directors>\n",
            "            <director>Christopher Nolan</director>\n",
            "        </directors>\n",
            "        <composers>\n",
            "            <composer>Hans Zimmer</composer>\n",
            "        </composers>\n",
            "        <cast>\n",
            "            <actor>Leonardo DiCaprio</actor>\n",
            "            <actor>Joseph Gordon-Levitt</actor>\n",
            "            <actor>Elliot Page</actor>\n",
            "        </cast>\n",
            "        <releaseDate>2010-07-16</releaseDate>\n",
            "        <boxOffice>829895144</boxOffice>\n",
            "        <ageRating>13+</ageRating>\n",
            "        <viewers>90000000</viewers>\n",
            "        <originalLanguage>English</originalLanguage>\n",
            "    </movie>\n",
            "\n",
            "    \n",
            "<movie id=\"3\" country=\"USA\">\n",
            "        <title>Avatar</title>\n",
            "        <genres>\n",
            "            <genre>Sci-Fi</genre>\n",
            "            <genre>Adventure</genre>\n",
            "        </genres>\n",
            "        <directors>\n",
            "            <director>James Cameron</director>\n",
            "        </directors>\n",
            "        <composers>\n",
            "            <composer>James Horner</composer>\n",
            "        </composers>\n",
            "        <cast>\n",
            "            <actor>Sam Worthington</actor>\n",
            "            <actor>Zoe Saldana</actor>\n",
            "        </cast>\n",
            "        <releaseDate>2009-12-18</releaseDate>\n",
            "        <boxOffice>2847246203</boxOffice>\n",
            "        <ageRating>13+</ageRating>\n",
            "        <viewers>200000000</viewers>\n",
            "        <originalLanguage>English</originalLanguage>\n",
            "    </movie>\n",
            "\n",
            "    \n",
            "<movie id=\"6\" country=\"USA\">\n",
            "        <title>Avengers: Endgame</title>\n",
            "        <genres>\n",
            "\t    <genre>Sci-Fi</genre>\n",
            "            <genre>Action</genre>    \n",
            "        </genres>\n",
            "        <directors>\n",
            "            <director>Anthony Russo</director>\n",
            "            <director>Joe Russo</director>\n",
            "        </directors>\n",
            "        <composers>\n",
            "            <composer>Alan Silvestri</composer>\n",
            "        </composers>\n",
            "        <cast>\n",
            "            <actor>Robert Downey Jr.</actor>\n",
            "            <actor>Chris Evans</actor>\n",
            "            <actor>Mark Ruffalo</actor>\n",
            "            <actor>Chris Hemsworth</actor>\n",
            "            <actor>Scarlett Johansson</actor>\n",
            "            <actor>Jeremy Renner</actor>\n",
            "            <actor>Paul Rudd</actor>\n",
            "        </cast>\n",
            "        <releaseDate>2019-04-26</releaseDate>\n",
            "        <boxOffice>2797800564</boxOffice>\n",
            "        <ageRating>13+</ageRating>\n",
            "        <viewers>220000000</viewers>\n",
            "        <originalLanguage>English</originalLanguage>\n",
            "    </movie>\n",
            "\t\n",
            "\t\n"
          ]
        }
      ],
      "source": [
        "all_films_by_genre = xml_tree.xpath(\"/movies/movie[genres/genre='Sci-Fi']\")\n",
        "for film in all_films_by_genre:\n",
        "    print(etree.tostring(film, encoding=str))"
      ]
    },
    {
      "cell_type": "markdown",
      "source": [
        "b)      Получить все фильмы с актерским составом белее пяти человек."
      ],
      "metadata": {
        "id": "Chaiq0aDBSxI"
      }
    },
    {
      "cell_type": "code",
      "source": [
        "all_films_where_cast_more_5 = xml_tree.xpath(\"/movies/movie[count(cast/actor) > 5]\")\n",
        "for film in all_films_where_cast_more_5:\n",
        "    print(etree.tostring(film, encoding=str))"
      ],
      "metadata": {
        "id": "pAtWNSQKAsJ-",
        "colab": {
          "base_uri": "https://localhost:8080/"
        },
        "outputId": "bf67d72d-382c-4f64-e684-f2540e7ce648"
      },
      "execution_count": null,
      "outputs": [
        {
          "output_type": "stream",
          "name": "stdout",
          "text": [
            "<movie id=\"6\" country=\"USA\">\n",
            "        <title>Avengers: Endgame</title>\n",
            "        <genres>\n",
            "\t    <genre>Sci-Fi</genre>\n",
            "            <genre>Action</genre>    \n",
            "        </genres>\n",
            "        <directors>\n",
            "            <director>Anthony Russo</director>\n",
            "            <director>Joe Russo</director>\n",
            "        </directors>\n",
            "        <composers>\n",
            "            <composer>Alan Silvestri</composer>\n",
            "        </composers>\n",
            "        <cast>\n",
            "            <actor>Robert Downey Jr.</actor>\n",
            "            <actor>Chris Evans</actor>\n",
            "            <actor>Mark Ruffalo</actor>\n",
            "            <actor>Chris Hemsworth</actor>\n",
            "            <actor>Scarlett Johansson</actor>\n",
            "            <actor>Jeremy Renner</actor>\n",
            "            <actor>Paul Rudd</actor>\n",
            "        </cast>\n",
            "        <releaseDate>2019-04-26</releaseDate>\n",
            "        <boxOffice>2797800564</boxOffice>\n",
            "        <ageRating>13+</ageRating>\n",
            "        <viewers>220000000</viewers>\n",
            "        <originalLanguage>English</originalLanguage>\n",
            "    </movie>\n",
            "\t\n",
            "\t\n"
          ]
        }
      ]
    },
    {
      "cell_type": "markdown",
      "source": [
        "c)      Получить все фильмы, в которых указанный человек (задается в запросе константой) является и режиссером и актором одновременно."
      ],
      "metadata": {
        "id": "8gxWT43tBW_3"
      }
    },
    {
      "cell_type": "code",
      "source": [
        "all_films_same_director_and_actor= xml_tree.xpath(\"/movies/movie[directors/director = 'Bradley Cooper' and cast/actor = 'Bradley Cooper']\")\n",
        "for film in all_films_same_director_and_actor:\n",
        "    print(etree.tostring(film, encoding=str))"
      ],
      "metadata": {
        "id": "MfzS5y7eAxDS",
        "colab": {
          "base_uri": "https://localhost:8080/"
        },
        "outputId": "2a93b713-4932-4295-fd71-dd342efdbc44"
      },
      "execution_count": null,
      "outputs": [
        {
          "output_type": "stream",
          "name": "stdout",
          "text": [
            "<movie id=\"7\" country=\"USA\">\n",
            "\t\t<title>A Star Is Born</title>\n",
            "\t\t<genres>\n",
            "\t\t\t<genre>Drama</genre>\n",
            "\t\t\t<genre>Music</genre>\n",
            "\t\t</genres>\n",
            "\t\t<directors>\n",
            "\t\t\t<director>Bradley Cooper</director>\n",
            "\t\t</directors>\n",
            "\t\t<composers>\n",
            "\t\t\t<composer>Lady Gaga</composer>\n",
            "\t\t</composers>\n",
            "\t\t<cast>\n",
            "\t\t\t<actor>Bradley Cooper</actor>\n",
            "\t\t\t<actor>Lady Gaga</actor>\n",
            "\t\t</cast>\n",
            "\t\t<releaseDate>2018-10-05</releaseDate>\n",
            "\t\t<boxOffice>436200000</boxOffice>\n",
            "\t\t<ageRating>18+</ageRating>\n",
            "\t\t<viewers>70000000</viewers>\n",
            "\t\t<originalLanguage>English</originalLanguage>\n",
            "\t</movie>\n",
            "\n",
            "\n"
          ]
        }
      ]
    },
    {
      "cell_type": "markdown",
      "source": [
        "d)      Сформировать список просмотра из заданного количества фильмов указанного жанра. Порядок фильмов определяется случайным образом"
      ],
      "metadata": {
        "id": "kIVYRVvNBgqZ"
      }
    },
    {
      "cell_type": "code",
      "source": [
        "import random"
      ],
      "metadata": {
        "id": "t6t5IVb7JEmR"
      },
      "execution_count": null,
      "outputs": []
    },
    {
      "cell_type": "code",
      "source": [
        "def get_random_movies(xml_tree, genre, count):\n",
        "    movies_of_genre = xml_tree.xpath(f\"/movies/movie[genres/genre = '{genre}']\")\n",
        "    random.shuffle(movies_of_genre)\n",
        "    return movies_of_genre[:count]"
      ],
      "metadata": {
        "id": "g8eoznQnA4ps"
      },
      "execution_count": null,
      "outputs": []
    },
    {
      "cell_type": "code",
      "source": [
        "genre = \"Sci-Fi\"\n",
        "count = 2\n",
        "random_movies = get_random_movies(xml_tree, genre, count)\n",
        "for film in random_movies:\n",
        "  print(etree.tostring(film, encoding=str))"
      ],
      "metadata": {
        "id": "JXJDkwHGJG-6",
        "colab": {
          "base_uri": "https://localhost:8080/"
        },
        "outputId": "9e608928-3030-40aa-a43d-86892251772f"
      },
      "execution_count": null,
      "outputs": [
        {
          "output_type": "stream",
          "name": "stdout",
          "text": [
            "<movie id=\"6\" country=\"USA\">\n",
            "        <title>Avengers: Endgame</title>\n",
            "        <genres>\n",
            "\t    <genre>Sci-Fi</genre>\n",
            "            <genre>Action</genre>    \n",
            "        </genres>\n",
            "        <directors>\n",
            "            <director>Anthony Russo</director>\n",
            "            <director>Joe Russo</director>\n",
            "        </directors>\n",
            "        <composers>\n",
            "            <composer>Alan Silvestri</composer>\n",
            "        </composers>\n",
            "        <cast>\n",
            "            <actor>Robert Downey Jr.</actor>\n",
            "            <actor>Chris Evans</actor>\n",
            "            <actor>Mark Ruffalo</actor>\n",
            "            <actor>Chris Hemsworth</actor>\n",
            "            <actor>Scarlett Johansson</actor>\n",
            "            <actor>Jeremy Renner</actor>\n",
            "            <actor>Paul Rudd</actor>\n",
            "        </cast>\n",
            "        <releaseDate>2019-04-26</releaseDate>\n",
            "        <boxOffice>2797800564</boxOffice>\n",
            "        <ageRating>13+</ageRating>\n",
            "        <viewers>220000000</viewers>\n",
            "        <originalLanguage>English</originalLanguage>\n",
            "    </movie>\n",
            "\t\n",
            "\t\n",
            "<movie id=\"3\" country=\"USA\">\n",
            "        <title>Avatar</title>\n",
            "        <genres>\n",
            "            <genre>Sci-Fi</genre>\n",
            "            <genre>Adventure</genre>\n",
            "        </genres>\n",
            "        <directors>\n",
            "            <director>James Cameron</director>\n",
            "        </directors>\n",
            "        <composers>\n",
            "            <composer>James Horner</composer>\n",
            "        </composers>\n",
            "        <cast>\n",
            "            <actor>Sam Worthington</actor>\n",
            "            <actor>Zoe Saldana</actor>\n",
            "        </cast>\n",
            "        <releaseDate>2009-12-18</releaseDate>\n",
            "        <boxOffice>2847246203</boxOffice>\n",
            "        <ageRating>13+</ageRating>\n",
            "        <viewers>200000000</viewers>\n",
            "        <originalLanguage>English</originalLanguage>\n",
            "    </movie>\n",
            "\n",
            "    \n"
          ]
        }
      ]
    },
    {
      "cell_type": "markdown",
      "source": [
        "e)      Собственный запрос с использование минимум двух функций count(), contains(), position(), sum() и др"
      ],
      "metadata": {
        "id": "PtlbtBPqBdE1"
      }
    },
    {
      "cell_type": "code",
      "source": [
        "actor_count_where_genre_contains_Sci_fi = xml_tree.xpath(\"count(//movie[contains(genres/genre, 'Sci-Fi')]/cast/actor)\")\n",
        "print(actor_count_where_genre_contains_Sci_fi)\n",
        "total_actors_where_genre_contains_Sci_fi = xml_tree.xpath(\"//movie[contains(genres/genre, 'Sci-Fi')]/cast/actor\")\n",
        "for actor in total_actors_where_genre_contains_Sci_fi:\n",
        "  print(etree.tostring(actor, encoding=str))"
      ],
      "metadata": {
        "id": "AYjGmEboB3Bv",
        "colab": {
          "base_uri": "https://localhost:8080/"
        },
        "outputId": "39738487-9994-4850-9c85-ebdc687d3e07"
      },
      "execution_count": null,
      "outputs": [
        {
          "output_type": "stream",
          "name": "stdout",
          "text": [
            "12.0\n",
            "<actor>Leonardo DiCaprio</actor>\n",
            "            \n",
            "<actor>Joseph Gordon-Levitt</actor>\n",
            "            \n",
            "<actor>Elliot Page</actor>\n",
            "        \n",
            "<actor>Sam Worthington</actor>\n",
            "            \n",
            "<actor>Zoe Saldana</actor>\n",
            "        \n",
            "<actor>Robert Downey Jr.</actor>\n",
            "            \n",
            "<actor>Chris Evans</actor>\n",
            "            \n",
            "<actor>Mark Ruffalo</actor>\n",
            "            \n",
            "<actor>Chris Hemsworth</actor>\n",
            "            \n",
            "<actor>Scarlett Johansson</actor>\n",
            "            \n",
            "<actor>Jeremy Renner</actor>\n",
            "            \n",
            "<actor>Paul Rudd</actor>\n",
            "        \n"
          ]
        }
      ]
    },
    {
      "cell_type": "markdown",
      "source": [
        "Описать DTD схему для разработанного формата. Произвести валидацию xml-документа"
      ],
      "metadata": {
        "id": "rSM7KzdfQD1e"
      }
    },
    {
      "cell_type": "code",
      "source": [
        "dtd_file = 'movies.dtd'"
      ],
      "metadata": {
        "id": "silebuoEQHnZ"
      },
      "execution_count": null,
      "outputs": []
    },
    {
      "cell_type": "code",
      "source": [
        "DTD = etree.DTD(dtd_file)"
      ],
      "metadata": {
        "id": "lN5uSZ1UQHna"
      },
      "execution_count": null,
      "outputs": []
    },
    {
      "cell_type": "code",
      "source": [
        "is_valid = DTD.validate(xml_tree)\n",
        "if is_valid:\n",
        "    print(\"XML-документ валиден!\")\n",
        "else:\n",
        "    print(\"XML-документ невалиден!\")\n",
        "    print(DTD.error_log)"
      ],
      "metadata": {
        "colab": {
          "base_uri": "https://localhost:8080/"
        },
        "id": "MSxeSJzqQVKK",
        "outputId": "96ff6ce9-e3e9-4518-a5e1-596382ab7c15"
      },
      "execution_count": null,
      "outputs": [
        {
          "output_type": "stream",
          "name": "stdout",
          "text": [
            "XML-документ валиден!\n"
          ]
        }
      ]
    },
    {
      "cell_type": "markdown",
      "source": [
        "  Описать XML Schema для разработанного формата. Произвести валидацию xml-документа."
      ],
      "metadata": {
        "id": "PUGPXuDKS2Sx"
      }
    },
    {
      "cell_type": "code",
      "source": [
        "xsd_file = 'movies.xsd'"
      ],
      "metadata": {
        "id": "dn3Un5pgQ3Ls"
      },
      "execution_count": null,
      "outputs": []
    },
    {
      "cell_type": "code",
      "source": [
        "with open(xsd_file, 'rb') as xsd:\n",
        "    schema_doc = etree.parse(xsd)\n",
        "    schema = etree.XMLSchema(schema_doc)"
      ],
      "metadata": {
        "id": "T2g2HnE3Ts9b"
      },
      "execution_count": null,
      "outputs": []
    },
    {
      "cell_type": "code",
      "source": [
        "if schema.validate(xml_tree):\n",
        "    print(\"XML документ прошел валидацию!\")\n",
        "else:\n",
        "    print(\"XML документ не прошел валидацию.\")\n",
        "    for error in schema.error_log:\n",
        "        print(f\"Ошибка: {error.message} на строке {error.line}\")"
      ],
      "metadata": {
        "colab": {
          "base_uri": "https://localhost:8080/"
        },
        "id": "lwVIYbnwT5dM",
        "outputId": "cd21df4d-c910-4a50-c704-813c5e987303"
      },
      "execution_count": null,
      "outputs": [
        {
          "output_type": "stream",
          "name": "stdout",
          "text": [
            "XML документ прошел валидацию!\n"
          ]
        }
      ]
    },
    {
      "cell_type": "markdown",
      "source": [
        "   Описать XSLT-преобразование xml-документа в текстовый вид (*.txt)."
      ],
      "metadata": {
        "id": "8adYqLXbVucB"
      }
    },
    {
      "cell_type": "code",
      "source": [
        "xslt_file_to_txt = 'movies_to_txt.xslt'\n",
        "output_xml_to_txt = 'xml_to_txt.txt'"
      ],
      "metadata": {
        "id": "kbBEj9IxVq7v"
      },
      "execution_count": null,
      "outputs": []
    },
    {
      "cell_type": "code",
      "source": [
        "with open(xslt_file_to_txt, 'rb') as xslt_f:\n",
        "    xslt_doc = etree.parse(xslt_f)\n",
        "    transformer = etree.XSLT(xslt_doc)"
      ],
      "metadata": {
        "id": "mmooWxqRYax_"
      },
      "execution_count": null,
      "outputs": []
    },
    {
      "cell_type": "code",
      "source": [
        "with open(xml_file, 'rb') as xml_f:\n",
        "    xml_doc = etree.parse(xml_f)"
      ],
      "metadata": {
        "id": "VfgO18PEYujB"
      },
      "execution_count": null,
      "outputs": []
    },
    {
      "cell_type": "code",
      "source": [
        "result_tree = transformer(xml_doc)"
      ],
      "metadata": {
        "id": "8GUP3eM2YeXk"
      },
      "execution_count": null,
      "outputs": []
    },
    {
      "cell_type": "code",
      "source": [
        "with open(output_xml_to_txt, 'w', encoding='utf-8') as out_f:\n",
        "    out_f.write(str(result_tree))"
      ],
      "metadata": {
        "id": "Yr3EI1fcYhVN"
      },
      "execution_count": null,
      "outputs": []
    },
    {
      "cell_type": "markdown",
      "source": [
        "Описать XSLT-преобразование xml-документа в html-страницу (информация должна быть представлено в табличном виде), при оформлении таблицы использованы стили"
      ],
      "metadata": {
        "id": "aCc8SJe0bGbF"
      }
    },
    {
      "cell_type": "code",
      "source": [
        "xslt_file_to_html = 'movies_to_html.xslt'\n",
        "output_xml_to_html = 'xml_to_html.html'"
      ],
      "metadata": {
        "id": "Arzl5AwJbKN_"
      },
      "execution_count": null,
      "outputs": []
    },
    {
      "cell_type": "code",
      "source": [
        "with open(xslt_file_to_html, 'rb') as xslt_f:\n",
        "    xslt_doc = etree.parse(xslt_f)\n",
        "    transformer = etree.XSLT(xslt_doc)"
      ],
      "metadata": {
        "id": "O4O5ug9YcS0C"
      },
      "execution_count": null,
      "outputs": []
    },
    {
      "cell_type": "code",
      "source": [
        "with open(xml_file, 'rb') as xml_f:\n",
        "    xml_doc = etree.parse(xml_f)"
      ],
      "metadata": {
        "id": "gXkYCl2icYfv"
      },
      "execution_count": null,
      "outputs": []
    },
    {
      "cell_type": "code",
      "source": [
        "result_tree = transformer(xml_doc)"
      ],
      "metadata": {
        "id": "-ahpPQkxcZir"
      },
      "execution_count": null,
      "outputs": []
    },
    {
      "cell_type": "code",
      "source": [
        "with open(output_xml_to_html, 'wb') as out_f:\n",
        "    out_f.write(etree.tostring(result_tree, pretty_print=True, method='html', encoding='utf-8'))"
      ],
      "metadata": {
        "id": "JtU5Vv1qccmG"
      },
      "execution_count": null,
      "outputs": []
    },
    {
      "cell_type": "markdown",
      "source": [
        "# JSON"
      ],
      "metadata": {
        "id": "0W4pMAWfpWQ7"
      }
    },
    {
      "cell_type": "code",
      "source": [
        "import json"
      ],
      "metadata": {
        "id": "Jdm-ac3CqxL5"
      },
      "execution_count": null,
      "outputs": []
    },
    {
      "cell_type": "code",
      "source": [
        "json_file_path = 'movies.json'"
      ],
      "metadata": {
        "id": "jeW96JHRqz5X"
      },
      "execution_count": null,
      "outputs": []
    },
    {
      "cell_type": "code",
      "source": [
        "with open(json_file_path, \"r\", encoding=\"utf-8\") as json_file:\n",
        "    data = json.load(json_file)"
      ],
      "metadata": {
        "id": "c53l8pz0pcUw"
      },
      "execution_count": null,
      "outputs": []
    },
    {
      "cell_type": "markdown",
      "source": [
        "a)      Получить все фильмы указанного жанра (задается в запросе константой)."
      ],
      "metadata": {
        "id": "jxQgaV7_rfCI"
      }
    },
    {
      "cell_type": "code",
      "execution_count": null,
      "metadata": {
        "colab": {
          "base_uri": "https://localhost:8080/"
        },
        "outputId": "493f8a1c-ffe3-451c-b81f-04d37437834e",
        "id": "Wo2kWdoxrfCK"
      },
      "outputs": [
        {
          "output_type": "stream",
          "name": "stdout",
          "text": [
            "{\n",
            "  \"@id\": \"1\",\n",
            "  \"@country\": \"USA\",\n",
            "  \"title\": \"Inception\",\n",
            "  \"genres\": {\n",
            "    \"genre\": [\n",
            "      \"Sci-Fi\",\n",
            "      \"Thriller\"\n",
            "    ]\n",
            "  },\n",
            "  \"directors\": {\n",
            "    \"director\": [\n",
            "      \"Christopher Nolan\"\n",
            "    ]\n",
            "  },\n",
            "  \"composers\": {\n",
            "    \"composer\": [\n",
            "      \"Hans Zimmer\"\n",
            "    ]\n",
            "  },\n",
            "  \"cast\": {\n",
            "    \"actor\": [\n",
            "      \"Leonardo DiCaprio\",\n",
            "      \"Joseph Gordon-Levitt\",\n",
            "      \"Elliot Page\"\n",
            "    ]\n",
            "  },\n",
            "  \"releaseDate\": \"2010-07-16\",\n",
            "  \"boxOffice\": 829895144,\n",
            "  \"ageRating\": \"13+\",\n",
            "  \"viewers\": 90000000,\n",
            "  \"originalLanguage\": \"English\"\n",
            "}\n",
            "{\n",
            "  \"@id\": \"3\",\n",
            "  \"@country\": \"USA\",\n",
            "  \"title\": \"Avatar\",\n",
            "  \"genres\": {\n",
            "    \"genre\": [\n",
            "      \"Sci-Fi\",\n",
            "      \"Adventure\"\n",
            "    ]\n",
            "  },\n",
            "  \"directors\": {\n",
            "    \"director\": [\n",
            "      \"James Cameron\"\n",
            "    ]\n",
            "  },\n",
            "  \"composers\": {\n",
            "    \"composer\": [\n",
            "      \"James Horner\"\n",
            "    ]\n",
            "  },\n",
            "  \"cast\": {\n",
            "    \"actor\": [\n",
            "      \"Sam Worthington\",\n",
            "      \"Zoe Saldana\"\n",
            "    ]\n",
            "  },\n",
            "  \"releaseDate\": \"2009-12-18\",\n",
            "  \"boxOffice\": 2847246203,\n",
            "  \"ageRating\": \"13+\",\n",
            "  \"viewers\": 200000000,\n",
            "  \"originalLanguage\": \"English\"\n",
            "}\n",
            "{\n",
            "  \"@id\": \"6\",\n",
            "  \"@country\": \"USA\",\n",
            "  \"title\": \"Avengers: Endgame\",\n",
            "  \"genres\": {\n",
            "    \"genre\": [\n",
            "      \"Action\",\n",
            "      \"Sci-Fi\"\n",
            "    ]\n",
            "  },\n",
            "  \"directors\": {\n",
            "    \"director\": [\n",
            "      \"Anthony Russo\",\n",
            "      \"Joe Russo\"\n",
            "    ]\n",
            "  },\n",
            "  \"composers\": {\n",
            "    \"composer\": [\n",
            "      \"Alan Silvestri\"\n",
            "    ]\n",
            "  },\n",
            "  \"cast\": {\n",
            "    \"actor\": [\n",
            "      \"Robert Downey Jr.\",\n",
            "      \"Chris Evans\",\n",
            "      \"Mark Ruffalo\",\n",
            "      \"Chris Hemsworth\",\n",
            "      \"Scarlett Johansson\",\n",
            "      \"Jeremy Renner\",\n",
            "      \"Paul Rudd\"\n",
            "    ]\n",
            "  },\n",
            "  \"releaseDate\": \"2019-04-26\",\n",
            "  \"boxOffice\": 2797800564,\n",
            "  \"ageRating\": \"13+\",\n",
            "  \"viewers\": 220000000,\n",
            "  \"originalLanguage\": \"English\"\n",
            "}\n"
          ]
        }
      ],
      "source": [
        "# Константа для жанра\n",
        "genre_to_find = \"Sci-Fi\"\n",
        "\n",
        "# Фильтрация фильмов по жанру\n",
        "all_films_by_genre = [\n",
        "    movie for movie in data[\"movies\"][\"movie\"]\n",
        "    if genre_to_find in movie[\"genres\"][\"genre\"]\n",
        "]\n",
        "\n",
        "# Вывод всех фильмов указанного жанра\n",
        "for film in all_films_by_genre:\n",
        "    print(json.dumps(film, indent=2, ensure_ascii=False))"
      ]
    },
    {
      "cell_type": "markdown",
      "source": [
        "b)      Получить все фильмы с актерским составом белее пяти человек."
      ],
      "metadata": {
        "id": "HMT90gRorw7z"
      }
    },
    {
      "cell_type": "code",
      "source": [
        "# Получаем все фильмы с более чем пятью актерами\n",
        "films_with_more_than_5_actors = [\n",
        "    film for film in data[\"movies\"][\"movie\"] if len(film[\"cast\"][\"actor\"]) > 5\n",
        "]\n",
        "\n",
        "# Выводим результат\n",
        "for film in films_with_more_than_5_actors:\n",
        "    print(json.dumps(film, indent=2, ensure_ascii=False))"
      ],
      "metadata": {
        "colab": {
          "base_uri": "https://localhost:8080/"
        },
        "outputId": "3ac5c23a-6576-4697-9699-89548d1a4180",
        "collapsed": true,
        "id": "qtN92z00rw7z"
      },
      "execution_count": null,
      "outputs": [
        {
          "output_type": "stream",
          "name": "stdout",
          "text": [
            "{\n",
            "  \"@id\": \"6\",\n",
            "  \"@country\": \"USA\",\n",
            "  \"title\": \"Avengers: Endgame\",\n",
            "  \"genres\": {\n",
            "    \"genre\": [\n",
            "      \"Action\",\n",
            "      \"Sci-Fi\"\n",
            "    ]\n",
            "  },\n",
            "  \"directors\": {\n",
            "    \"director\": [\n",
            "      \"Anthony Russo\",\n",
            "      \"Joe Russo\"\n",
            "    ]\n",
            "  },\n",
            "  \"composers\": {\n",
            "    \"composer\": [\n",
            "      \"Alan Silvestri\"\n",
            "    ]\n",
            "  },\n",
            "  \"cast\": {\n",
            "    \"actor\": [\n",
            "      \"Robert Downey Jr.\",\n",
            "      \"Chris Evans\",\n",
            "      \"Mark Ruffalo\",\n",
            "      \"Chris Hemsworth\",\n",
            "      \"Scarlett Johansson\",\n",
            "      \"Jeremy Renner\",\n",
            "      \"Paul Rudd\"\n",
            "    ]\n",
            "  },\n",
            "  \"releaseDate\": \"2019-04-26\",\n",
            "  \"boxOffice\": 2797800564,\n",
            "  \"ageRating\": \"13+\",\n",
            "  \"viewers\": 220000000,\n",
            "  \"originalLanguage\": \"English\"\n",
            "}\n"
          ]
        }
      ]
    },
    {
      "cell_type": "markdown",
      "source": [
        "\n",
        "c)      Получить все фильмы, в которых указанный человек (задается в запросе константой) является и режиссером и актором одновременно."
      ],
      "metadata": {
        "id": "LG3RUKnesgEk"
      }
    },
    {
      "cell_type": "code",
      "source": [
        "person_name = 'Bradley Cooper'\n",
        "\n",
        "films_with_director_and_actor = [\n",
        "    film for film in data[\"movies\"][\"movie\"]\n",
        "    if person_name in film[\"directors\"][\"director\"] and person_name in film[\"cast\"][\"actor\"]\n",
        "]\n",
        "\n",
        "# Выводим результат\n",
        "for film in films_with_director_and_actor:\n",
        "  print(json.dumps(film, indent=2, ensure_ascii=False))"
      ],
      "metadata": {
        "colab": {
          "base_uri": "https://localhost:8080/"
        },
        "outputId": "ca9ef5d4-c829-49e7-99e0-c366c6be9892",
        "id": "X8I6lZ_YsgEk"
      },
      "execution_count": null,
      "outputs": [
        {
          "output_type": "stream",
          "name": "stdout",
          "text": [
            "{\n",
            "  \"@id\": \"7\",\n",
            "  \"@country\": \"USA\",\n",
            "  \"title\": \"A Star Is Born\",\n",
            "  \"genres\": {\n",
            "    \"genre\": [\n",
            "      \"Drama\",\n",
            "      \"Music\"\n",
            "    ]\n",
            "  },\n",
            "  \"directors\": {\n",
            "    \"director\": [\n",
            "      \"Bradley Cooper\"\n",
            "    ]\n",
            "  },\n",
            "  \"composers\": {\n",
            "    \"composer\": [\n",
            "      \"Lady Gaga\"\n",
            "    ]\n",
            "  },\n",
            "  \"cast\": {\n",
            "    \"actor\": [\n",
            "      \"Bradley Cooper\",\n",
            "      \"Lady Gaga\"\n",
            "    ]\n",
            "  },\n",
            "  \"releaseDate\": \"2018-10-05\",\n",
            "  \"boxOffice\": 436200000,\n",
            "  \"ageRating\": \"18+\",\n",
            "  \"viewers\": 70000000,\n",
            "  \"originalLanguage\": \"English\"\n",
            "}\n"
          ]
        }
      ]
    },
    {
      "cell_type": "markdown",
      "source": [
        "d)      Сформировать список просмотра из заданного количества фильмов указанного жанра. Порядок фильмов определяется случайным образом"
      ],
      "metadata": {
        "id": "2twue9dEtoKd"
      }
    },
    {
      "cell_type": "code",
      "source": [
        "import random"
      ],
      "metadata": {
        "id": "1XJmCoKItoKe"
      },
      "execution_count": null,
      "outputs": []
    },
    {
      "cell_type": "code",
      "source": [
        "def get_random_movies(data, genre, count):\n",
        "    movies_of_genre = [\n",
        "        film for film in data[\"movies\"][\"movie\"]\n",
        "        if genre in film[\"genres\"][\"genre\"]\n",
        "    ]\n",
        "    random.shuffle(movies_of_genre)\n",
        "    return movies_of_genre[:count]"
      ],
      "metadata": {
        "id": "YJJxZwHlt04O"
      },
      "execution_count": null,
      "outputs": []
    },
    {
      "cell_type": "code",
      "source": [
        "genre = \"Sci-Fi\"\n",
        "count = 2\n",
        "\n",
        "random_movies = get_random_movies(data, genre, count)"
      ],
      "metadata": {
        "id": "gFbjMcVjt3Or"
      },
      "execution_count": null,
      "outputs": []
    },
    {
      "cell_type": "code",
      "source": [
        "for film in random_movies:\n",
        "   print(json.dumps(film, indent=2, ensure_ascii=False))"
      ],
      "metadata": {
        "id": "-FH975d4t5q2",
        "colab": {
          "base_uri": "https://localhost:8080/"
        },
        "outputId": "a2a2c30d-9e2c-475d-ba52-2ddba1c192a7"
      },
      "execution_count": null,
      "outputs": [
        {
          "output_type": "stream",
          "name": "stdout",
          "text": [
            "{\n",
            "  \"@id\": \"6\",\n",
            "  \"@country\": \"USA\",\n",
            "  \"title\": \"Avengers: Endgame\",\n",
            "  \"genres\": {\n",
            "    \"genre\": [\n",
            "      \"Action\",\n",
            "      \"Sci-Fi\"\n",
            "    ]\n",
            "  },\n",
            "  \"directors\": {\n",
            "    \"director\": [\n",
            "      \"Anthony Russo\",\n",
            "      \"Joe Russo\"\n",
            "    ]\n",
            "  },\n",
            "  \"composers\": {\n",
            "    \"composer\": [\n",
            "      \"Alan Silvestri\"\n",
            "    ]\n",
            "  },\n",
            "  \"cast\": {\n",
            "    \"actor\": [\n",
            "      \"Robert Downey Jr.\",\n",
            "      \"Chris Evans\",\n",
            "      \"Mark Ruffalo\",\n",
            "      \"Chris Hemsworth\",\n",
            "      \"Scarlett Johansson\",\n",
            "      \"Jeremy Renner\",\n",
            "      \"Paul Rudd\"\n",
            "    ]\n",
            "  },\n",
            "  \"releaseDate\": \"2019-04-26\",\n",
            "  \"boxOffice\": 2797800564,\n",
            "  \"ageRating\": \"13+\",\n",
            "  \"viewers\": 220000000,\n",
            "  \"originalLanguage\": \"English\"\n",
            "}\n",
            "{\n",
            "  \"@id\": \"1\",\n",
            "  \"@country\": \"USA\",\n",
            "  \"title\": \"Inception\",\n",
            "  \"genres\": {\n",
            "    \"genre\": [\n",
            "      \"Sci-Fi\",\n",
            "      \"Thriller\"\n",
            "    ]\n",
            "  },\n",
            "  \"directors\": {\n",
            "    \"director\": [\n",
            "      \"Christopher Nolan\"\n",
            "    ]\n",
            "  },\n",
            "  \"composers\": {\n",
            "    \"composer\": [\n",
            "      \"Hans Zimmer\"\n",
            "    ]\n",
            "  },\n",
            "  \"cast\": {\n",
            "    \"actor\": [\n",
            "      \"Leonardo DiCaprio\",\n",
            "      \"Joseph Gordon-Levitt\",\n",
            "      \"Elliot Page\"\n",
            "    ]\n",
            "  },\n",
            "  \"releaseDate\": \"2010-07-16\",\n",
            "  \"boxOffice\": 829895144,\n",
            "  \"ageRating\": \"13+\",\n",
            "  \"viewers\": 90000000,\n",
            "  \"originalLanguage\": \"English\"\n",
            "}\n"
          ]
        }
      ]
    },
    {
      "cell_type": "markdown",
      "source": [
        "e)      Собственный запрос с использование минимум двух функций count(), contains(), position(), sum() и др"
      ],
      "metadata": {
        "id": "3foeYsRwuD4x"
      }
    },
    {
      "cell_type": "code",
      "source": [
        "def count_actors_in_genre(data, genre):\n",
        "    actors_count = sum(\n",
        "        len(film[\"cast\"][\"actor\"])\n",
        "        for film in data[\"movies\"][\"movie\"]\n",
        "        if genre in film[\"genres\"][\"genre\"]\n",
        "    )\n",
        "    return actors_count"
      ],
      "metadata": {
        "id": "qTloun1kuD4x"
      },
      "execution_count": null,
      "outputs": []
    },
    {
      "cell_type": "code",
      "source": [
        "genre = \"Sci-Fi\"\n",
        "\n",
        "total_actors_count = count_actors_in_genre(data, genre)"
      ],
      "metadata": {
        "id": "jArv9ssEuS_R"
      },
      "execution_count": null,
      "outputs": []
    },
    {
      "cell_type": "code",
      "source": [
        "print(f\"Total actors in '{genre}' genre: {total_actors_count}\")"
      ],
      "metadata": {
        "id": "M3la-oONuVmz",
        "outputId": "9ddecb5e-eede-4ecc-93ff-cf85d8990deb",
        "colab": {
          "base_uri": "https://localhost:8080/"
        }
      },
      "execution_count": null,
      "outputs": [
        {
          "output_type": "stream",
          "name": "stdout",
          "text": [
            "Total actors in 'Sci-Fi' genre: 12\n"
          ]
        }
      ]
    },
    {
      "cell_type": "markdown",
      "source": [
        "Описать DTD схему для разработанного формата. Произвести валидацию xml-документа"
      ],
      "metadata": {
        "id": "db6BtrVOxj1P"
      }
    },
    {
      "cell_type": "markdown",
      "source": [
        "  Описать XML Schema для разработанного формата. Произвести валидацию xml-документа."
      ],
      "metadata": {
        "id": "GuVwdDa_xj1X"
      }
    },
    {
      "cell_type": "code",
      "source": [
        "from jsonschema import validate, ValidationError"
      ],
      "metadata": {
        "id": "c128By9ByZHE"
      },
      "execution_count": null,
      "outputs": []
    },
    {
      "cell_type": "code",
      "source": [
        "json_schema_file_path = 'json_schema.json'"
      ],
      "metadata": {
        "id": "q3vnipbrxyX7"
      },
      "execution_count": null,
      "outputs": []
    },
    {
      "cell_type": "code",
      "source": [
        "with open(json_schema_file_path, \"r\", encoding=\"utf-8\") as json_file:\n",
        "    json_schema = json.load(json_file)"
      ],
      "metadata": {
        "id": "Ouxz2rvZxyYD"
      },
      "execution_count": null,
      "outputs": []
    },
    {
      "cell_type": "code",
      "source": [
        "try:\n",
        "    validate(instance=data, schema=json_schema)\n",
        "    print(\"JSON документ валиден!\")\n",
        "except ValidationError as ve:\n",
        "    print(f\"Ошибка валидации: {ve.message}\")"
      ],
      "metadata": {
        "colab": {
          "base_uri": "https://localhost:8080/"
        },
        "id": "1sxmpa-Nx4v3",
        "outputId": "9a67dba6-5d49-4d48-e74a-1254ad3a16c7"
      },
      "execution_count": null,
      "outputs": [
        {
          "output_type": "stream",
          "name": "stdout",
          "text": [
            "JSON документ валиден!\n"
          ]
        }
      ]
    },
    {
      "cell_type": "markdown",
      "source": [
        "   Описать XSLT-преобразование xml-документа в текстовый вид (*.txt)."
      ],
      "metadata": {
        "id": "a7rBqBRMyrWX"
      }
    },
    {
      "cell_type": "code",
      "source": [
        "def json_to_txt(data):\n",
        "    movies = data[\"movies\"][\"movie\"]\n",
        "    group = data[\"movies\"][\"@group\"]\n",
        "    output = f\"Group: {group}\\n\\n\"\n",
        "\n",
        "    for movie in movies:\n",
        "        output += f\"Movie ID: {movie['@id']}\\n\"\n",
        "        output += f\"Title: {movie['title']}\\n\"\n",
        "        output += f\"Country: {movie['@country']}\\n\"\n",
        "        output += f\"Genres: {', '.join(movie['genres']['genre'])}\\n\"\n",
        "        output += f\"Directors: {', '.join(movie['directors']['director'])}\\n\"\n",
        "        output += f\"Composers: {', '.join(movie['composers']['composer'])}\\n\"\n",
        "        output += f\"Cast: {', '.join(movie['cast']['actor'])}\\n\"\n",
        "        output += f\"Release Date: {movie['releaseDate']}\\n\"\n",
        "        output += f\"Box Office: {movie['boxOffice']}\\n\"\n",
        "        output += f\"Age Rating: {movie['ageRating']}\\n\"\n",
        "        output += f\"Viewers: {movie['viewers']}\\n\"\n",
        "        output += f\"Original Language: {movie['originalLanguage']}\\n\"\n",
        "        output += \"-\" * 40 + \"\\n\"\n",
        "\n",
        "    return output\n"
      ],
      "metadata": {
        "id": "sdmmzFwcyuFb"
      },
      "execution_count": null,
      "outputs": []
    },
    {
      "cell_type": "code",
      "source": [
        "txt_output = json_to_txt(data)"
      ],
      "metadata": {
        "id": "QCK8RtsEzMR0"
      },
      "execution_count": null,
      "outputs": []
    },
    {
      "cell_type": "code",
      "source": [
        "json_to_txt_file_name = \"json_to_txt.txt\""
      ],
      "metadata": {
        "id": "ZqsGuMU8zXzR"
      },
      "execution_count": null,
      "outputs": []
    },
    {
      "cell_type": "code",
      "source": [
        "with open(json_to_txt_file_name, \"w\") as file:\n",
        "    file.write(txt_output)"
      ],
      "metadata": {
        "id": "CVrbYXBezWLW"
      },
      "execution_count": null,
      "outputs": []
    },
    {
      "cell_type": "markdown",
      "source": [
        "Описать XSLT-преобразование xml-документа в html-страницу (информация должна быть представлено в табличном виде), при оформлении таблицы использованы стили"
      ],
      "metadata": {
        "id": "m8O0tq_TyiAf"
      }
    },
    {
      "cell_type": "code",
      "source": [
        "!pip install jinja2"
      ],
      "metadata": {
        "colab": {
          "base_uri": "https://localhost:8080/"
        },
        "id": "acKv5gitzkOc",
        "outputId": "10948050-535d-4b40-dfaa-af59bbc4cc9f"
      },
      "execution_count": null,
      "outputs": [
        {
          "output_type": "stream",
          "name": "stdout",
          "text": [
            "Requirement already satisfied: jinja2 in /usr/local/lib/python3.10/dist-packages (3.1.4)\n",
            "Requirement already satisfied: MarkupSafe>=2.0 in /usr/local/lib/python3.10/dist-packages (from jinja2) (3.0.2)\n"
          ]
        }
      ]
    },
    {
      "cell_type": "code",
      "source": [
        "from jinja2 import Template"
      ],
      "metadata": {
        "id": "IF9Rhdwr0PtI"
      },
      "execution_count": null,
      "outputs": []
    },
    {
      "cell_type": "code",
      "source": [
        "html_template = \"\"\"\n",
        "<!DOCTYPE html>\n",
        "<html lang=\"en\">\n",
        "<head>\n",
        "    <meta charset=\"UTF-8\">\n",
        "    <meta name=\"viewport\" content=\"width=device-width, initial-scale=1.0\">\n",
        "    <title>{{ group }} Movies</title>\n",
        "    <style>\n",
        "        table {\n",
        "            width: 100%;\n",
        "            border-collapse: collapse;\n",
        "        }\n",
        "        th, td {\n",
        "            border: 1px solid #ddd;\n",
        "            padding: 8px;\n",
        "            text-align: left;\n",
        "        }\n",
        "        th {\n",
        "            background-color: #f2f2f2;\n",
        "        }\n",
        "        tr:nth-child(even) {\n",
        "            background-color: #f9f9f9;\n",
        "        }\n",
        "    </style>\n",
        "</head>\n",
        "<body>\n",
        "    <h1>{{ group }}</h1>\n",
        "    <table>\n",
        "        <thead>\n",
        "            <tr>\n",
        "                <th>ID</th>\n",
        "                <th>Title</th>\n",
        "                <th>Country</th>\n",
        "                <th>Genres</th>\n",
        "                <th>Directors</th>\n",
        "                <th>Composers</th>\n",
        "                <th>Cast</th>\n",
        "                <th>Release Date</th>\n",
        "                <th>Box Office</th>\n",
        "                <th>Age Rating</th>\n",
        "                <th>Viewers</th>\n",
        "                <th>Original Language</th>\n",
        "            </tr>\n",
        "        </thead>\n",
        "        <tbody>\n",
        "            {% for movie in movies %}\n",
        "            <tr>\n",
        "                <td>{{ movie['@id'] }}</td>\n",
        "                <td>{{ movie['title'] }}</td>\n",
        "                <td>{{ movie['@country'] }}</td>\n",
        "                <td>{{ movie['genres']['genre'] | join(\", \") }}</td>\n",
        "                <td>{{ movie['directors']['director'] | join(\", \") }}</td>\n",
        "                <td>{{ movie['composers']['composer'] | join(\", \") }}</td>\n",
        "                <td>{{ movie['cast']['actor'] | join(\", \") }}</td>\n",
        "                <td>{{ movie['releaseDate'] }}</td>\n",
        "                <td>{{ movie['boxOffice'] }}</td>\n",
        "                <td>{{ movie['ageRating'] }}</td>\n",
        "                <td>{{ movie['viewers'] }}</td>\n",
        "                <td>{{ movie['originalLanguage'] }}</td>\n",
        "            </tr>\n",
        "            {% endfor %}\n",
        "        </tbody>\n",
        "    </table>\n",
        "</body>\n",
        "</html>\n",
        "\"\"\""
      ],
      "metadata": {
        "id": "XISdss7j0RwS"
      },
      "execution_count": null,
      "outputs": []
    },
    {
      "cell_type": "code",
      "source": [
        "template = Template(html_template)"
      ],
      "metadata": {
        "id": "z5WrrD3t0Wfa"
      },
      "execution_count": null,
      "outputs": []
    },
    {
      "cell_type": "code",
      "source": [
        "html_content = template.render(group=data['movies']['@group'], movies=data['movies']['movie'])"
      ],
      "metadata": {
        "id": "dLFg82Cq0Y49"
      },
      "execution_count": null,
      "outputs": []
    },
    {
      "cell_type": "code",
      "source": [
        "json_to_html_file_name = \"json_to_html.html\""
      ],
      "metadata": {
        "id": "g_WYHFRW0kqy"
      },
      "execution_count": null,
      "outputs": []
    },
    {
      "cell_type": "code",
      "source": [
        "with open(json_to_html_file_name, \"w\", encoding=\"utf-8\") as file:\n",
        "    file.write(html_content)"
      ],
      "metadata": {
        "id": "J_qoek1w0epK"
      },
      "execution_count": null,
      "outputs": []
    }
  ]
}