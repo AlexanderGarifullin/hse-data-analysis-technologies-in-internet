{
  "cells": [
    {
      "cell_type": "markdown",
      "metadata": {
        "id": "MNw9ls5Byhff"
      },
      "source": [
        "# API HH\n",
        "https://api.hh.ru/openapi/redoc#tag/Poisk-vakansij/operation/get-vacancies - описание api"
      ]
    },
    {
      "cell_type": "code",
      "execution_count": null,
      "metadata": {
        "id": "m8V5_X-laE7U"
      },
      "outputs": [],
      "source": [
        "import requests"
      ]
    },
    {
      "cell_type": "code",
      "execution_count": null,
      "metadata": {
        "id": "qbXmbrIEpatF"
      },
      "outputs": [],
      "source": [
        "# Тестовые пример\n",
        "# profession = \"Программист на Java\"\n",
        "# params = {\"text\": profession, \"page\": 0,\"per_page\": 5}\n",
        "# url = \"https://api.hh.ru/vacancies\"\n",
        "# response = requests.get(url, params=params)\n",
        "# data = response.json()\n",
        "# data[\"items\"][0]"
      ]
    },
    {
      "cell_type": "code",
      "execution_count": null,
      "metadata": {
        "id": "yhBAzHax9pc0"
      },
      "outputs": [],
      "source": [
        "# Список доступных хостов\n",
        "hosts = [\n",
        "    \"hh.ru\", \"rabota.by\", \"hh1.az\", \"hh.uz\", \"hh.kz\",\n",
        "    \"headhunter.ge\", \"headhunter.kg\"\n",
        "]"
      ]
    },
    {
      "cell_type": "code",
      "execution_count": null,
      "metadata": {
        "id": "dpScIuTkj7Rz"
      },
      "outputs": [],
      "source": [
        "# url_get_vacancies = \"https://api.hh.ru/vacancies\"\n",
        "def get_vacancies(text, per_page = 100, host =\"hh.ru\"):\n",
        "  url_get_vacancies = f\"https://api.{host}/vacancies\"\n",
        "\n",
        "  vacancies = []\n",
        "  print(text)\n",
        "  for page in range(20):\n",
        "      params = {\n",
        "          \"text\": text,\n",
        "          \"host\": host,\n",
        "          \"page\": page,\n",
        "          \"per_page\": per_page}\n",
        "      try:\n",
        "          response = requests.get(url_get_vacancies, params=params)\n",
        "          if response.status_code == 200:\n",
        "              data = response.json()\n",
        "              vacancies_per_page = data.get(\"items\", [])\n",
        "              if not vacancies_per_page:\n",
        "                  break\n",
        "              vacancies.extend(vacancies_per_page)\n",
        "          else:\n",
        "              break\n",
        "      except requests.RequestException as e:\n",
        "              print(f\"Ошибка при запросе вакансий: {e}\")\n",
        "              break\n",
        "  return vacancies"
      ]
    },
    {
      "cell_type": "code",
      "execution_count": null,
      "metadata": {
        "id": "g3Cxh9sA2n9u"
      },
      "outputs": [],
      "source": [
        "HOST_URLS = {\n",
        "    \"hh.ru\": \"https://api.hh.ru/vacancies/{}\",\n",
        "    \"rabota.by\": \"https://api.rabota.by/vacancies/{}\",\n",
        "    \"hh1.az\": \"https://api.hh1.az/vacancies/{}\",\n",
        "    \"hh.uz\": \"https://api.hh.uz/vacancies/{}\",\n",
        "    \"hh.kz\": \"https://api.hh.kz/vacancies/{}\",\n",
        "    \"headhunter.ge\": \"https://api.headhunter.ge/vacancies/{}\",\n",
        "    \"headhunter.kg\": \"https://api.headhunter.kg/vacancies/{}\"\n",
        "}\n",
        "#можете оптимизировать, если хотите)"
      ]
    },
    {
      "cell_type": "code",
      "execution_count": null,
      "metadata": {
        "id": "u73hFxOVs5h5"
      },
      "outputs": [],
      "source": [
        "url_get_full_vacancy_by_id = \"https://api.hh.ru/vacancies/{vacancy_id}\"\n",
        "def get_vacancy_by_id(vacancy_id, host =\"hh.ru\"):\n",
        "    \"\"\"\n",
        "    Получение вакансии по ID с учетом выбранного хоста\n",
        "\n",
        "    :param vacancy_id: ID вакансии\n",
        "    :param host: хост (по умолчанию hh.ru)\n",
        "    :return: JSON с информацией о вакансии или пустой список\n",
        "    \"\"\"\n",
        "    if host not in HOST_URLS:\n",
        "        print(f\"Неподдерживаемый хост: {host}\")\n",
        "        return []\n",
        "    # url = url_get_full_vacancy_by_id.format(vacancy_id=vacancy_id)\n",
        "    # Формируем URL для конкретного хоста\n",
        "    url = HOST_URLS[host].format(vacancy_id)\n",
        "    params = {\"host\": host}\n",
        "    response = requests.get(url, params=params)\n",
        "    if response.status_code == 200:\n",
        "        return response.json()\n",
        "    else:\n",
        "        print(f\"Ошибка при получении вакансии с ID {vacancy_id}: {response.status_code} {response.text}\")\n",
        "        return []"
      ]
    },
    {
      "cell_type": "code",
      "execution_count": null,
      "metadata": {
        "id": "xYhlXCietpih"
      },
      "outputs": [],
      "source": [
        "def get_full_vacancies(vacancies, host=\"hh.ru\", limit = 100):\n",
        "  \"\"\"\n",
        "    Получение полной информации о вакансиях\n",
        "\n",
        "    :param vacancies: список вакансий\n",
        "    :param host: хост (по умолчанию hh.ru)\n",
        "    :param limit: максимальное количество вакансий для обработки\n",
        "    :return: список полных вакансий\n",
        "    \"\"\"\n",
        "  print(\"start get_full_vacancies\")\n",
        "  print(limit)\n",
        "  print(host)\n",
        "  full_vacancies = []\n",
        "  for v in vacancies[:min(limit, len(vacancies))]:\n",
        "      vac = get_vacancy_by_id(v[\"id\"], host)\n",
        "      if not vac:\n",
        "          break\n",
        "      full_vacancies.append(vac)\n",
        "  return full_vacancies"
      ]
    },
    {
      "cell_type": "code",
      "execution_count": null,
      "metadata": {
        "id": "baK6vMY9rnF_"
      },
      "outputs": [],
      "source": [
        "# получить ссылку на страницу\n",
        "def get_url(text, host = \"hh.ru\"):\n",
        "    # Генерация URL для поиска вакансий\n",
        "    return f\"https://{host}/search/vacancy?text={text}\""
      ]
    },
    {
      "cell_type": "code",
      "execution_count": null,
      "metadata": {
        "id": "wX2zjlZLl5ZN"
      },
      "outputs": [],
      "source": [
        "# vacancies = get_vacancies(\"Программист на Java\")\n",
        "# print(len(vacancies))"
      ]
    },
    {
      "cell_type": "code",
      "execution_count": null,
      "metadata": {
        "id": "1SAm14tvvAI7"
      },
      "outputs": [],
      "source": [
        "# full_vanacies = get_full_vacancies(vacancies)\n",
        "# print(len(full_vanacies))"
      ]
    },
    {
      "cell_type": "markdown",
      "metadata": {
        "id": "idywZMZhSq-z"
      },
      "source": [
        "# БД"
      ]
    },
    {
      "cell_type": "code",
      "execution_count": null,
      "metadata": {
        "colab": {
          "base_uri": "https://localhost:8080/"
        },
        "id": "MwkoP5U7SrIX",
        "outputId": "c90a95f2-5710-407b-899a-9c3924733646"
      },
      "outputs": [
        {
          "name": "stdout",
          "output_type": "stream",
          "text": [
            "Collecting mysql-connector-python\n",
            "  Downloading mysql_connector_python-9.1.0-cp310-cp310-manylinux_2_28_x86_64.whl.metadata (6.0 kB)\n",
            "Downloading mysql_connector_python-9.1.0-cp310-cp310-manylinux_2_28_x86_64.whl (34.4 MB)\n",
            "\u001b[2K   \u001b[90m━━━━━━━━━━━━━━━━━━━━━━━━━━━━━━━━━━━━━━━━\u001b[0m \u001b[32m34.4/34.4 MB\u001b[0m \u001b[31m34.7 MB/s\u001b[0m eta \u001b[36m0:00:00\u001b[0m\n",
            "\u001b[?25hInstalling collected packages: mysql-connector-python\n",
            "Successfully installed mysql-connector-python-9.1.0\n"
          ]
        }
      ],
      "source": [
        "!pip install mysql-connector-python"
      ]
    },
    {
      "cell_type": "code",
      "execution_count": null,
      "metadata": {
        "id": "tIdfbCYEStOw"
      },
      "outputs": [],
      "source": [
        "import mysql.connector\n",
        "from mysql.connector import Error"
      ]
    },
    {
      "cell_type": "code",
      "execution_count": null,
      "metadata": {
        "id": "FHQLZoVtTV0t"
      },
      "outputs": [],
      "source": [
        "def get_db_connection():\n",
        "    return mysql.connector.connect(\n",
        "        host=\"host\",\n",
        "        user=\"user\",\n",
        "        password=\"pass\",\n",
        "        database=\"db\"\n",
        "    )"
      ]
    },
    {
      "cell_type": "code",
      "execution_count": null,
      "metadata": {
        "id": "nwnyC1dcYOkw"
      },
      "outputs": [],
      "source": [
        "db_connection = None"
      ]
    },
    {
      "cell_type": "code",
      "execution_count": null,
      "metadata": {
        "id": "8x00SOG1S6jy"
      },
      "outputs": [],
      "source": [
        "def log_message_to_db(message, host, vacancy_description):\n",
        "    if db_connection is None:\n",
        "        return\n",
        "    try:\n",
        "        cursor = db_connection.cursor()\n",
        "        insert_query = \"\"\"\n",
        "        INSERT INTO telegram_messages (message_id, user_id, first_name, username, message_date, text, host)\n",
        "        VALUES (%s, %s, %s, %s, %s, %s, %s)\n",
        "        \"\"\"\n",
        "        cursor.execute(\n",
        "            insert_query,\n",
        "            (\n",
        "                message.message_id,\n",
        "                message.from_user.id,\n",
        "                message.from_user.first_name,\n",
        "                message.from_user.username,\n",
        "                datetime.utcfromtimestamp(message.date),\n",
        "                vacancy_description,\n",
        "                host\n",
        "            ),\n",
        "        )\n",
        "        db_connection.commit()\n",
        "    except Error as e:\n",
        "        print(f\"Ошибка при сохранении сообщения: {e}\")"
      ]
    },
    {
      "cell_type": "markdown",
      "metadata": {
        "id": "21oDY9AkynwW"
      },
      "source": [
        "# ANALYZE"
      ]
    },
    {
      "cell_type": "markdown",
      "metadata": {
        "id": "q4wWjr3D653b"
      },
      "source": [
        "Что хотим получить в итоге?\n",
        "1. Требования\n",
        "- топ требований (например, стек технологий)\n",
        "- опыт работы\n",
        "- дополнителньые требования какие-то\n",
        "2. Обязанности\n",
        "- какие основные обязанности (собрать все обязанности, объеденить)\n",
        "3. Условия труда\n",
        "- Какой режим (онлайн/оффлайн/гибрид, какой график работы)\n",
        "- Условия труда (что предлагают, релокейт, плюшки)\n",
        "- В каком месте сколько вакансий (например, в москве 100 вакансий, в перми 20 вакансий)\n",
        "- ЗП (диапазон зарплат, график распределния зп, сравнеие по регионам, средняя зп)\n",
        "4. Идеальный кандидат (Собрать все данные и сделать из них \"идеального кандидата\", который подходит 90% вакансий.\n",
        "\n",
        "Вот какие-то короткие данные хочется получичить в качестве сообщения от тг бота текстом. Какие-то большие данные, подробности хочется получить в pdf файле. Например, все графики можно отправить в pdf. В сообщении просто, например, идеального кандидата"
      ]
    },
    {
      "cell_type": "markdown",
      "metadata": {
        "id": "FFhjTGsecekA"
      },
      "source": [
        "## Excel"
      ]
    },
    {
      "cell_type": "code",
      "execution_count": null,
      "metadata": {
        "colab": {
          "base_uri": "https://localhost:8080/"
        },
        "id": "S_LYQErQchaG",
        "outputId": "74852471-756e-4b59-9a00-51001395f60f"
      },
      "outputs": [
        {
          "name": "stdout",
          "output_type": "stream",
          "text": [
            "Requirement already satisfied: openpyxl in /usr/local/lib/python3.10/dist-packages (3.1.5)\n",
            "Requirement already satisfied: matplotlib in /usr/local/lib/python3.10/dist-packages (3.8.0)\n",
            "Requirement already satisfied: et-xmlfile in /usr/local/lib/python3.10/dist-packages (from openpyxl) (2.0.0)\n",
            "Requirement already satisfied: contourpy>=1.0.1 in /usr/local/lib/python3.10/dist-packages (from matplotlib) (1.3.1)\n",
            "Requirement already satisfied: cycler>=0.10 in /usr/local/lib/python3.10/dist-packages (from matplotlib) (0.12.1)\n",
            "Requirement already satisfied: fonttools>=4.22.0 in /usr/local/lib/python3.10/dist-packages (from matplotlib) (4.55.3)\n",
            "Requirement already satisfied: kiwisolver>=1.0.1 in /usr/local/lib/python3.10/dist-packages (from matplotlib) (1.4.7)\n",
            "Requirement already satisfied: numpy<2,>=1.21 in /usr/local/lib/python3.10/dist-packages (from matplotlib) (1.26.4)\n",
            "Requirement already satisfied: packaging>=20.0 in /usr/local/lib/python3.10/dist-packages (from matplotlib) (24.2)\n",
            "Requirement already satisfied: pillow>=6.2.0 in /usr/local/lib/python3.10/dist-packages (from matplotlib) (11.0.0)\n",
            "Requirement already satisfied: pyparsing>=2.3.1 in /usr/local/lib/python3.10/dist-packages (from matplotlib) (3.2.0)\n",
            "Requirement already satisfied: python-dateutil>=2.7 in /usr/local/lib/python3.10/dist-packages (from matplotlib) (2.8.2)\n",
            "Requirement already satisfied: six>=1.5 in /usr/local/lib/python3.10/dist-packages (from python-dateutil>=2.7->matplotlib) (1.17.0)\n"
          ]
        }
      ],
      "source": [
        "pip install openpyxl matplotlib"
      ]
    },
    {
      "cell_type": "code",
      "execution_count": null,
      "metadata": {
        "id": "OugiOuojcj93"
      },
      "outputs": [],
      "source": [
        "import matplotlib.pyplot as plt\n",
        "import io\n",
        "import os\n",
        "import openpyxl\n",
        "from openpyxl.drawing.image import Image\n",
        "from io import BytesIO\n",
        "from matplotlib.backends.backend_agg import FigureCanvasAgg as FigureCanvas\n",
        "import random\n",
        "from openpyxl.worksheet.table import Table, TableStyleInfo\n",
        "from openpyxl.styles import Font, Border, Side"
      ]
    },
    {
      "cell_type": "code",
      "execution_count": null,
      "metadata": {
        "id": "JGc7Fh9uq00M"
      },
      "outputs": [],
      "source": [
        "# Пример сохранения графика\n",
        "# def generate_graph():\n",
        "#     # Пример: создаем случайные данные для графика\n",
        "#     x = [1, 2, 3, 4, 5]\n",
        "#     y = [random.randint(1, 10) for _ in x]\n",
        "\n",
        "#     fig, ax = plt.subplots()\n",
        "#     ax.plot(x, y, label='Пример данных', color='blue')\n",
        "#     ax.set_title('Пример графика')\n",
        "#     ax.set_xlabel('X')\n",
        "#     ax.set_ylabel('Y')\n",
        "#     ax.legend()\n",
        "\n",
        "#     # Сохраняем график в памяти\n",
        "#     img_stream = BytesIO()\n",
        "#     canvas = FigureCanvas(fig)\n",
        "#     canvas.print_png(img_stream)\n",
        "#     img_stream.seek(0)\n",
        "\n",
        "#     return img_stream\n",
        "\n",
        "# # Функция для генерации Excel файла\n",
        "# def generate_excel(chat_id, text):\n",
        "#     # Создаем новый Excel файл\n",
        "#     wb = Workbook()\n",
        "#     ws = wb.active\n",
        "#     ws.title = \"Вакансии\"\n",
        "\n",
        "#     # Добавляем данные (например, сюда можно добавить информацию о вакансиях)\n",
        "#     ws.append([\"ID вакансии\", \"Название\", \"Зарплата\"])\n",
        "\n",
        "#     # Генерация графика\n",
        "#     img_stream = generate_graph()\n",
        "\n",
        "#     # Добавление графика в Excel файл\n",
        "#     img = Image(img_stream)\n",
        "#     img.anchor = 'E5'  # Позиция графика на листе\n",
        "#     ws.add_image(img)\n",
        "\n",
        "#     # Уникальное имя файла\n",
        "#     file_name = f\"{chat_id}_{text[:50]}.xlsx\"\n",
        "#     file_path = f\"/tmp/{file_name}\"\n",
        "\n",
        "#     return wb, file_path"
      ]
    },
    {
      "cell_type": "code",
      "execution_count": null,
      "metadata": {
        "id": "_K9QunCGcrih"
      },
      "outputs": [],
      "source": [
        "def create_empty_excel():\n",
        "    wb = Workbook()\n",
        "    return wb"
      ]
    },
    {
      "cell_type": "code",
      "execution_count": null,
      "metadata": {
        "id": "aVOrCwRAh7ys"
      },
      "outputs": [],
      "source": [
        "def save_excel_file(wb, chat_id, text, host):\n",
        "    file_name = f\"{chat_id}_{text[:50]}_{host[:(len(host)-3)]}.xlsx\"\n",
        "    file_path = f\"/tmp/{file_name}\"\n",
        "    wb.save(file_path)\n",
        "    return file_path"
      ]
    },
    {
      "cell_type": "code",
      "execution_count": null,
      "metadata": {
        "id": "sjRGv_aAc8PW"
      },
      "outputs": [],
      "source": [
        "def send_excel_file(wb, chat_id, text, host):\n",
        "    file_path = save_excel_file(wb, chat_id, text, host)\n",
        "    with open(file_path, \"rb\") as file:\n",
        "        bot.send_document(chat_id, file, caption=\"📗 Вот ваш файл с анализом!\")\n",
        "    os.remove(file_path)"
      ]
    },
    {
      "cell_type": "code",
      "execution_count": null,
      "metadata": {
        "id": "S5wVvrT-m5P0"
      },
      "outputs": [],
      "source": [
        "def add_excel_filter(wb, headers, sz):\n",
        "  ws = wb.active\n",
        "  ws.auto_filter.ref = f\"A1:{chr(65 + len(headers) - 1)}1\"\n",
        "  # table = Table(displayName=\"VacanciesTable\", ref=f\"A1:{chr(65 + len(headers) - 1)}{sz + 1}\")\n",
        "  # ws.add_table(table)\n",
        "  # style = TableStyleInfo(showFirstColumn=False, showLastColumn=False, showRowStripes=True, showColumnStripes=True)\n",
        "  # table.tableStyleInfo = style"
      ]
    },
    {
      "cell_type": "code",
      "execution_count": null,
      "metadata": {
        "id": "jQORZeH7wFkM"
      },
      "outputs": [],
      "source": [
        "def get_list_by_name(values):\n",
        "  new_list = []\n",
        "  for v in values:\n",
        "    new_list.append(v['name'])\n",
        "  return new_list"
      ]
    },
    {
      "cell_type": "code",
      "execution_count": null,
      "metadata": {
        "id": "KD3Sve-Jxv2a"
      },
      "outputs": [],
      "source": [
        "def get_string_list_by_name(values):\n",
        "  need = get_list_by_name(values)\n",
        "  if not need:\n",
        "    return \"\"\n",
        "  return \"; \".join(need)"
      ]
    },
    {
      "cell_type": "code",
      "execution_count": null,
      "metadata": {
        "id": "afTR48zY6HLO"
      },
      "outputs": [],
      "source": [
        "def set_all_borders(ws, data_range):\n",
        "    thin_border = Border(\n",
        "        left=Side(border_style=\"thin\"),\n",
        "        right=Side(border_style=\"thin\"),\n",
        "        top=Side(border_style=\"thin\"),\n",
        "        bottom=Side(border_style=\"thin\")\n",
        "    )\n",
        "\n",
        "    for row in ws[data_range]:\n",
        "        for cell in row:\n",
        "            cell.border = thin_border"
      ]
    },
    {
      "cell_type": "code",
      "execution_count": null,
      "metadata": {
        "id": "tbs8Y8ZXlhMu"
      },
      "outputs": [],
      "source": [
        "def print_excel_vacancies(wb, vacancies, host = \"hh.ru\"):\n",
        "  ws = wb.active\n",
        "  ws.title = \"Вакансии\"\n",
        "  if not vacancies:\n",
        "    return\n",
        "\n",
        "  headers = [\"ID вакансии\", \"Вакансия\", \"Город\", \"График работы\", \"Опыт работы\",\n",
        "             \"Занятость\", \"Ночные смены\", \"Стажировка\", \"Рабочие часы\",\n",
        "             \"Рабочие смены\", \"Профессиональные роли\", \"ЗП от\", \"ЗП до\", \"Валюта\",\n",
        "             \"Тип зарплаты\"]\n",
        "  ws.append(headers)\n",
        "  for cell in ws[1]:\n",
        "        cell.font = Font(bold=True)\n",
        "\n",
        "  for vacancy in vacancies:\n",
        "        vacancy_url = f\"https://{host}/vacancy/{vacancy['id']}\"\n",
        "\n",
        "        id = vacancy['id']\n",
        "        name = vacancy['name']\n",
        "        area = vacancy['area']['name']\n",
        "        graphic_work = vacancy['schedule']['name']\n",
        "        experience = vacancy['experience']['name']\n",
        "        employment = vacancy['employment']['name']\n",
        "\n",
        "        night_shifts = \"Есть\" if vacancy['night_shifts'] else \"Нет\"\n",
        "        internship = \"Есть\" if vacancy['internship'] else \"Нет\"\n",
        "\n",
        "        working_hours = get_string_list_by_name(vacancy['working_hours'])\n",
        "        work_schedule_by_days = get_string_list_by_name(vacancy['work_schedule_by_days'])\n",
        "        professional_roles = get_string_list_by_name(vacancy['professional_roles'])\n",
        "\n",
        "        salary_from = \"\"\n",
        "        salary_to = \"\"\n",
        "        currency = \"\"\n",
        "        gross = \"\"\n",
        "        if vacancy['salary'] is not None:\n",
        "          salary_from = vacancy['salary']['from'] if vacancy['salary']['from'] is not None else \"\"\n",
        "          salary_to = vacancy['salary']['to'] if vacancy['salary']['to'] is not None else \"\"\n",
        "          currency = vacancy['salary']['currency']\n",
        "          gross = \"До вычета\" if vacancy['salary']['gross'] else \"На руки\"\n",
        "\n",
        "        ws.append([f'=HYPERLINK(\"{vacancy_url}\", \"{id}\")',\n",
        "           name,\n",
        "           area,\n",
        "           graphic_work,\n",
        "           experience,\n",
        "           employment,\n",
        "           night_shifts,\n",
        "           internship,\n",
        "           working_hours,\n",
        "           work_schedule_by_days,\n",
        "           professional_roles,\n",
        "           salary_from,\n",
        "           salary_to,\n",
        "           currency,\n",
        "           gross\n",
        "           ])\n",
        "  rows_count = len(vacancies) + 1\n",
        "  columns_count = len(headers)\n",
        "  data_range = f\"A1:{chr(65 + columns_count - 1)}{rows_count}\"\n",
        "  set_all_borders(ws, data_range)\n",
        "  add_excel_filter(wb, headers, len(vacancies))"
      ]
    },
    {
      "cell_type": "code",
      "execution_count": null,
      "metadata": {
        "id": "7SrKDA9y14fG"
      },
      "outputs": [],
      "source": [
        "def print_excel_dict(wb, sorted_dict, name):\n",
        "  ws = wb.create_sheet(name)\n",
        "  wb.active = ws\n",
        "  headers = [name, \"Количество\"]\n",
        "  ws.append(headers)\n",
        "  for cell in ws[1]:\n",
        "        cell.font = Font(bold=True)\n",
        "  for val, c in sorted_dict:\n",
        "    ws.append([val, c])\n",
        "  rows_count = len(sorted_dict) + 1\n",
        "  columns_count = len(headers)\n",
        "  data_range = f\"A1:{chr(65 + columns_count - 1)}{rows_count}\"\n",
        "  set_all_borders(ws, data_range)"
      ]
    },
    {
      "cell_type": "code",
      "execution_count": null,
      "metadata": {
        "id": "P-6UNgjE4-5j"
      },
      "outputs": [],
      "source": [
        "from openpyxl.chart import PieChart, Reference, BarChart, Series\n",
        "from openpyxl.styles import Font, Border, Side\n",
        "from openpyxl import Workbook\n",
        "\n",
        "def add_pie_chart(ws, sorted_dict, chart_title):\n",
        "    # Создаем pie chart\n",
        "    pie = PieChart()\n",
        "    pie.title = chart_title\n",
        "    labels = Reference(ws, min_row=2, max_row=len(sorted_dict)+1, min_col=1)\n",
        "    data = Reference(ws, min_row=2, max_row=len(sorted_dict)+1, min_col=2)\n",
        "    pie.add_data(data, titles_from_data=False)\n",
        "    pie.set_categories(labels)\n",
        "\n",
        "    # Размещаем график справа от данных\n",
        "    ws.add_chart(pie, f\"D2\")"
      ]
    },
    {
      "cell_type": "code",
      "execution_count": null,
      "metadata": {
        "id": "Cza-K55c4_r9"
      },
      "outputs": [],
      "source": [
        "def add_bar_chart(ws, sorted_dict, chart_title):\n",
        "    # Создаем bar chart\n",
        "    bar = BarChart()\n",
        "    bar.type = \"col\"\n",
        "    bar.title = chart_title\n",
        "    labels = Reference(ws, min_row=2, max_row=len(sorted_dict)+1, min_col=1)\n",
        "    data = Reference(ws, min_row=2, max_row=len(sorted_dict)+1, min_col=2)\n",
        "    bar.add_data(data, titles_from_data=False)\n",
        "    bar.set_categories(labels)\n",
        "\n",
        "    # Размещаем график справа от данных\n",
        "    ws.add_chart(bar, f\"D2\")"
      ]
    },
    {
      "cell_type": "code",
      "execution_count": null,
      "metadata": {
        "id": "mnYUVjvK5Cq3"
      },
      "outputs": [],
      "source": [
        "def print_excel_dict(wb, sorted_dict, name, chart_type='pie'):\n",
        "    ws = wb.create_sheet(name)\n",
        "    wb.active = ws\n",
        "    headers = [name, \"Количество\"]\n",
        "    ws.append(headers)\n",
        "    for cell in ws[1]:\n",
        "        cell.font = Font(bold=True)\n",
        "\n",
        "    for val, c in sorted_dict:\n",
        "        ws.append([val, c])\n",
        "\n",
        "    rows_count = len(sorted_dict) + 1\n",
        "    columns_count = len(headers)\n",
        "    data_range = f\"A1:{chr(65 + columns_count - 1)}{rows_count}\"\n",
        "    set_all_borders(ws, data_range)\n",
        "\n",
        "    # Добавляем график\n",
        "    if chart_type == 'pie':\n",
        "        add_pie_chart(ws, sorted_dict, f\"Распределение по {name}\")\n",
        "    elif chart_type == 'bar':\n",
        "        add_bar_chart(ws, sorted_dict, f\"Распределение по {name}\")"
      ]
    },
    {
      "cell_type": "code",
      "execution_count": null,
      "metadata": {
        "id": "zRnORyvD5Jxr"
      },
      "outputs": [],
      "source": [
        "def print_excel_salary(wb, salary_data):\n",
        "    ws = wb.create_sheet(\"Зарплата\")\n",
        "    wb.active = ws\n",
        "\n",
        "    # Добавляем заголовки\n",
        "    headers = [\"Метрика\", \"Значение\"]\n",
        "    ws.append(headers)\n",
        "    for cell in ws[1]:\n",
        "        cell.font = Font(bold=True)\n",
        "\n",
        "    # Добавляем данные о зарплате\n",
        "    salary_metrics = [\n",
        "        (\"Средняя зарплата\", salary_data['avg_salary']),\n",
        "        (\"Медианная зарплата\", salary_data['median_salary']),\n",
        "        (\"Минимальная зарплата\", salary_data['min_salary']),\n",
        "        (\"Максимальная зарплата\", salary_data['max_salary'])\n",
        "    ]\n",
        "\n",
        "    for metric, value in salary_metrics:\n",
        "        ws.append([metric, value])\n",
        "\n",
        "    # Создаем bar chart для распределения зарплат\n",
        "    if salary_data.get('salary_ranges'):\n",
        "        ranges_data = sorted(salary_data['salary_ranges'].items())\n",
        "\n",
        "        # Добавляем данные о диапазонах зарплат\n",
        "        ws.append([])  # Пустая строка\n",
        "        ws.append([\"Диапазон зарплат\", \"Количество вакансий\"])\n",
        "        for val, c in ranges_data:\n",
        "            ws.append([val, c])\n",
        "\n",
        "        # Добавляем bar chart для диапазонов зарплат\n",
        "        add_bar_chart(ws, ranges_data, \"Распределение вакансий по зарплатным диапазонам\")"
      ]
    },
    {
      "cell_type": "code",
      "execution_count": null,
      "metadata": {
        "id": "YZbwfJmX5Tpb"
      },
      "outputs": [],
      "source": [
        "def process_salary(vacancies, wb=None):\n",
        "    if wb is None:\n",
        "        wb = create_empty_excel()\n",
        "\n",
        "    print_excel_vacancies(wb, vacancies)\n",
        "    print_excel_dict(wb, sorted_area_dict, \"Город\", 'pie')\n",
        "    print_excel_dict(wb, sorted_employment_dict, \"Занятость\", 'bar')"
      ]
    },
    {
      "cell_type": "markdown",
      "metadata": {
        "id": "h9Xwtx9feekA"
      },
      "source": [
        "## Полезные функции для анализа"
      ]
    },
    {
      "cell_type": "code",
      "execution_count": null,
      "metadata": {
        "id": "2LJwFSimeeEg"
      },
      "outputs": [],
      "source": [
        "def get_frequency_dict_by_name(vacancies, field):\n",
        "  print(field)\n",
        "  frequency_dict = {}\n",
        "  for v in vacancies:\n",
        "    frequency_dict[v[field][\"name\"]] = frequency_dict.get(v[field][\"name\"], 0) + 1\n",
        "  return frequency_dict"
      ]
    },
    {
      "cell_type": "code",
      "execution_count": null,
      "metadata": {
        "id": "T4o7JlheupBN"
      },
      "outputs": [],
      "source": [
        "def get_frequency_dict_by_field(vacancies, field):\n",
        "    print(field)\n",
        "    frequency_dict = {\"Есть\":0, \"Нет\":0}\n",
        "    for v in vacancies:\n",
        "      if v[field]:\n",
        "        frequency_dict[\"Есть\"] =frequency_dict.get(\"Есть\", 0) + 1\n",
        "      else:\n",
        "        frequency_dict[\"Нет\"] =frequency_dict.get(\"Нет\", 0) + 1\n",
        "    return frequency_dict"
      ]
    },
    {
      "cell_type": "code",
      "execution_count": null,
      "metadata": {
        "id": "i4Ur5lDIznls"
      },
      "outputs": [],
      "source": [
        "def get_frequency_dict_by_list_field(vacancies, field):\n",
        "  frequency_dict = {}\n",
        "  for v in vacancies:\n",
        "    if v[field]:\n",
        "      for value in v[field]:\n",
        "         frequency_dict[value[\"name\"]] = frequency_dict.get(value[\"name\"], 0) + 1\n",
        "  return frequency_dict"
      ]
    },
    {
      "cell_type": "code",
      "execution_count": null,
      "metadata": {
        "id": "-7ZpAQEEeeGU"
      },
      "outputs": [],
      "source": [
        "def get_sorted_frequenct(vacancies, field, dict_to_sort):\n",
        "  sorted_frequency = sorted(dict_to_sort.items(), key=lambda item: item[1], reverse=True)\n",
        "  return sorted_frequency"
      ]
    },
    {
      "cell_type": "code",
      "execution_count": null,
      "metadata": {
        "id": "anN44rONw-c_"
      },
      "outputs": [],
      "source": [
        "def print_top(chat_id, sz, dict_list, msg):\n",
        "  for i in range(sz):\n",
        "    name, count = dict_list[i]\n",
        "    msg += f\"{name}: {count}\\n\"\n",
        "  bot.send_message(chat_id, msg)"
      ]
    },
    {
      "cell_type": "code",
      "execution_count": null,
      "metadata": {
        "id": "131dy4cBfPFt"
      },
      "outputs": [],
      "source": [
        "def process_field_name(wb, chat_id, vacancies, field, symbol = \"\", top = 10):\n",
        "  freq = get_frequency_dict_by_name(vacancies, field)\n",
        "  sorted_frequency = get_sorted_frequenct(vacancies, field, freq)\n",
        "  print_excel_dict(wb, sorted_frequency, field)\n",
        "\n",
        "  msg = f\"{symbol}\\n\"\n",
        "  if (top < len(sorted_frequency)):\n",
        "    msg += f\"🏆 Топ {top} по количеству вакансий:\\n\"\n",
        "\n",
        "  top = min(top, len(sorted_frequency))\n",
        "  print_top(chat_id, top, sorted_frequency, msg)"
      ]
    },
    {
      "cell_type": "code",
      "execution_count": null,
      "metadata": {
        "id": "Gy8VoX5ctoaJ"
      },
      "outputs": [],
      "source": [
        "def process_binary_field(wb, chat_id, vacancies, field, symbol = \"\"):\n",
        "  freq = get_frequency_dict_by_field(vacancies, field)\n",
        "  sorted_frequency = get_sorted_frequenct(vacancies, field, freq)\n",
        "  print_excel_dict(wb, sorted_frequency, field)\n",
        "\n",
        "  msg = f\"{symbol}\\n\"\n",
        "  print_top(chat_id, len(sorted_frequency), sorted_frequency, msg)"
      ]
    },
    {
      "cell_type": "code",
      "execution_count": null,
      "metadata": {
        "id": "9lLXHIjLzZq7"
      },
      "outputs": [],
      "source": [
        "def process_list_field(wb, chat_id, vacancies, field, symbol = \"\", top = 5):\n",
        "  freq = get_frequency_dict_by_list_field(vacancies, field)\n",
        "  sorted_frequency = get_sorted_frequenct(vacancies, field, freq)\n",
        "  print_excel_dict(wb, sorted_frequency, field)\n",
        "\n",
        "  msg = f\"{symbol}\\n\"\n",
        "  top = min(top, len(sorted_frequency))\n",
        "  print_top(chat_id, top, sorted_frequency, msg)"
      ]
    },
    {
      "cell_type": "markdown",
      "metadata": {
        "id": "CBxywEJrtcro"
      },
      "source": [
        "## Обработка полных вакансий\n",
        "1. Description\n",
        "2. key_skills"
      ]
    },
    {
      "cell_type": "code",
      "execution_count": null,
      "metadata": {
        "colab": {
          "base_uri": "https://localhost:8080/"
        },
        "collapsed": true,
        "id": "lSwktoZpNwqC",
        "outputId": "e9bc4cb1-593c-4072-dc72-eabbe642190c"
      },
      "outputs": [
        {
          "name": "stdout",
          "output_type": "stream",
          "text": [
            "Collecting g4f[all]\n",
            "  Downloading g4f-0.3.9.7-py3-none-any.whl.metadata (56 kB)\n",
            "\u001b[?25l     \u001b[90m━━━━━━━━━━━━━━━━━━━━━━━━━━━━━━━━━━━━━━━━\u001b[0m \u001b[32m0.0/56.9 kB\u001b[0m \u001b[31m?\u001b[0m eta \u001b[36m-:--:--\u001b[0m\r\u001b[2K     \u001b[90m━━━━━━━━━━━━━━━━━━━━━━━━━━━━━━━━━━━━━━━━\u001b[0m \u001b[32m56.9/56.9 kB\u001b[0m \u001b[31m3.8 MB/s\u001b[0m eta \u001b[36m0:00:00\u001b[0m\n",
            "\u001b[?25hRequirement already satisfied: requests in /usr/local/lib/python3.10/dist-packages (from g4f[all]) (2.32.3)\n",
            "Requirement already satisfied: aiohttp in /usr/local/lib/python3.10/dist-packages (from g4f[all]) (3.11.10)\n",
            "Collecting brotli (from g4f[all])\n",
            "  Downloading Brotli-1.1.0-cp310-cp310-manylinux_2_5_x86_64.manylinux1_x86_64.manylinux_2_12_x86_64.manylinux2010_x86_64.whl.metadata (5.5 kB)\n",
            "Collecting pycryptodome (from g4f[all])\n",
            "  Downloading pycryptodome-3.21.0-cp36-abi3-manylinux_2_17_x86_64.manylinux2014_x86_64.whl.metadata (3.4 kB)\n",
            "Requirement already satisfied: nest_asyncio in /usr/local/lib/python3.10/dist-packages (from g4f[all]) (1.6.0)\n",
            "Collecting curl_cffi>=0.6.2 (from g4f[all])\n",
            "  Downloading curl_cffi-0.7.4-cp38-abi3-manylinux_2_17_x86_64.manylinux2014_x86_64.whl.metadata (12 kB)\n",
            "Requirement already satisfied: certifi in /usr/local/lib/python3.10/dist-packages (from g4f[all]) (2024.12.14)\n",
            "Collecting browser_cookie3 (from g4f[all])\n",
            "  Downloading browser_cookie3-0.20.1.tar.gz (22 kB)\n",
            "  Preparing metadata (setup.py) ... \u001b[?25l\u001b[?25hdone\n",
            "Collecting duckduckgo-search>=5.0 (from g4f[all])\n",
            "  Downloading duckduckgo_search-7.1.1-py3-none-any.whl.metadata (17 kB)\n",
            "Requirement already satisfied: beautifulsoup4 in /usr/local/lib/python3.10/dist-packages (from g4f[all]) (4.12.3)\n",
            "Requirement already satisfied: platformdirs in /usr/local/lib/python3.10/dist-packages (from g4f[all]) (4.3.6)\n",
            "Collecting aiohttp_socks (from g4f[all])\n",
            "  Downloading aiohttp_socks-0.10.1-py3-none-any.whl.metadata (3.5 kB)\n",
            "Requirement already satisfied: pillow in /usr/local/lib/python3.10/dist-packages (from g4f[all]) (11.0.0)\n",
            "Collecting cairosvg (from g4f[all])\n",
            "  Downloading CairoSVG-2.7.1-py3-none-any.whl.metadata (2.7 kB)\n",
            "Requirement already satisfied: werkzeug in /usr/local/lib/python3.10/dist-packages (from g4f[all]) (3.1.3)\n",
            "Requirement already satisfied: flask in /usr/local/lib/python3.10/dist-packages (from g4f[all]) (3.1.0)\n",
            "Collecting fastapi (from g4f[all])\n",
            "  Downloading fastapi-0.115.6-py3-none-any.whl.metadata (27 kB)\n",
            "Collecting uvicorn (from g4f[all])\n",
            "  Downloading uvicorn-0.34.0-py3-none-any.whl.metadata (6.5 kB)\n",
            "Collecting nodriver (from g4f[all])\n",
            "  Downloading nodriver-0.38.post1-py3-none-any.whl.metadata (48 kB)\n",
            "\u001b[2K     \u001b[90m━━━━━━━━━━━━━━━━━━━━━━━━━━━━━━━━━━━━━━━━\u001b[0m \u001b[32m48.1/48.1 kB\u001b[0m \u001b[31m3.5 MB/s\u001b[0m eta \u001b[36m0:00:00\u001b[0m\n",
            "\u001b[?25hCollecting python-multipart (from g4f[all])\n",
            "  Downloading python_multipart-0.0.20-py3-none-any.whl.metadata (1.8 kB)\n",
            "Requirement already satisfied: cffi>=1.12.0 in /usr/local/lib/python3.10/dist-packages (from curl_cffi>=0.6.2->g4f[all]) (1.17.1)\n",
            "Requirement already satisfied: typing-extensions in /usr/local/lib/python3.10/dist-packages (from curl_cffi>=0.6.2->g4f[all]) (4.12.2)\n",
            "Requirement already satisfied: click>=8.1.7 in /usr/local/lib/python3.10/dist-packages (from duckduckgo-search>=5.0->g4f[all]) (8.1.7)\n",
            "Collecting primp>=0.9.2 (from duckduckgo-search>=5.0->g4f[all])\n",
            "  Downloading primp-0.9.2-cp38-abi3-manylinux_2_17_x86_64.manylinux2014_x86_64.whl.metadata (12 kB)\n",
            "Requirement already satisfied: lxml>=5.3.0 in /usr/local/lib/python3.10/dist-packages (from duckduckgo-search>=5.0->g4f[all]) (5.3.0)\n",
            "Requirement already satisfied: aiohappyeyeballs>=2.3.0 in /usr/local/lib/python3.10/dist-packages (from aiohttp->g4f[all]) (2.4.4)\n",
            "Requirement already satisfied: aiosignal>=1.1.2 in /usr/local/lib/python3.10/dist-packages (from aiohttp->g4f[all]) (1.3.2)\n",
            "Requirement already satisfied: async-timeout<6.0,>=4.0 in /usr/local/lib/python3.10/dist-packages (from aiohttp->g4f[all]) (4.0.3)\n",
            "Requirement already satisfied: attrs>=17.3.0 in /usr/local/lib/python3.10/dist-packages (from aiohttp->g4f[all]) (24.3.0)\n",
            "Requirement already satisfied: frozenlist>=1.1.1 in /usr/local/lib/python3.10/dist-packages (from aiohttp->g4f[all]) (1.5.0)\n",
            "Requirement already satisfied: multidict<7.0,>=4.5 in /usr/local/lib/python3.10/dist-packages (from aiohttp->g4f[all]) (6.1.0)\n",
            "Requirement already satisfied: propcache>=0.2.0 in /usr/local/lib/python3.10/dist-packages (from aiohttp->g4f[all]) (0.2.1)\n",
            "Requirement already satisfied: yarl<2.0,>=1.17.0 in /usr/local/lib/python3.10/dist-packages (from aiohttp->g4f[all]) (1.18.3)\n",
            "Collecting python-socks<3.0.0,>=2.4.3 (from python-socks[asyncio]<3.0.0,>=2.4.3->aiohttp_socks->g4f[all])\n",
            "  Downloading python_socks-2.6.1-py3-none-any.whl.metadata (8.0 kB)\n",
            "Requirement already satisfied: soupsieve>1.2 in /usr/local/lib/python3.10/dist-packages (from beautifulsoup4->g4f[all]) (2.6)\n",
            "Collecting lz4 (from browser_cookie3->g4f[all])\n",
            "  Downloading lz4-4.3.3-cp310-cp310-manylinux_2_17_x86_64.manylinux2014_x86_64.whl.metadata (3.7 kB)\n",
            "Collecting pycryptodomex (from browser_cookie3->g4f[all])\n",
            "  Downloading pycryptodomex-3.21.0-cp36-abi3-manylinux_2_17_x86_64.manylinux2014_x86_64.whl.metadata (3.4 kB)\n",
            "Requirement already satisfied: jeepney in /usr/lib/python3/dist-packages (from browser_cookie3->g4f[all]) (0.7.1)\n",
            "Collecting cairocffi (from cairosvg->g4f[all])\n",
            "  Downloading cairocffi-1.7.1-py3-none-any.whl.metadata (3.3 kB)\n",
            "Collecting cssselect2 (from cairosvg->g4f[all])\n",
            "  Downloading cssselect2-0.7.0-py3-none-any.whl.metadata (2.9 kB)\n",
            "Requirement already satisfied: defusedxml in /usr/local/lib/python3.10/dist-packages (from cairosvg->g4f[all]) (0.7.1)\n",
            "Requirement already satisfied: tinycss2 in /usr/local/lib/python3.10/dist-packages (from cairosvg->g4f[all]) (1.4.0)\n",
            "Collecting starlette<0.42.0,>=0.40.0 (from fastapi->g4f[all])\n",
            "  Downloading starlette-0.41.3-py3-none-any.whl.metadata (6.0 kB)\n",
            "Requirement already satisfied: pydantic!=1.8,!=1.8.1,!=2.0.0,!=2.0.1,!=2.1.0,<3.0.0,>=1.7.4 in /usr/local/lib/python3.10/dist-packages (from fastapi->g4f[all]) (2.10.3)\n",
            "Requirement already satisfied: Jinja2>=3.1.2 in /usr/local/lib/python3.10/dist-packages (from flask->g4f[all]) (3.1.4)\n",
            "Requirement already satisfied: itsdangerous>=2.2 in /usr/local/lib/python3.10/dist-packages (from flask->g4f[all]) (2.2.0)\n",
            "Requirement already satisfied: blinker>=1.9 in /usr/local/lib/python3.10/dist-packages (from flask->g4f[all]) (1.9.0)\n",
            "Requirement already satisfied: MarkupSafe>=2.1.1 in /usr/local/lib/python3.10/dist-packages (from werkzeug->g4f[all]) (3.0.2)\n",
            "Collecting mss (from nodriver->g4f[all])\n",
            "  Downloading mss-10.0.0-py3-none-any.whl.metadata (6.1 kB)\n",
            "Collecting websockets<=13.1 (from nodriver->g4f[all])\n",
            "  Downloading websockets-13.1-cp310-cp310-manylinux_2_5_x86_64.manylinux1_x86_64.manylinux_2_17_x86_64.manylinux2014_x86_64.whl.metadata (6.8 kB)\n",
            "Requirement already satisfied: deprecated in /usr/local/lib/python3.10/dist-packages (from nodriver->g4f[all]) (1.2.15)\n",
            "Requirement already satisfied: charset-normalizer<4,>=2 in /usr/local/lib/python3.10/dist-packages (from requests->g4f[all]) (3.4.0)\n",
            "Requirement already satisfied: idna<4,>=2.5 in /usr/local/lib/python3.10/dist-packages (from requests->g4f[all]) (3.10)\n",
            "Requirement already satisfied: urllib3<3,>=1.21.1 in /usr/local/lib/python3.10/dist-packages (from requests->g4f[all]) (2.2.3)\n",
            "Requirement already satisfied: h11>=0.8 in /usr/local/lib/python3.10/dist-packages (from uvicorn->g4f[all]) (0.14.0)\n",
            "Requirement already satisfied: pycparser in /usr/local/lib/python3.10/dist-packages (from cffi>=1.12.0->curl_cffi>=0.6.2->g4f[all]) (2.22)\n",
            "Requirement already satisfied: annotated-types>=0.6.0 in /usr/local/lib/python3.10/dist-packages (from pydantic!=1.8,!=1.8.1,!=2.0.0,!=2.0.1,!=2.1.0,<3.0.0,>=1.7.4->fastapi->g4f[all]) (0.7.0)\n",
            "Requirement already satisfied: pydantic-core==2.27.1 in /usr/local/lib/python3.10/dist-packages (from pydantic!=1.8,!=1.8.1,!=2.0.0,!=2.0.1,!=2.1.0,<3.0.0,>=1.7.4->fastapi->g4f[all]) (2.27.1)\n",
            "Requirement already satisfied: anyio<5,>=3.4.0 in /usr/local/lib/python3.10/dist-packages (from starlette<0.42.0,>=0.40.0->fastapi->g4f[all]) (3.7.1)\n",
            "Requirement already satisfied: webencodings in /usr/local/lib/python3.10/dist-packages (from cssselect2->cairosvg->g4f[all]) (0.5.1)\n",
            "Requirement already satisfied: wrapt<2,>=1.10 in /usr/local/lib/python3.10/dist-packages (from deprecated->nodriver->g4f[all]) (1.17.0)\n",
            "Requirement already satisfied: sniffio>=1.1 in /usr/local/lib/python3.10/dist-packages (from anyio<5,>=3.4.0->starlette<0.42.0,>=0.40.0->fastapi->g4f[all]) (1.3.1)\n",
            "Requirement already satisfied: exceptiongroup in /usr/local/lib/python3.10/dist-packages (from anyio<5,>=3.4.0->starlette<0.42.0,>=0.40.0->fastapi->g4f[all]) (1.2.2)\n",
            "Downloading curl_cffi-0.7.4-cp38-abi3-manylinux_2_17_x86_64.manylinux2014_x86_64.whl (6.1 MB)\n",
            "\u001b[2K   \u001b[90m━━━━━━━━━━━━━━━━━━━━━━━━━━━━━━━━━━━━━━━━\u001b[0m \u001b[32m6.1/6.1 MB\u001b[0m \u001b[31m65.0 MB/s\u001b[0m eta \u001b[36m0:00:00\u001b[0m\n",
            "\u001b[?25hDownloading duckduckgo_search-7.1.1-py3-none-any.whl (20 kB)\n",
            "Downloading aiohttp_socks-0.10.1-py3-none-any.whl (10 kB)\n",
            "Downloading Brotli-1.1.0-cp310-cp310-manylinux_2_5_x86_64.manylinux1_x86_64.manylinux_2_12_x86_64.manylinux2010_x86_64.whl (3.0 MB)\n",
            "\u001b[2K   \u001b[90m━━━━━━━━━━━━━━━━━━━━━━━━━━━━━━━━━━━━━━━━\u001b[0m \u001b[32m3.0/3.0 MB\u001b[0m \u001b[31m78.1 MB/s\u001b[0m eta \u001b[36m0:00:00\u001b[0m\n",
            "\u001b[?25hDownloading CairoSVG-2.7.1-py3-none-any.whl (43 kB)\n",
            "\u001b[2K   \u001b[90m━━━━━━━━━━━━━━━━━━━━━━━━━━━━━━━━━━━━━━━━\u001b[0m \u001b[32m43.2/43.2 kB\u001b[0m \u001b[31m3.2 MB/s\u001b[0m eta \u001b[36m0:00:00\u001b[0m\n",
            "\u001b[?25hDownloading fastapi-0.115.6-py3-none-any.whl (94 kB)\n",
            "\u001b[2K   \u001b[90m━━━━━━━━━━━━━━━━━━━━━━━━━━━━━━━━━━━━━━━━\u001b[0m \u001b[32m94.8/94.8 kB\u001b[0m \u001b[31m6.6 MB/s\u001b[0m eta \u001b[36m0:00:00\u001b[0m\n",
            "\u001b[?25hDownloading g4f-0.3.9.7-py3-none-any.whl (639 kB)\n",
            "\u001b[2K   \u001b[90m━━━━━━━━━━━━━━━━━━━━━━━━━━━━━━━━━━━━━━━━\u001b[0m \u001b[32m639.7/639.7 kB\u001b[0m \u001b[31m35.4 MB/s\u001b[0m eta \u001b[36m0:00:00\u001b[0m\n",
            "\u001b[?25hDownloading nodriver-0.38.post1-py3-none-any.whl (325 kB)\n",
            "\u001b[2K   \u001b[90m━━━━━━━━━━━━━━━━━━━━━━━━━━━━━━━━━━━━━━━━\u001b[0m \u001b[32m325.4/325.4 kB\u001b[0m \u001b[31m22.2 MB/s\u001b[0m eta \u001b[36m0:00:00\u001b[0m\n",
            "\u001b[?25hDownloading pycryptodome-3.21.0-cp36-abi3-manylinux_2_17_x86_64.manylinux2014_x86_64.whl (2.3 MB)\n",
            "\u001b[2K   \u001b[90m━━━━━━━━━━━━━━━━━━━━━━━━━━━━━━━━━━━━━━━━\u001b[0m \u001b[32m2.3/2.3 MB\u001b[0m \u001b[31m62.5 MB/s\u001b[0m eta \u001b[36m0:00:00\u001b[0m\n",
            "\u001b[?25hDownloading python_multipart-0.0.20-py3-none-any.whl (24 kB)\n",
            "Downloading uvicorn-0.34.0-py3-none-any.whl (62 kB)\n",
            "\u001b[2K   \u001b[90m━━━━━━━━━━━━━━━━━━━━━━━━━━━━━━━━━━━━━━━━\u001b[0m \u001b[32m62.3/62.3 kB\u001b[0m \u001b[31m4.8 MB/s\u001b[0m eta \u001b[36m0:00:00\u001b[0m\n",
            "\u001b[?25hDownloading primp-0.9.2-cp38-abi3-manylinux_2_17_x86_64.manylinux2014_x86_64.whl (3.2 MB)\n",
            "\u001b[2K   \u001b[90m━━━━━━━━━━━━━━━━━━━━━━━━━━━━━━━━━━━━━━━━\u001b[0m \u001b[32m3.2/3.2 MB\u001b[0m \u001b[31m76.3 MB/s\u001b[0m eta \u001b[36m0:00:00\u001b[0m\n",
            "\u001b[?25hDownloading python_socks-2.6.1-py3-none-any.whl (54 kB)\n",
            "\u001b[2K   \u001b[90m━━━━━━━━━━━━━━━━━━━━━━━━━━━━━━━━━━━━━━━━\u001b[0m \u001b[32m55.0/55.0 kB\u001b[0m \u001b[31m3.8 MB/s\u001b[0m eta \u001b[36m0:00:00\u001b[0m\n",
            "\u001b[?25hDownloading starlette-0.41.3-py3-none-any.whl (73 kB)\n",
            "\u001b[2K   \u001b[90m━━━━━━━━━━━━━━━━━━━━━━━━━━━━━━━━━━━━━━━━\u001b[0m \u001b[32m73.2/73.2 kB\u001b[0m \u001b[31m6.1 MB/s\u001b[0m eta \u001b[36m0:00:00\u001b[0m\n",
            "\u001b[?25hDownloading websockets-13.1-cp310-cp310-manylinux_2_5_x86_64.manylinux1_x86_64.manylinux_2_17_x86_64.manylinux2014_x86_64.whl (164 kB)\n",
            "\u001b[2K   \u001b[90m━━━━━━━━━━━━━━━━━━━━━━━━━━━━━━━━━━━━━━━━\u001b[0m \u001b[32m164.1/164.1 kB\u001b[0m \u001b[31m11.5 MB/s\u001b[0m eta \u001b[36m0:00:00\u001b[0m\n",
            "\u001b[?25hDownloading cairocffi-1.7.1-py3-none-any.whl (75 kB)\n",
            "\u001b[2K   \u001b[90m━━━━━━━━━━━━━━━━━━━━━━━━━━━━━━━━━━━━━━━━\u001b[0m \u001b[32m75.6/75.6 kB\u001b[0m \u001b[31m5.7 MB/s\u001b[0m eta \u001b[36m0:00:00\u001b[0m\n",
            "\u001b[?25hDownloading cssselect2-0.7.0-py3-none-any.whl (15 kB)\n",
            "Downloading lz4-4.3.3-cp310-cp310-manylinux_2_17_x86_64.manylinux2014_x86_64.whl (1.3 MB)\n",
            "\u001b[2K   \u001b[90m━━━━━━━━━━━━━━━━━━━━━━━━━━━━━━━━━━━━━━━━\u001b[0m \u001b[32m1.3/1.3 MB\u001b[0m \u001b[31m52.9 MB/s\u001b[0m eta \u001b[36m0:00:00\u001b[0m\n",
            "\u001b[?25hDownloading mss-10.0.0-py3-none-any.whl (24 kB)\n",
            "Downloading pycryptodomex-3.21.0-cp36-abi3-manylinux_2_17_x86_64.manylinux2014_x86_64.whl (2.3 MB)\n",
            "\u001b[2K   \u001b[90m━━━━━━━━━━━━━━━━━━━━━━━━━━━━━━━━━━━━━━━━\u001b[0m \u001b[32m2.3/2.3 MB\u001b[0m \u001b[31m61.6 MB/s\u001b[0m eta \u001b[36m0:00:00\u001b[0m\n",
            "\u001b[?25hBuilding wheels for collected packages: browser_cookie3\n",
            "  Building wheel for browser_cookie3 (setup.py) ... \u001b[?25l\u001b[?25hdone\n",
            "  Created wheel for browser_cookie3: filename=browser_cookie3-0.20.1-py3-none-any.whl size=17230 sha256=673977c6891b366bae985bb198632a83ff26522c146e2fefc9fb8c00d437d84f\n",
            "  Stored in directory: /root/.cache/pip/wheels/1e/9d/66/f2c7d716b3b57fdd007430025b364624dd9805c54eca20d894\n",
            "Successfully built browser_cookie3\n",
            "Installing collected packages: brotli, websockets, uvicorn, python-socks, python-multipart, pycryptodomex, pycryptodome, primp, mss, lz4, starlette, nodriver, duckduckgo-search, curl_cffi, cssselect2, cairocffi, browser_cookie3, fastapi, cairosvg, g4f, aiohttp_socks\n",
            "  Attempting uninstall: websockets\n",
            "    Found existing installation: websockets 14.1\n",
            "    Uninstalling websockets-14.1:\n",
            "      Successfully uninstalled websockets-14.1\n",
            "Successfully installed aiohttp_socks-0.10.1 brotli-1.1.0 browser_cookie3-0.20.1 cairocffi-1.7.1 cairosvg-2.7.1 cssselect2-0.7.0 curl_cffi-0.7.4 duckduckgo-search-7.1.1 fastapi-0.115.6 g4f-0.3.9.7 lz4-4.3.3 mss-10.0.0 nodriver-0.38.post1 primp-0.9.2 pycryptodome-3.21.0 pycryptodomex-3.21.0 python-multipart-0.0.20 python-socks-2.6.1 starlette-0.41.3 uvicorn-0.34.0 websockets-13.1\n"
          ]
        }
      ],
      "source": [
        "!pip install -U g4f[all]"
      ]
    },
    {
      "cell_type": "code",
      "execution_count": null,
      "metadata": {
        "id": "np7d2NkLOFRX"
      },
      "outputs": [],
      "source": [
        "import re\n",
        "from bs4 import BeautifulSoup\n",
        "\n",
        "def clean_html_description(combined_description):\n",
        "    # Удаление HTML-тегов\n",
        "    soup = BeautifulSoup(combined_description, 'html.parser')\n",
        "    text = soup.get_text(separator=' ', strip=True)\n",
        "\n",
        "    # Удаление лишних пробелов и переносов строк\n",
        "    text = re.sub(r'\\s+', ' ', text).strip()\n",
        "\n",
        "    # Удаление специальных символов\n",
        "    text = re.sub(r'[^a-zA-Zа-яА-Я0-9\\s\\.\\,\\!\\?]', '', text)\n",
        "\n",
        "    return text"
      ]
    },
    {
      "cell_type": "code",
      "execution_count": null,
      "metadata": {
        "id": "7hjfYDuu68H_"
      },
      "outputs": [],
      "source": [
        "from g4f.client import Client\n",
        "\n",
        "def process_description(chat_id, full_vacancies, text):\n",
        "\n",
        "  combined_descriptions = \" \".join([vacancy[\"description\"] for vacancy in full_vacancies])\n",
        "  cleaned_description = clean_html_description(combined_descriptions)\n",
        "\n",
        "  print(cleaned_description[:100])\n",
        "\n",
        "  client = Client()\n",
        "\n",
        "  # Формирование расширенного промпта для создания сводного профиля\n",
        "  messages = [\n",
        "      {\n",
        "          \"role\": \"system\",\n",
        "          \"content\": \"\"\"Ты эксперт по подбору персонала и анализу резюме.\n",
        "          Твоя задача - создать максимально детальный профиль идеального кандидата,\n",
        "          который объединяет лучшие качества и навыки из предоставленных описаний.\n",
        "\n",
        "          Алгоритм анализа:\n",
        "          1. Провести глубокий сравнительный анализ всех представленных профилей\n",
        "          2. Выделить уникальные и ключевые компетенции\n",
        "          3. Синтезировать идеальный профиль, который превосходит каждый из представленных\n",
        "\n",
        "          При составлении профиля учти:\n",
        "          - Технические навыки и компетенции\n",
        "          - Профессиональный опыт и достижения\n",
        "          - Личностные и soft skills\n",
        "          - Образование и дополнительное обучение\n",
        "          - Потенциал развития и карьерные амбиции\n",
        "\n",
        "          Структура профиля:\n",
        "          🏆 Сводный технический профиль\n",
        "          🌟 Интегрированные профессиональные компетенции\n",
        "          👥 Комплексный личностный портрет\n",
        "          🚀 Стратегия профессионального роста\"\"\"\n",
        "      },\n",
        "      {\n",
        "          \"role\": \"user\",\n",
        "          \"content\": f\"\"\"Проанализируй описания кандидатов и создай максимально\n",
        "          совершенный профиль, который объединяет лучшие характеристики.\n",
        "\n",
        "          Описания кандидатов:\n",
        "          {combined_descriptions}\n",
        "\n",
        "          Задача: Создать эталонный профиль, который превосходит\n",
        "          каждый из представленных по ключевым параметрам.\n",
        "          Также не пиши лишние вводные и поясняющие слова, только описание\n",
        "          Если не получается обобщить, то напиши сама логично подходящие для вакансии {text} пункты профиля идеального кандидата\"\"\"\n",
        "      }\n",
        "  ]\n",
        "\n",
        "  try:\n",
        "      # Создание запроса к модели\n",
        "      response = client.chat.completions.create(\n",
        "          model=\"gpt-4o-mini\",  # Можно заменить на другую доступную модель\n",
        "          messages=messages,\n",
        "          max_tokens=2000,  # Увеличенное количество токенов для детального анализа\n",
        "          temperature=0.7  # Баланс креативности и аналитики\n",
        "      )\n",
        "\n",
        "      # Извлечение сгенерированного текста\n",
        "      ideal_candidate_profile = response.choices[0].message.content\n",
        "      ideal_candidate_profiles[chat_id] = ideal_candidate_profile\n",
        "\n",
        "      # return f\"🏅 Профиль идеального кандидата:\\n {ideal_candidate_profile}\"\n",
        "      bot.send_message(chat_id, f\"🏅 Профиль идеального кандидата:\\n {ideal_candidate_profile}\")\n",
        "\n",
        "  except Exception as e:\n",
        "      print(f\"Ошибка при генерации профиля: {e}\")\n",
        "      return None\n"
      ]
    },
    {
      "cell_type": "code",
      "execution_count": null,
      "metadata": {
        "id": "2BoFkBL1OgY4"
      },
      "outputs": [],
      "source": [
        "# vacancies = get_vacancies(\"Программист на Java\")\n",
        "# process_description(1, 1, get_full_vacancies(vacancies) )"
      ]
    },
    {
      "cell_type": "code",
      "execution_count": null,
      "metadata": {
        "id": "42aOOBLXD-8X"
      },
      "outputs": [],
      "source": [
        "def process_full_vacancies(wb, chat_id, full_vacancies, text = \"\"):\n",
        "    print(\"process_full_vacancies\")\n",
        "    msg = \"✨ Ключевые навыки:\"\n",
        "    process_list_field(wb, chat_id, full_vacancies, \"key_skills\", msg, top=10)\n",
        "    process_description(chat_id, full_vacancies, text)"
      ]
    },
    {
      "cell_type": "markdown",
      "metadata": {
        "id": "wneP9EMv4VU6"
      },
      "source": [
        "## Резюме"
      ]
    },
    {
      "cell_type": "markdown",
      "metadata": {
        "id": "eS-0nKuc4fJu"
      },
      "source": [
        "если что можно изменить промпт так, чтобы он брал идеального кандидата и на его основе анализ делал)"
      ]
    },
    {
      "cell_type": "code",
      "execution_count": null,
      "metadata": {
        "id": "1wFJsR3C4Y6p"
      },
      "outputs": [],
      "source": [
        "# def analyze_resume(chat_id, resume_text):\n",
        "#     \"\"\"\n",
        "#     Анализ резюме пользователя и оценка шансов получения оффера\n",
        "\n",
        "#     :param chat_id: ID чата пользователя\n",
        "#     :param resume_text: текст резюме\n",
        "#     \"\"\"\n",
        "#     client = Client()\n",
        "\n",
        "#     # Промпт для анализа резюме\n",
        "#     messages = [\n",
        "#         {\n",
        "#             \"role\": \"system\",\n",
        "#             \"content\": \"\"\"Ты профессиональный HR-эксперт и рекрутер с многолетним опытом.\n",
        "#             Твоя задача - провести глубокий и объективный анализ резюме кандидата.\n",
        "\n",
        "#             Критерии оценки:\n",
        "#             1. Структурированность и качество резюме\n",
        "#             2. Релевантность опыта работы\n",
        "#             3. Технические и soft skills\n",
        "#             4. Потенциал кандидата\n",
        "#             5. Возможные области улучшения\n",
        "\n",
        "#             Формат ответа:\n",
        "#             🎯 Шанс получения оффера: X%\n",
        "\n",
        "#             📊 Сильные стороны:\n",
        "#             - Список ключевых преимуществ\n",
        "\n",
        "#             🔧 Области развития:\n",
        "#             - Конкретные рекомендации по улучшению резюме и профиля\n",
        "\n",
        "#             💡 Стратегические советы:\n",
        "#             - Краткие рекомендации по повышению конкурентоспособности\"\"\"\n",
        "#         },\n",
        "#         {\n",
        "#             \"role\": \"user\",\n",
        "#             \"content\": f\"\"\"Проведи детальный анализ следующего резюме:\n",
        "\n",
        "#             {resume_text}\n",
        "\n",
        "#             Прошу дать максимально честную и конструктивную оценку,\n",
        "#             указав реальные шансы на получение оффера и конкретные\n",
        "#             рекомендации по улучшению профиля.\"\"\"\n",
        "#         }\n",
        "#     ]\n",
        "\n",
        "#     try:\n",
        "#         # Создание запроса к модели\n",
        "#         response = client.chat.completions.create(\n",
        "#             model=\"gpt-4o-mini\",\n",
        "#             messages=messages,\n",
        "#             max_tokens=1500,\n",
        "#             temperature=0.7\n",
        "#         )\n",
        "\n",
        "#         # Извлечение сгенерированного текста\n",
        "#         resume_analysis = response.choices[0].message.content\n",
        "\n",
        "#         # Отправка результатов анализа в чат\n",
        "#         bot.send_message(chat_id, f\"📋 Анализ вашего резюме:\\n\\n{resume_analysis}\")\n",
        "\n",
        "#     except Exception as e:\n",
        "#         print(f\"Ошибка при анализе резюме: {e}\")\n",
        "#         bot.send_message(\n",
        "#             chat_id,\n",
        "#             \"Извините, произошла ошибка при анализе резюме. Попробуйте позже.\"\n",
        "#         )"
      ]
    },
    {
      "cell_type": "code",
      "execution_count": null,
      "metadata": {
        "id": "vMfF4bPadpIl"
      },
      "outputs": [],
      "source": [
        "def analyze_resume(chat_id, resume_text, ideal_candidate_profile):\n",
        "    \"\"\"\n",
        "    Анализ резюме пользователя с использованием профиля идеального кандидата\n",
        "\n",
        "    :param chat_id: ID чата пользователя\n",
        "    :param resume_text: текст резюме\n",
        "    :param ideal_candidate_profile: профиль идеального кандидата\n",
        "    \"\"\"\n",
        "    client = Client()\n",
        "\n",
        "    messages = [\n",
        "        {\n",
        "            \"role\": \"system\",\n",
        "            \"content\": \"\"\"Ты высококвалифицированный HR-аналитик с глубоким пониманием\n",
        "            рынка труда и требований работодателей.\n",
        "\n",
        "            Твоя задача - провести детальный сравнительный анализ\n",
        "            резюме кандидата с профилем идеального кандидата.\n",
        "\n",
        "            Критерии оценки:\n",
        "            1. Соответствие техническим навыкам\n",
        "            2. Уровень профессионального опыта\n",
        "            3. Matching soft skills\n",
        "            4. Потенциал кандидата\n",
        "            5. Области возможного развития\n",
        "\n",
        "            Формат ответа:\n",
        "            🎯 Шанс получения оффера: X%\n",
        "\n",
        "            ✅ Сильные соответствия профилю:\n",
        "            - Список ключевых совпадений\n",
        "\n",
        "            🔍 Расхождения с идеальным профилем:\n",
        "            - Конкретные недостающие компетенции\n",
        "\n",
        "            🚀 Рекомендации по развитию:\n",
        "            - Стратегия закрытия gaps\n",
        "            - Конкретные шаги для повышения конкурентоспособности\"\"\"\n",
        "        },\n",
        "        {\n",
        "            \"role\": \"user\",\n",
        "            \"content\": f\"\"\"Проведи детальный сравнительный анализ:\n",
        "\n",
        "            Профиль идеального кандидата:\n",
        "            {ideal_candidate_profile}\n",
        "\n",
        "            Резюме кандидата:\n",
        "            {resume_text}\n",
        "\n",
        "            Задача: Максимально точно оценить соответствие\n",
        "            кандидата требованиям рынка, указав реальные\n",
        "            шансы на трудоустройство.\"\"\"\n",
        "        }\n",
        "    ]\n",
        "\n",
        "    try:\n",
        "        response = client.chat.completions.create(\n",
        "            model=\"gpt-4o-mini\",\n",
        "            messages=messages,\n",
        "            max_tokens=1500,\n",
        "            temperature=0.7\n",
        "        )\n",
        "\n",
        "        resume_analysis = response.choices[0].message.content\n",
        "\n",
        "        bot.send_message(chat_id, f\"📋 Анализ вашего резюме:\\n\\n{resume_analysis}\")\n",
        "\n",
        "    except Exception as e:\n",
        "        print(f\"Ошибка при анализе резюме: {e}\")\n",
        "        bot.send_message(\n",
        "            chat_id,\n",
        "            \"Извините, произошла ошибка при анализе резюме. Попробуйте позже.\"\n",
        "        )"
      ]
    },
    {
      "cell_type": "code",
      "execution_count": null,
      "metadata": {
        "id": "1mP6p5WC4o6d"
      },
      "outputs": [],
      "source": [
        "# # Пример использования в хендлере бота\n",
        "# @bot.message_handler(commands=['analyze_resume'])\n",
        "# def handle_resume_analysis(message):\n",
        "#     \"\"\"\n",
        "#     Хендлер для команды анализа резюме\n",
        "#     \"\"\"\n",
        "#     chat_id = message.chat.id\n",
        "\n",
        "#     # Проверяем, прикреплено ли резюме\n",
        "#     if message.document:\n",
        "#         try:\n",
        "#             # Скачиваем файл\n",
        "#             file_info = bot.get_file(message.document.file_id)\n",
        "#             downloaded_file = bot.download_file(file_info.file_path)\n",
        "\n",
        "#             # Конвертируем в текст (в зависимости от формата)\n",
        "#             if message.document.file_name.endswith('.pdf'):\n",
        "#                 resume_text = extract_text_from_pdf(downloaded_file)\n",
        "#             elif message.document.file_name.endswith(('.doc', '.docx')):\n",
        "#                 resume_text = extract_text_from_docx(downloaded_file)\n",
        "#             else:\n",
        "#                 resume_text = downloaded_file.decode('utf-8')\n",
        "\n",
        "#             # Анализируем резюме\n",
        "#             analyze_resume(chat_id, resume_text)\n",
        "\n",
        "#         except Exception as e:\n",
        "#             bot.send_message(\n",
        "#                 chat_id,\n",
        "#                 f\"Ошибка при обработке файла: {e}\"\n",
        "#             )\n",
        "\n",
        "#     elif message.text:\n",
        "#         # Если резюме прислано текстом\n",
        "#         analyze_resume(chat_id, message.text)\n",
        "\n",
        "#     else:\n",
        "#         bot.send_message(\n",
        "#             chat_id,\n",
        "#             \"Пожалуйста, прикрепите файл резюме или отправьте его текст.\"\n",
        "#         )"
      ]
    },
    {
      "cell_type": "markdown",
      "metadata": {
        "id": "MrWWwHfBLOAL"
      },
      "source": [
        "## Зарплата"
      ]
    },
    {
      "cell_type": "code",
      "execution_count": null,
      "metadata": {
        "id": "puj7shwpPA3C"
      },
      "outputs": [],
      "source": [
        "from cachetools import TTLCache\n",
        "import requests\n",
        "import xml.etree.ElementTree as ET\n",
        "from threading import Lock\n",
        "from datetime import datetime\n",
        "from statistics import mean, median\n",
        "from collections import Counter"
      ]
    },
    {
      "cell_type": "code",
      "execution_count": null,
      "metadata": {
        "id": "HbprvgRdPKre"
      },
      "outputs": [],
      "source": [
        "class CurrencyConverter:\n",
        "    def __init__(self, ttl=43.200): #12 часов\n",
        "        self.cache = TTLCache(maxsize=100, ttl=ttl)\n",
        "        self.lock = Lock()\n",
        "\n",
        "    def fetch_exchange_rates(self):\n",
        "        print(\"fetching rates\")\n",
        "        today = datetime.now().strftime(\"%d/%m/%Y\")\n",
        "        url = f\"https://cbr.ru/scripts/XML_daily.asp?date_req={today}\"\n",
        "        with self.lock:  # Блокируем доступ для других потоков\n",
        "            response = requests.get(url)\n",
        "            if response.status_code != 200:\n",
        "                raise ValueError(\"Не удалось получить данные о курсах валют.\")\n",
        "\n",
        "            tree = ET.fromstring(response.content)\n",
        "            rates = {\"RUR\": 1.0}  # RUR всегда равен 1.0\n",
        "            for valute in tree.findall(\"Valute\"):\n",
        "                char_code = valute.find(\"CharCode\").text\n",
        "                value = float(valute.find(\"Value\").text.replace(\",\", \".\"))\n",
        "                nominal = int(valute.find(\"Nominal\").text)\n",
        "                rates[char_code] = value / nominal\n",
        "            rates[\"BYR\"] = rates[\"BYN\"]\n",
        "            self.cache.update(rates)\n",
        "\n",
        "    def get_rate(self, currency):\n",
        "        if currency not in self.cache:\n",
        "            print(currency)\n",
        "            self.fetch_exchange_rates()\n",
        "        return self.cache.get(currency, None)"
      ]
    },
    {
      "cell_type": "code",
      "execution_count": null,
      "metadata": {
        "id": "G-v-exokQqwX"
      },
      "outputs": [],
      "source": [
        "converter = CurrencyConverter()"
      ]
    },
    {
      "cell_type": "code",
      "execution_count": null,
      "metadata": {
        "id": "YDTD_gEVObze"
      },
      "outputs": [],
      "source": [
        "def get_converted_salaries(salaries):\n",
        "  converted_salaries = []\n",
        "  for salary in salaries:\n",
        "    currency = salary.get(\"currency\")\n",
        "    salary_from = salary.get(\"from\")\n",
        "    salary_to = salary.get(\"to\")\n",
        "\n",
        "    if currency is None:\n",
        "      continue\n",
        "\n",
        "    if currency == \"RUR\":\n",
        "      converted_salaries.append(salary)\n",
        "      continue\n",
        "\n",
        "    rate = converter.get_rate(currency)\n",
        "    if rate is None:\n",
        "        continue\n",
        "\n",
        "    if salary_from:\n",
        "        salary_from = salary_from * rate\n",
        "    if salary_to:\n",
        "        salary_to = salary_to * rate\n",
        "\n",
        "    converted_salaries.append({\n",
        "        \"from\": salary_from,\n",
        "        \"to\": salary_to,\n",
        "        \"currency\": \"RUR\",\n",
        "        \"gross\": salary.get(\"gross\")\n",
        "    })\n",
        "  return converted_salaries"
      ]
    },
    {
      "cell_type": "code",
      "execution_count": null,
      "metadata": {
        "id": "7eG1QQbfUUHg"
      },
      "outputs": [],
      "source": [
        "def process_specific_salary(chat_id, salaries, text = \"\"):\n",
        "  converted_salaries = get_converted_salaries(salaries)\n",
        "  msg = \"\"\n",
        "  if text:\n",
        "    msg += text\n",
        "  msg += f\"Получено вакансий: {len(converted_salaries)}\\n\"\n",
        "\n",
        "  from_values = [s[\"from\"] for s in salaries if s[\"from\"] is not None]\n",
        "  to_values = [s[\"to\"] for s in salaries if s[\"to\"] is not None]\n",
        "\n",
        "  min_from = int(round(min(from_values, default=0))) if from_values else None\n",
        "  max_to = int(round(max(to_values, default=0))) if to_values else None\n",
        "\n",
        "  mean_from = int(round(mean(from_values))) if from_values else None\n",
        "  mean_to = int(round(mean(to_values))) if to_values else None\n",
        "\n",
        "  median_from = int(round(median(from_values))) if from_values else None\n",
        "  median_to = int(round(median(to_values))) if to_values else None\n",
        "\n",
        "  avg_min_max = int(round((min_from + max_to) / 2)) if min_from is not None and max_to is not None else None\n",
        "  avg_mean = int(round((mean_from + mean_to) / 2)) if mean_from is not None and mean_to is not None else None\n",
        "  avg_meadian = int(round((median_from + median_to) / 2)) if median_from is not None and median_to is not None else None\n",
        "\n",
        "  if min_from:\n",
        "      msg += f\"Минимальное значение 'от': {min_from:,} ₽\\n\"\n",
        "  if max_to:\n",
        "      msg += f\"Максимальное значение 'до': {max_to:,} ₽\\n\"\n",
        "  if mean_from:\n",
        "      msg += f\"Среднее значение 'от': {mean_from:,} ₽\\n\"\n",
        "  if mean_to:\n",
        "      msg += f\"Среднее значение 'до': {mean_to:,} ₽\\n\"\n",
        "  if median_from:\n",
        "      msg += f\"Медиана 'от': {median_from:,} ₽\\n\"\n",
        "  if median_to:\n",
        "      msg += f\"Медиана 'до': {median_to:,} ₽\\n\"\n",
        "\n",
        "  if avg_mean:\n",
        "      msg += f\"Средняя зарплата: {avg_mean:,} ₽\\n\"\n",
        "\n",
        "  bot.send_message(chat_id, msg)"
      ]
    },
    {
      "cell_type": "code",
      "execution_count": null,
      "metadata": {
        "id": "CVu9EyXC8dKJ"
      },
      "outputs": [],
      "source": [
        "def process_salary(chat_id, vacancies):\n",
        "    print(\"process_salary\")\n",
        "    gross_salary = []\n",
        "    not_gross_salary = []\n",
        "    for v in vacancies:\n",
        "      if v[\"salary\"]:\n",
        "        if v[\"salary\"][\"gross\"]:\n",
        "           gross_salary.append(v[\"salary\"])\n",
        "        else:\n",
        "          not_gross_salary.append(v[\"salary\"])\n",
        "\n",
        "    if gross_salary:\n",
        "      process_specific_salary(chat_id, gross_salary, \"💄👛💍 Анализируем зарплаты до вычета налогов.\\n\")\n",
        "    else:\n",
        "      bot.send_message(chat_id, \"Нет вакансий с указаной зарплатов до вычета налогов.\")\n",
        "\n",
        "    if not_gross_salary:\n",
        "      process_specific_salary(chat_id, not_gross_salary, \"💸💵💰 Анализируем зарплаты на руки.\\n\")\n",
        "    else:\n",
        "      bot.send_message(chat_id, \"Нет вакансий с указаной зарплатов на руки.\")"
      ]
    },
    {
      "cell_type": "markdown",
      "metadata": {
        "id": "cmgYHAsjjk18"
      },
      "source": [
        "## Построение частотного словаря для объектов типа \"object\": {\"id\", \"name\"} по name\n",
        "1. Города.\n",
        "2. График работы.\n",
        "3. Опыт работы.\n",
        "4. Занятость."
      ]
    },
    {
      "cell_type": "code",
      "execution_count": null,
      "metadata": {
        "id": "AF4F_57mjk7e"
      },
      "outputs": [],
      "source": [
        "def process_by_name(wb, chat_id, vacancies):\n",
        "  fields = [\n",
        "      {\n",
        "          \"field\": \"area\",\n",
        "          \"msg\" : \"🌃 Города:\"\n",
        "       },\n",
        "      {\n",
        "          \"field\": \"schedule\",\n",
        "          \"msg\" : \"📊 График работы:\"\n",
        "       },\n",
        "      {\n",
        "          \"field\": \"experience\",\n",
        "          \"msg\" : \"📚 Опыт работы:\"\n",
        "       },\n",
        "      {\n",
        "          \"field\": \"employment\",\n",
        "          \"msg\" : \"🔔 Занятость:\"\n",
        "       }\n",
        "      ]\n",
        "  for field_data in fields:\n",
        "    field = field_data[\"field\"]\n",
        "    msg = field_data[\"msg\"]\n",
        "    print(field)\n",
        "    process_field_name(wb, chat_id, vacancies, field, msg)"
      ]
    },
    {
      "cell_type": "markdown",
      "metadata": {
        "id": "cWBaFhfUsz8n"
      },
      "source": [
        "## Построение частотного словаря для объектов типа \"object\": true/false\n",
        "1. Ночные смены\n",
        "2. Стажировка"
      ]
    },
    {
      "cell_type": "code",
      "execution_count": null,
      "metadata": {
        "id": "ytWVIZN3szd3"
      },
      "outputs": [],
      "source": [
        "def process_binary_fields(wb, chat_id, vacancies):\n",
        "  fields = [\n",
        "      {\n",
        "          \"field\": \"night_shifts\",\n",
        "          \"msg\" : \"🌙 Ночные смены:\"\n",
        "       },\n",
        "      {\n",
        "          \"field\": \"internship\",\n",
        "          \"msg\" : \"👨‍🏫 Стажировка:\"\n",
        "       }\n",
        "      ]\n",
        "  for field_data in fields:\n",
        "    field = field_data[\"field\"]\n",
        "    msg = field_data[\"msg\"]\n",
        "    print(field)\n",
        "    process_binary_field(wb, chat_id, vacancies, field, msg)"
      ]
    },
    {
      "cell_type": "markdown",
      "metadata": {
        "id": "fMjOLwYByRtJ"
      },
      "source": [
        "## Построение частотного словаря для объектов типа \"object\": [{id, name}]\n",
        "1. Рабочие часы.\n",
        "2. Рабочие смены.\n",
        "3. Профессиональные роли."
      ]
    },
    {
      "cell_type": "code",
      "execution_count": null,
      "metadata": {
        "id": "Pvtz7euj9VLM"
      },
      "outputs": [],
      "source": [
        "def process_list_fields(wb, chat_id, vacancies):\n",
        "  fields = [\n",
        "      {\n",
        "          \"field\": \"working_hours\",\n",
        "          \"msg\" : \"⏱ Рабочие часы:\"\n",
        "       },\n",
        "      {\n",
        "          \"field\": \"work_schedule_by_days\",\n",
        "          \"msg\" : \"💼 Рабочие смены:\"\n",
        "       },\n",
        "      {\n",
        "          \"field\": \"professional_roles\",\n",
        "          \"msg\" : \"🛠 Профессиональные роли:\"\n",
        "       }\n",
        "      ]\n",
        "  for field_data in fields:\n",
        "    field = field_data[\"field\"]\n",
        "    msg = field_data[\"msg\"]\n",
        "    print(field)\n",
        "    process_list_field(wb, chat_id, vacancies, field, msg)"
      ]
    },
    {
      "cell_type": "markdown",
      "metadata": {
        "id": "JKIlNSzcEJ8g"
      },
      "source": [
        "## Запуск анализа"
      ]
    },
    {
      "cell_type": "code",
      "execution_count": null,
      "metadata": {
        "id": "n9BKVdEDgE_z"
      },
      "outputs": [],
      "source": [
        "from concurrent.futures import ThreadPoolExecutor"
      ]
    },
    {
      "cell_type": "code",
      "execution_count": null,
      "metadata": {
        "id": "f6e5Ek-Fft6m"
      },
      "outputs": [],
      "source": [
        "user_states = {}\n",
        "ideal_candidate_profiles = {}"
      ]
    },
    {
      "cell_type": "code",
      "execution_count": null,
      "metadata": {
        "id": "7e8LBwT1_GEu"
      },
      "outputs": [],
      "source": [
        "def perform_analysis(chat_id, vacancies, text, host = \"hh.ru\"):\n",
        "  \"\"\"\n",
        "    Выполнение анализа вакансий с учетом выбранного хоста\n",
        "\n",
        "    :param chat_id: ID чата\n",
        "    :param vacancies: список вакансий\n",
        "    :param text: текстовое описание\n",
        "    :param host: хост (по умолчанию hh.ru)\n",
        "    \"\"\"\n",
        "  print(chat_id)\n",
        "  if not vacancies:\n",
        "    bot.send_message(\n",
        "            chat_id,\n",
        "            \"К сожалению, по вашему описанию не найдено ни одной вакансии. 🤔\\n\"\n",
        "            \"Попробуйте переписать описание вакансии или попробуйте позже — возможно, на сервере временные проблемы.\"\n",
        "        )\n",
        "    return\n",
        "  print(host)\n",
        "\n",
        "  wb = openpyxl.Workbook()\n",
        "  print_excel_vacancies(wb, vacancies, host)\n",
        "\n",
        "  bot.send_message(chat_id, f\"Получено вакансий: {len(vacancies)}\")\n",
        "  bot.send_message(chat_id, \"Начинаем анализ найденных вакансий... 🕵️‍♂️\")\n",
        "  with ThreadPoolExecutor() as executor:\n",
        "      future = executor.submit(get_full_vacancies, vacancies, host)\n",
        "\n",
        "      process_by_name(wb, chat_id, vacancies)\n",
        "      process_binary_fields(wb, chat_id, vacancies)\n",
        "      process_list_fields(wb, chat_id, vacancies)\n",
        "\n",
        "      process_salary(chat_id, vacancies)\n",
        "\n",
        "      send_excel_file(wb, chat_id, text, host)\n",
        "      full_vacancies = future.result()\n",
        "\n",
        "  process_full_vacancies(wb, chat_id, full_vacancies, text)\n",
        "  bot.send_message(chat_id, f\"Анализ завершен! ✅\")\n",
        "\n",
        "  # Добавляем кнопку для анализа резюме\n",
        "  markup = types.ReplyKeyboardMarkup(resize_keyboard=True)\n",
        "  resume_button = types.KeyboardButton(\"Отправить резюме для анализа\")\n",
        "  markup.add(resume_button)\n",
        "\n",
        "  bot.send_message(\n",
        "        chat_id,\n",
        "        \"Хотите проверить шансы получения оффера? 🤔\\n\"\n",
        "        \"Нажмите кнопку и отправьте свое резюме в текстовом формате.\",\n",
        "        reply_markup=markup\n",
        "    )\n",
        "\n",
        "  # Устанавливаем состояние ожидания резюме\n",
        "  user_states[chat_id] = 'waiting_for_resume'"
      ]
    },
    {
      "cell_type": "code",
      "execution_count": null,
      "metadata": {
        "id": "ycQLoYtNf81w"
      },
      "outputs": [],
      "source": [
        "# Функция для получения профиля идеального кандидата\n",
        "# (можно реализовать хранение в словаре или базе данных)\n",
        "def get_ideal_candidate_profile(chat_id):\n",
        "    # Здесь должна быть логика получения профиля,\n",
        "    # сохраненного во время предыдущего анализа\n",
        "    # Например, можно использовать глобальный словарь или базу данных\n",
        "    return ideal_candidate_profiles.get(chat_id, \"\")"
      ]
    },
    {
      "cell_type": "code",
      "execution_count": null,
      "metadata": {
        "id": "aquZjikwfl7f"
      },
      "outputs": [],
      "source": [
        "# Обработчик сообщений в боте\n",
        "@bot.message_handler(func=lambda message: True)\n",
        "def handle_messages(message):\n",
        "    chat_id = message.chat.id\n",
        "\n",
        "    # Проверяем состояние пользователя\n",
        "    if user_states.get(chat_id) == 'waiting_for_resume':\n",
        "        # Получаем текст резюме\n",
        "        resume_text = message.text\n",
        "\n",
        "        # Получаем профиль идеального кандидата из предыдущего анализа вакансий\n",
        "        ideal_candidate_profile = get_ideal_candidate_profile(chat_id)\n",
        "\n",
        "        # Анализируем резюме\n",
        "        analyze_resume(chat_id, resume_text, ideal_candidate_profile)\n",
        "\n",
        "        # Сбрасываем состояние\n",
        "        user_states[chat_id] = None\n",
        "\n",
        "        # Убираем клавиатуру\n",
        "        markup = types.ReplyKeyboardRemove()\n",
        "        bot.send_message(chat_id, \"Анализ резюме завершен.\", reply_markup=markup)"
      ]
    },
    {
      "cell_type": "markdown",
      "metadata": {
        "id": "a0c4fpLvykdo"
      },
      "source": [
        "# TELEGRAM BOT"
      ]
    },
    {
      "cell_type": "code",
      "execution_count": null,
      "metadata": {
        "colab": {
          "background_save": true,
          "base_uri": "https://localhost:8080/"
        },
        "id": "yHtXPw2VxvvG",
        "outputId": "aca9a94d-3223-423c-ca02-1f429fd1fb8e"
      },
      "outputs": [
        {
          "name": "stdout",
          "output_type": "stream",
          "text": [
            "Requirement already satisfied: telebot in /usr/local/lib/python3.10/dist-packages (0.0.5)\n",
            "Requirement already satisfied: pyTelegramBotAPI in /usr/local/lib/python3.10/dist-packages (from telebot) (4.25.0)\n",
            "Requirement already satisfied: requests in /usr/local/lib/python3.10/dist-packages (from telebot) (2.32.3)\n",
            "Requirement already satisfied: charset-normalizer<4,>=2 in /usr/local/lib/python3.10/dist-packages (from requests->telebot) (3.4.0)\n",
            "Requirement already satisfied: idna<4,>=2.5 in /usr/local/lib/python3.10/dist-packages (from requests->telebot) (3.10)\n",
            "Requirement already satisfied: urllib3<3,>=1.21.1 in /usr/local/lib/python3.10/dist-packages (from requests->telebot) (2.2.3)\n",
            "Requirement already satisfied: certifi>=2017.4.17 in /usr/local/lib/python3.10/dist-packages (from requests->telebot) (2024.12.14)\n"
          ]
        }
      ],
      "source": [
        "!pip install telebot"
      ]
    },
    {
      "cell_type": "code",
      "execution_count": null,
      "metadata": {
        "colab": {
          "background_save": true
        },
        "id": "HL62dOrfxsMx"
      },
      "outputs": [],
      "source": [
        "import telebot\n",
        "from telebot import types"
      ]
    },
    {
      "cell_type": "code",
      "execution_count": null,
      "metadata": {
        "colab": {
          "background_save": true
        },
        "id": "HitJqjTHx8AF"
      },
      "outputs": [],
      "source": [
        "bot = telebot.TeleBot(\"token\")"
      ]
    },
    {
      "cell_type": "code",
      "execution_count": null,
      "metadata": {
        "colab": {
          "background_save": true
        },
        "id": "kAihu2jJv9CH"
      },
      "outputs": [],
      "source": [
        "# Глобальный словарь для хранения текущего описания вакансии\n",
        "user_vacancy_context = {}"
      ]
    },
    {
      "cell_type": "code",
      "execution_count": null,
      "metadata": {
        "colab": {
          "background_save": true
        },
        "id": "HYMW0vqSxs0w"
      },
      "outputs": [],
      "source": [
        "@bot.message_handler(commands=['start'])\n",
        "def start(message):\n",
        "    bot.reply_to(message, \"Привет! Напиши описание вакансии.\")"
      ]
    },
    {
      "cell_type": "code",
      "execution_count": null,
      "metadata": {
        "colab": {
          "background_save": true
        },
        "id": "1wCqLEPuzxF_"
      },
      "outputs": [],
      "source": [
        "@bot.message_handler(func=lambda message: True)\n",
        "def process_vacancy(message):\n",
        "    print(message)\n",
        "    print(20*'-')\n",
        "    user_input = message.text\n",
        "    chat_id = message.chat.id\n",
        "\n",
        "    # Сохраняем описание вакансии для пользователя\n",
        "    user_vacancy_context[chat_id] = {\n",
        "        'description': user_input\n",
        "    }\n",
        "\n",
        "    # Создаем клавиатуру с хостами\n",
        "    markup = types.ReplyKeyboardMarkup(row_width=2, resize_keyboard=True)\n",
        "    buttons = [types.KeyboardButton(host) for host in hosts]\n",
        "    markup.add(*buttons)\n",
        "\n",
        "    # Отправляем сообщение с выбором хоста\n",
        "    bot.send_message(\n",
        "        chat_id,\n",
        "        f\"Получено описание вакансии: {user_input}\\n\\nВыберите сайт для поиска:\",\n",
        "        reply_markup=markup\n",
        "    )\n",
        "\n",
        "    # Устанавливаем следующий обработчик\n",
        "    bot.register_next_step_handler(message, process_host_selection)\n",
        "\n",
        "def process_host_selection(message):\n",
        "    chat_id = message.chat.id\n",
        "    selected_host = message.text\n",
        "\n",
        "    # Проверяем, что хост валидный\n",
        "    if selected_host not in hosts:\n",
        "        bot.send_message(chat_id, \"Пожалуйста, выберите хост из предложенных.\")\n",
        "        return\n",
        "\n",
        "    # Получаем сохраненное описание вакансии\n",
        "    vacancy_description = user_vacancy_context.get(chat_id, {}).get('description')\n",
        "\n",
        "    if not vacancy_description:\n",
        "        bot.send_message(chat_id, \"Произошла ошибка. Пожалуйста, начните заново с /start\")\n",
        "        return\n",
        "\n",
        "    # Убираем клавиатуру\n",
        "    markup = types.ReplyKeyboardRemove(selective=False)\n",
        "\n",
        "    # Подтверждаем выбор\n",
        "    bot.send_message(\n",
        "        chat_id,\n",
        "        f\"Вы выбрали сайт {selected_host}. Начинаем поиск...\",\n",
        "        reply_markup=markup\n",
        "    )\n",
        "\n",
        "    # # Шаг 1: Подтверждение получения описания\n",
        "    # bot.reply_to(message, f\"Получено описание вакансии: {user_input}\\nНачинаем обработку...\")\n",
        "\n",
        "    # Шаг 2: Обработки вакансий\n",
        "    # Получаем вакансии с выбранного хоста\n",
        "    try:\n",
        "        vac = get_vacancies(vacancy_description, host=selected_host)\n",
        "\n",
        "        if not vac:\n",
        "            bot.send_message(chat_id, \"К сожалению, вакансии не найдены.\")\n",
        "            return\n",
        "\n",
        "        log_message_to_db(message, selected_host, vacancy_description)\n",
        "\n",
        "        # Анализ вакансий\n",
        "        perform_analysis(message.chat.id, vac, vacancy_description, host=selected_host)\n",
        "\n",
        "        url = get_url(vacancy_description, selected_host)\n",
        "        bot.send_message(chat_id,\n",
        "                         f\"Вы можете посмотреть вакансии по ссылке: [Кликните здесь]({url})\",\n",
        "                         parse_mode='Markdown')\n",
        "        #здесь будет проверка резюме по кнопке\n",
        "\n",
        "        # Шаг 3: Сообщение о завершении\n",
        "        bot.send_message(message.chat.id, \"Мы закончили обработку описания вакансии. Можете ввести новое описание.\")\n",
        "    except Exception as e:\n",
        "        bot.send_message(chat_id, f\"Произошла ошибка при поиске: {str(e)}\")\n",
        "\n",
        "    # Очищаем контекст пользователя\n",
        "    user_vacancy_context.pop(chat_id, None)\n"
      ]
    },
    {
      "cell_type": "code",
      "execution_count": null,
      "metadata": {
        "colab": {
          "background_save": true
        },
        "id": "OXYWML_lYXsc"
      },
      "outputs": [],
      "source": [
        "db_connection = mysql.connector.connect(\n",
        "        host=\"host\",\n",
        "        user=\"user\",\n",
        "        password=\"pass\",\n",
        "        database=\"db\"\n",
        "    )\n",
        "\n",
        "if db_connection.is_connected():\n",
        "        print(\"Подключение к базе данных успешно установлено.\")"
      ]
    },
    {
      "cell_type": "code",
      "execution_count": null,
      "metadata": {
        "id": "cKC33Mb9zxK5"
      },
      "outputs": [],
      "source": [
        "bot.polling()"
      ]
    },
    {
      "cell_type": "code",
      "execution_count": null,
      "metadata": {
        "id": "H7yBowRKYbeM"
      },
      "outputs": [],
      "source": [
        "if db_connection and db_connection.is_connected():\n",
        "        db_connection.close()"
      ]
    }
  ],
  "metadata": {
    "colab": {
      "provenance": []
    },
    "kernelspec": {
      "display_name": "Python 3",
      "name": "python3"
    },
    "language_info": {
      "name": "python"
    }
  },
  "nbformat": 4,
  "nbformat_minor": 0
}