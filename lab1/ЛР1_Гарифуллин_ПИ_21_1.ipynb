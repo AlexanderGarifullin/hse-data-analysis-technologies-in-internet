{
  "nbformat": 4,
  "nbformat_minor": 0,
  "metadata": {
    "colab": {
      "provenance": []
    },
    "kernelspec": {
      "name": "python3",
      "display_name": "Python 3"
    },
    "language_info": {
      "name": "python"
    }
  },
  "cells": [
    {
      "cell_type": "markdown",
      "source": [
        "# Задание 1\n",
        "Дан текст с географическими названиями населенных пунктов (г. Пермь, п. Скобелевка, …). Найти вхождения населенных пунктов:\n",
        "1.   г - город;\n",
        "2.   пгт - поселок городского типа;\n",
        "3. рп - рабочий поселок;\n",
        "4. кп - курортный поселок;\n",
        "5. \tк - кишлак;\n",
        "6.\tдп - дачный поселок;\n",
        "7.\tп - поселок;\n",
        "8.\tп. ст - поселок при станции (поселок станции);\n",
        "9.\tс - село;\n",
        "10.\tд - деревня;\n",
        "11.\tсл - слобода;\n",
        "12.\tст - станция;\n",
        "13.\tст-ца - станица;\n",
        "14.\tх - хутор;\n",
        "15.\tу - улус;\n",
        "16.\tрзд - разъезд;\n",
        "17.\tзим - зимовье.\n"
      ],
      "metadata": {
        "id": "PBhcUlcmF8Vm"
      }
    },
    {
      "cell_type": "code",
      "execution_count": null,
      "metadata": {
        "id": "Qp-yhuVy-FFr",
        "colab": {
          "base_uri": "https://localhost:8080/",
          "height": 36
        },
        "outputId": "0e15f2d0-a2e8-49ca-b206-0cb33774bfa3"
      },
      "outputs": [
        {
          "output_type": "execute_result",
          "data": {
            "text/plain": [
              "'\\x08(?:г|пгт|рп|кп|к|дп|п(?:\\\\. ст)?|с|д|сл|ст(?:-ца)?|х|у|рзд|зим)\\\\.? ?[А-ЯЁ][а-яё]+(?:-[А-ЯЁ][а-яё]+)*'"
            ],
            "application/vnd.google.colaboratory.intrinsic+json": {
              "type": "string"
            }
          },
          "metadata": {},
          "execution_count": 125
        }
      ],
      "source": [
        "\"\\b(?:г|пгт|рп|кп|к|дп|п(?:\\. ст)?|с|д|сл|ст(?:-ца)?|х|у|рзд|зим)\\.? ?[А-ЯЁ][а-яё]+(?:-[А-ЯЁ][а-яё]+)*\""
      ]
    },
    {
      "cell_type": "markdown",
      "source": [
        "# Задание 2\n",
        "Проверить надежно ли составлен пароль. Пароль считается надежным, если он состоит из 8 или более символов. Пароль должен содержать хотя бы одну заглавную букву, одну маленькую букву одну цифру, хотя бы один специальный символ («!», «@», «#», «$», «%», «^», «&», «*») и не является последовательностью («123456», «123456789», «qwerty»)."
      ],
      "metadata": {
        "id": "tSjAeXrOH6nW"
      }
    },
    {
      "cell_type": "code",
      "source": [
        "\"^(?=.*[a-z])(?=.*[A-Z])(?=.*\\d)(?=.*[!@#$%^&*])[A-Za-z\\d!@#$%^&*]{8,}$\""
      ],
      "metadata": {
        "id": "kEHHX74QHtyy",
        "colab": {
          "base_uri": "https://localhost:8080/",
          "height": 36
        },
        "outputId": "1ae588a7-7019-493c-d4f2-88cd112d8329"
      },
      "execution_count": null,
      "outputs": [
        {
          "output_type": "execute_result",
          "data": {
            "text/plain": [
              "'^(?=.*[a-z])(?=.*[A-Z])(?=.*\\\\d)(?=.*[!@#$%^&*])[A-Za-z\\\\d!@#$%^&*]{8,}$'"
            ],
            "application/vnd.google.colaboratory.intrinsic+json": {
              "type": "string"
            }
          },
          "metadata": {},
          "execution_count": 126
        }
      ]
    },
    {
      "cell_type": "markdown",
      "source": [
        "# Задание 3\n",
        "Прямая речь перед словами автора"
      ],
      "metadata": {
        "id": "teA04yDMJ3g8"
      }
    },
    {
      "cell_type": "code",
      "source": [
        "\"«[^»]*?»\\s*[,?!.]?\\s*—\\s*([а-яА-ЯёЁ]+(?:\\s+[а-яА-ЯёЁ]+)*)\\.?\""
      ],
      "metadata": {
        "id": "hfdjl8uxJ8q6",
        "colab": {
          "base_uri": "https://localhost:8080/",
          "height": 36
        },
        "outputId": "f8d13592-9f61-4cad-cd16-c3c796c6c5e8"
      },
      "execution_count": null,
      "outputs": [
        {
          "output_type": "execute_result",
          "data": {
            "text/plain": [
              "'«[^»]*?»\\\\s*[,?!.]?\\\\s*—\\\\s*([а-яА-ЯёЁ]+(?:\\\\s+[а-яА-ЯёЁ]+)*)\\\\.?'"
            ],
            "application/vnd.google.colaboratory.intrinsic+json": {
              "type": "string"
            }
          },
          "metadata": {},
          "execution_count": 127
        }
      ]
    },
    {
      "cell_type": "markdown",
      "source": [
        "Прямая речь после слов автора"
      ],
      "metadata": {
        "id": "sXO5TZOSOioa"
      }
    },
    {
      "cell_type": "code",
      "source": [
        "\"([А-ЯЁ][а-яА-ЯёЁ\\s,]*:\\s*)«([А-ЯЁ][^»]*)»\""
      ],
      "metadata": {
        "id": "HeuuLS38O4XR",
        "colab": {
          "base_uri": "https://localhost:8080/",
          "height": 36
        },
        "outputId": "64ab5c4f-d83f-4390-b629-32585881b981"
      },
      "execution_count": null,
      "outputs": [
        {
          "output_type": "execute_result",
          "data": {
            "text/plain": [
              "'([А-ЯЁ][а-яА-ЯёЁ\\\\s,]*:\\\\s*)«([А-ЯЁ][^»]*)»'"
            ],
            "application/vnd.google.colaboratory.intrinsic+json": {
              "type": "string"
            }
          },
          "metadata": {},
          "execution_count": 128
        }
      ]
    },
    {
      "cell_type": "markdown",
      "source": [
        "Слова автора внутри прямой речи"
      ],
      "metadata": {
        "id": "8fVhH5M7OkbH"
      }
    },
    {
      "cell_type": "code",
      "source": [
        "\"([А-ЯЁ][^,]*)\\,\\s*—\\s*([а-яё][^,.]*)(?:\\.\\s*—\\s*([А-ЯЁ][^.]*)|\\,\\s*—\\s*([а-яё][^.]*))\\.\""
      ],
      "metadata": {
        "id": "MbC-anObPEQ2",
        "colab": {
          "base_uri": "https://localhost:8080/",
          "height": 36
        },
        "outputId": "796a7a7b-7fd4-45ce-b71f-319ab82cc742"
      },
      "execution_count": null,
      "outputs": [
        {
          "output_type": "execute_result",
          "data": {
            "text/plain": [
              "'([А-ЯЁ][^,]*)\\\\,\\\\s*—\\\\s*([а-яё][^,.]*)(?:\\\\.\\\\s*—\\\\s*([А-ЯЁ][^.]*)|\\\\,\\\\s*—\\\\s*([а-яё][^.]*))\\\\.'"
            ],
            "application/vnd.google.colaboratory.intrinsic+json": {
              "type": "string"
            }
          },
          "metadata": {},
          "execution_count": 129
        }
      ]
    },
    {
      "cell_type": "markdown",
      "source": [
        "Прямая речь внутри слов автора"
      ],
      "metadata": {
        "id": "Ulpv0pCPOlkE"
      }
    },
    {
      "cell_type": "code",
      "source": [
        "\"([А-ЯЁ][^:]*?):\\s*«([^»]+?)»[,?!…]?\\s*—\\s*([а-яё].*)\""
      ],
      "metadata": {
        "id": "gEnI3P8Dkf37",
        "colab": {
          "base_uri": "https://localhost:8080/",
          "height": 36
        },
        "outputId": "db3e393d-fe9d-4c07-a32f-109edf267719"
      },
      "execution_count": null,
      "outputs": [
        {
          "output_type": "execute_result",
          "data": {
            "text/plain": [
              "'([А-ЯЁ][^:]*?):\\\\s*«([^»]+?)»[,?!…]?\\\\s*—\\\\s*([а-яё].*)'"
            ],
            "application/vnd.google.colaboratory.intrinsic+json": {
              "type": "string"
            }
          },
          "metadata": {},
          "execution_count": 130
        }
      ]
    },
    {
      "cell_type": "markdown",
      "source": [
        "# Задание 4\n",
        "Выделить в тексте предложения с обобщающими словами. Рассмотреть все варианты пунктуации. (Например: «Всякий день стал приносить старый Мосеич разную крупную рыбу: щук, язей, голавлей, линей, окуней.»)"
      ],
      "metadata": {
        "id": "5chMb7CRxbN_"
      }
    },
    {
      "cell_type": "markdown",
      "source": [
        "Обобщающее до"
      ],
      "metadata": {
        "id": "SPTuV9ROzhZM"
      }
    },
    {
      "cell_type": "code",
      "source": [
        "\"([А-ЯЁа-яё][а-яё\\s]+)\\s*:\\s*([а-яё\\s,]+)\""
      ],
      "metadata": {
        "id": "Dj0xaN5fxfT-",
        "colab": {
          "base_uri": "https://localhost:8080/",
          "height": 36
        },
        "outputId": "e503aa15-c8bb-4bec-b400-d80795713ec8"
      },
      "execution_count": null,
      "outputs": [
        {
          "output_type": "execute_result",
          "data": {
            "text/plain": [
              "'([А-ЯЁа-яё][а-яё\\\\s]+)\\\\s*:\\\\s*([а-яё\\\\s,]+)'"
            ],
            "application/vnd.google.colaboratory.intrinsic+json": {
              "type": "string"
            }
          },
          "metadata": {},
          "execution_count": 131
        }
      ]
    },
    {
      "cell_type": "markdown",
      "source": [
        "Обобщаюее после"
      ],
      "metadata": {
        "id": "Cl4NThrFzjLO"
      }
    },
    {
      "cell_type": "code",
      "source": [
        "\"([А-ЯЁа-яё][а-яё\\s,]+)\\s*—\\s*([а-яё\\s]+)|([а-яё\\s,]+)\\s*—\\s*([А-ЯЁа-яё][а-яё\\s]+)\""
      ],
      "metadata": {
        "id": "5E2o_-fBzkqN",
        "colab": {
          "base_uri": "https://localhost:8080/",
          "height": 36
        },
        "outputId": "c1a3e6dc-7a3c-4253-836a-72389ed00053"
      },
      "execution_count": null,
      "outputs": [
        {
          "output_type": "execute_result",
          "data": {
            "text/plain": [
              "'([А-ЯЁа-яё][а-яё\\\\s,]+)\\\\s*—\\\\s*([а-яё\\\\s]+)|([а-яё\\\\s,]+)\\\\s*—\\\\s*([А-ЯЁа-яё][а-яё\\\\s]+)'"
            ],
            "application/vnd.google.colaboratory.intrinsic+json": {
              "type": "string"
            }
          },
          "metadata": {},
          "execution_count": 132
        }
      ]
    },
    {
      "cell_type": "markdown",
      "source": [
        "# Задание 5\n",
        "Удалить комментарии из исходного кода программы на С#. Комментарии однострочные или многострочные."
      ],
      "metadata": {
        "id": "gRHJWam20aHN"
      }
    },
    {
      "cell_type": "code",
      "source": [
        "import re\n",
        "\n",
        "def remove_comments(code):\n",
        "    code_without_single_line_comments = re.sub(r'//.*', '', code)\n",
        "    code_without_multiline_comments = re.sub(r'/\\*.*?\\*/', '', code_without_single_line_comments, flags=re.DOTALL)\n",
        "    return code_without_multiline_comments"
      ],
      "metadata": {
        "id": "RTRDyyjs0661"
      },
      "execution_count": null,
      "outputs": []
    },
    {
      "cell_type": "code",
      "source": [
        "csharp_code = \"\"\"\n",
        "using System;\n",
        "\n",
        "// Это однострочный комментарий\n",
        "namespace HelloWorld\n",
        "{\n",
        "    /* Это\n",
        "       многострочный\n",
        "       комментарий */\n",
        "    class Program\n",
        "    {\n",
        "        static void Main(string[] args)\n",
        "        {\n",
        "            Console.WriteLine(\"Hello World!\"); // Вывод на консоль\n",
        "        }\n",
        "    }\n",
        "}\n",
        "\"\"\""
      ],
      "metadata": {
        "id": "alAKNfX11jYX"
      },
      "execution_count": null,
      "outputs": []
    },
    {
      "cell_type": "code",
      "source": [
        "# Удаление комментариев\n",
        "cleaned_code = remove_comments(csharp_code)\n",
        "\n",
        "# Вывод результата\n",
        "print(cleaned_code.strip())"
      ],
      "metadata": {
        "colab": {
          "base_uri": "https://localhost:8080/"
        },
        "id": "3tD6sdQ61oiB",
        "outputId": "edbdb513-204c-431b-e4eb-05dd57d690ce"
      },
      "execution_count": null,
      "outputs": [
        {
          "output_type": "stream",
          "name": "stdout",
          "text": [
            "using System;\n",
            "\n",
            "\n",
            "namespace HelloWorld\n",
            "{\n",
            "    \n",
            "    class Program\n",
            "    {\n",
            "        static void Main(string[] args)\n",
            "        {\n",
            "            Console.WriteLine(\"Hello World!\"); \n",
            "        }\n",
            "    }\n",
            "}\n"
          ]
        }
      ]
    },
    {
      "cell_type": "markdown",
      "source": [
        "# Задание 6\n",
        "Решить задачи (20 заданий) на ресурсе https://www.spoj.com/SHORTEN/problems/regex/.  (Ресурс доступен через VPN. В качестве результата в отчете представить снимок экрана и пояснить логику решения.)\n",
        "![EixFJYi3aQ0.jpg](data:image/jpeg;base64,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)"
      ],
      "metadata": {
        "id": "0NTnXrkK236e"
      }
    },
    {
      "cell_type": "markdown",
      "source": [
        "1) Warmup\n",
        "- просто слова, где внутри есть foo"
      ],
      "metadata": {
        "id": "epNd5ugB3Tk8"
      }
    },
    {
      "cell_type": "code",
      "source": [
        "\"\\b\\w*foo\\w*\\b\""
      ],
      "metadata": {
        "id": "cR8dbx7P3W7Q",
        "colab": {
          "base_uri": "https://localhost:8080/",
          "height": 36
        },
        "outputId": "b4fdf86e-43b9-4e71-f495-086e6ab77e29"
      },
      "execution_count": null,
      "outputs": [
        {
          "output_type": "execute_result",
          "data": {
            "text/plain": [
              "'\\x08\\\\w*foo\\\\w*\\x08'"
            ],
            "application/vnd.google.colaboratory.intrinsic+json": {
              "type": "string"
            }
          },
          "metadata": {},
          "execution_count": 136
        }
      ]
    },
    {
      "cell_type": "markdown",
      "source": [
        "2)Anchors\n",
        "*   Просто возьмем те слова, где есть ick внутри слова.\n",
        "\n"
      ],
      "metadata": {
        "id": "vUaklf7e3YQ8"
      }
    },
    {
      "cell_type": "code",
      "source": [
        "\"\\b\\w*ick\\w*\\b\""
      ],
      "metadata": {
        "id": "UEWS08k13YQ9",
        "colab": {
          "base_uri": "https://localhost:8080/",
          "height": 36
        },
        "outputId": "95a1db2f-2e09-4648-c7a5-5c535e58d4a6"
      },
      "execution_count": null,
      "outputs": [
        {
          "output_type": "execute_result",
          "data": {
            "text/plain": [
              "'\\x08\\\\w*ick\\\\w*\\x08'"
            ],
            "application/vnd.google.colaboratory.intrinsic+json": {
              "type": "string"
            }
          },
          "metadata": {},
          "execution_count": 137
        }
      ]
    },
    {
      "cell_type": "markdown",
      "source": [
        "3)Ranges\n",
        "\n",
        "\n",
        "*   Просто возьмем те слова, которая состоят из букв от а до f.\n",
        "\n",
        "\n",
        "\n"
      ],
      "metadata": {
        "id": "lBhM_EUA3Ylh"
      }
    },
    {
      "cell_type": "code",
      "source": [
        "\"^[a-f]+$\""
      ],
      "metadata": {
        "id": "mFAy840D3Ylh",
        "colab": {
          "base_uri": "https://localhost:8080/",
          "height": 36
        },
        "outputId": "ac12a344-e780-4c7f-9460-64997c54a1f5"
      },
      "execution_count": null,
      "outputs": [
        {
          "output_type": "execute_result",
          "data": {
            "text/plain": [
              "'^[a-f]+$'"
            ],
            "application/vnd.google.colaboratory.intrinsic+json": {
              "type": "string"
            }
          },
          "metadata": {},
          "execution_count": 138
        }
      ]
    },
    {
      "cell_type": "markdown",
      "source": [
        "4) Backrefs\n",
        "* Просто возьмем те слова, которые соответствуют правилу:\n",
        "Часть из 2+ букв английского алфавита + какие-то английские буквы сколько-то раз + та же самая часть из начала + сколько-то английских букв.\n"
      ],
      "metadata": {
        "id": "jtnNVXZH3Y12"
      }
    },
    {
      "cell_type": "code",
      "source": [
        "\"^(?P<start>[a-z]{2,})(?P<other>[a-z]*)(?P=start)([a-z]*)$\""
      ],
      "metadata": {
        "id": "4_MpTwbX3Y12",
        "colab": {
          "base_uri": "https://localhost:8080/",
          "height": 36
        },
        "outputId": "a7910c2f-b4c8-42f4-b2b8-3eea4032bdc6"
      },
      "execution_count": null,
      "outputs": [
        {
          "output_type": "execute_result",
          "data": {
            "text/plain": [
              "'^(?P<start>[a-z]{2,})(?P<other>[a-z]*)(?P=start)([a-z]*)$'"
            ],
            "application/vnd.google.colaboratory.intrinsic+json": {
              "type": "string"
            }
          },
          "metadata": {},
          "execution_count": 139
        }
      ]
    },
    {
      "cell_type": "markdown",
      "source": [
        "5) Euclid\n",
        "* Возьмем выражения формата:\n",
        "gcd(x(m раз), x(n раз)) = x(gcd(m,n) раз);\n"
      ],
      "metadata": {
        "id": "ZoZT4x_Y3Y8A"
      }
    },
    {
      "cell_type": "code",
      "source": [
        "\"gcd\\(x{m}, x{n}\\) = x{gcd(m, n)}\""
      ],
      "metadata": {
        "id": "bjBMEdpI3Y8A",
        "colab": {
          "base_uri": "https://localhost:8080/",
          "height": 36
        },
        "outputId": "bf10cc9b-77b2-43e8-ce97-17ec12270f43"
      },
      "execution_count": null,
      "outputs": [
        {
          "output_type": "execute_result",
          "data": {
            "text/plain": [
              "'gcd\\\\(x{m}, x{n}\\\\) = x{gcd(m, n)}'"
            ],
            "application/vnd.google.colaboratory.intrinsic+json": {
              "type": "string"
            }
          },
          "metadata": {},
          "execution_count": 140
        }
      ]
    },
    {
      "cell_type": "markdown",
      "source": [
        "6) Abba\n",
        "* Возьмем выражения, которые не подходят под формат:\n",
        "сколько-то букв английского алфавита + палиндром из 4 букв + сколько-то букв английского алфавита\n"
      ],
      "metadata": {
        "id": "JE72wBz93ZCD"
      }
    },
    {
      "cell_type": "code",
      "source": [
        "\"^(?![a-z]*?(?P<first>[a-zA-Z])(?P<second>[a-zA-Z]?)(?P=second)(?P=first)[a-z]*?$).*$\""
      ],
      "metadata": {
        "id": "4n9RqsXs3ZCE",
        "colab": {
          "base_uri": "https://localhost:8080/",
          "height": 36
        },
        "outputId": "b917d004-0cc6-4ee4-ebf1-55d215af0ba0"
      },
      "execution_count": null,
      "outputs": [
        {
          "output_type": "execute_result",
          "data": {
            "text/plain": [
              "'^(?![a-z]*?(?P<first>[a-zA-Z])(?P<second>[a-zA-Z]?)(?P=second)(?P=first)[a-z]*?$).*$'"
            ],
            "application/vnd.google.colaboratory.intrinsic+json": {
              "type": "string"
            }
          },
          "metadata": {},
          "execution_count": 141
        }
      ]
    },
    {
      "cell_type": "markdown",
      "source": [
        "7) A man, a plan\n",
        "* В этой задаче надо найди все палиндромы."
      ],
      "metadata": {
        "id": "sokgCHHj3ZHU"
      }
    },
    {
      "cell_type": "code",
      "source": [
        "\"^(?P<chars>[a-z])(?:(?P<middle>[a-z])?(?P=chars)?|[a-z]*?)(?P=chars)$\""
      ],
      "metadata": {
        "id": "9O5vFBv_3ZHV",
        "colab": {
          "base_uri": "https://localhost:8080/",
          "height": 36
        },
        "outputId": "9bae01d4-4785-4561-b00c-8a034911d024"
      },
      "execution_count": null,
      "outputs": [
        {
          "output_type": "execute_result",
          "data": {
            "text/plain": [
              "'^(?P<chars>[a-z])(?:(?P<middle>[a-z])?(?P=chars)?|[a-z]*?)(?P=chars)$'"
            ],
            "application/vnd.google.colaboratory.intrinsic+json": {
              "type": "string"
            }
          },
          "metadata": {},
          "execution_count": 142
        }
      ]
    },
    {
      "cell_type": "markdown",
      "source": [
        "8)  Prime\n",
        "* В этой задаче надо найди слова вида:\n",
        "2 раза или нечетное число раз буква x"
      ],
      "metadata": {
        "id": "QMD_PM5u3ZNI"
      }
    },
    {
      "cell_type": "code",
      "source": [
        "\"^(x{2})*x$|^x{2}$\""
      ],
      "metadata": {
        "id": "pPT0ERpZ3ZNJ",
        "colab": {
          "base_uri": "https://localhost:8080/",
          "height": 36
        },
        "outputId": "ba15a004-925d-47e2-f7e8-09fd4ff8827c"
      },
      "execution_count": null,
      "outputs": [
        {
          "output_type": "execute_result",
          "data": {
            "text/plain": [
              "'^(x{2})*x$|^x{2}$'"
            ],
            "application/vnd.google.colaboratory.intrinsic+json": {
              "type": "string"
            }
          },
          "metadata": {},
          "execution_count": 143
        }
      ]
    },
    {
      "cell_type": "markdown",
      "source": [
        "9) Four\n",
        "* В этой задаче надо найди слова, в которой существует буква, которая повторяется 4 или более раз."
      ],
      "metadata": {
        "id": "bARJzGr43ZTC"
      }
    },
    {
      "cell_type": "code",
      "source": [
        "\"^(?=.*([a-z]).*?\\1.*?\\1.*?\\1.*)([a-z]*)$\""
      ],
      "metadata": {
        "id": "0Qw0cL6o3ZTD",
        "colab": {
          "base_uri": "https://localhost:8080/",
          "height": 36
        },
        "outputId": "3fb30130-c3c6-47dd-9533-30a85470e7d8"
      },
      "execution_count": null,
      "outputs": [
        {
          "output_type": "execute_result",
          "data": {
            "text/plain": [
              "'^(?=.*([a-z]).*?\\x01.*?\\x01.*?\\x01.*)([a-z]*)$'"
            ],
            "application/vnd.google.colaboratory.intrinsic+json": {
              "type": "string"
            }
          },
          "metadata": {},
          "execution_count": 144
        }
      ]
    },
    {
      "cell_type": "markdown",
      "source": [
        "10) Order\n",
        "* В этой задаче буквы слова должны быть в возрастающем порядке, то есть s[i] <= s[i+1] для любого I от 0 до n – 1, где n = длина **слова**"
      ],
      "metadata": {
        "id": "vAGUA0BA3ZZT"
      }
    },
    {
      "cell_type": "code",
      "source": [
        "\"^(a*|b*|c*|d*|e*|f*|g*|h*|i*|j*|k*|l*|m*|n*|o*|p*|q*|r*|s*|t*|u*|v*|w*|x*|y*|z*)$\""
      ],
      "metadata": {
        "id": "h1fNbYdh3ZZU",
        "colab": {
          "base_uri": "https://localhost:8080/",
          "height": 36
        },
        "outputId": "f9dadf95-a1da-406e-8bf2-ec1d5ba243ae"
      },
      "execution_count": null,
      "outputs": [
        {
          "output_type": "execute_result",
          "data": {
            "text/plain": [
              "'^(a*|b*|c*|d*|e*|f*|g*|h*|i*|j*|k*|l*|m*|n*|o*|p*|q*|r*|s*|t*|u*|v*|w*|x*|y*|z*)$'"
            ],
            "application/vnd.google.colaboratory.intrinsic+json": {
              "type": "string"
            }
          },
          "metadata": {},
          "execution_count": 145
        }
      ]
    },
    {
      "cell_type": "markdown",
      "source": [
        "11)Glob\n",
        "* Нужно чтобы выражение советовало формату:\n",
        "подстрока + “ matches “ + строка\n",
        "при этом если у подстроки отсутствуют какие-то буквы, то они должны быть заменены на * один раз. Также возможно, что будет ситуация в подстроке буква + * + буквы и т.д.\n"
      ],
      "metadata": {
        "id": "AP4B3BDh3jmK"
      }
    },
    {
      "cell_type": "code",
      "source": [
        "\"^(?P<left>\\*?[a-zA-Z]*(?:\\*[a-zA-Z]*)*) matches (?P<right>[a-zA-Z]+)$\""
      ],
      "metadata": {
        "id": "hNiXqXPj3jmK",
        "colab": {
          "base_uri": "https://localhost:8080/",
          "height": 36
        },
        "outputId": "7fcfcbb8-63e7-4aa1-ab1d-b0a49ece1987"
      },
      "execution_count": null,
      "outputs": [
        {
          "output_type": "execute_result",
          "data": {
            "text/plain": [
              "'^(?P<left>\\\\*?[a-zA-Z]*(?:\\\\*[a-zA-Z]*)*) matches (?P<right>[a-zA-Z]+)$'"
            ],
            "application/vnd.google.colaboratory.intrinsic+json": {
              "type": "string"
            }
          },
          "metadata": {},
          "execution_count": 146
        }
      ]
    },
    {
      "cell_type": "markdown",
      "source": [
        "12) Matryoshka\n",
        "* Нужно чтобы первое слово встречалось бы во всех следующих словах."
      ],
      "metadata": {
        "id": "4U55uthz3jzX"
      }
    },
    {
      "cell_type": "code",
      "source": [
        "\"^(\\w+)(?=.*\\b\\1\\b.*)+$\""
      ],
      "metadata": {
        "id": "sFzEzWxB3jzY",
        "colab": {
          "base_uri": "https://localhost:8080/",
          "height": 36
        },
        "outputId": "5514eaa8-d66c-49bf-e0b7-844745c2236e"
      },
      "execution_count": null,
      "outputs": [
        {
          "output_type": "execute_result",
          "data": {
            "text/plain": [
              "'^(\\\\w+)(?=.*\\x08\\x01\\x08.*)+$'"
            ],
            "application/vnd.google.colaboratory.intrinsic+json": {
              "type": "string"
            }
          },
          "metadata": {},
          "execution_count": 147
        }
      ]
    },
    {
      "cell_type": "markdown",
      "source": [
        "13) Powers\n",
        "* Нужно что число это степень двойки."
      ],
      "metadata": {
        "id": "mNQQ29M43j5n"
      }
    },
    {
      "cell_type": "code",
      "source": [
        "\"^(x{2})*x{2}$|^x{1}$\""
      ],
      "metadata": {
        "id": "h0OtkdFU3j5o",
        "colab": {
          "base_uri": "https://localhost:8080/",
          "height": 36
        },
        "outputId": "ac85045f-0ee1-438e-8eb0-6256d96f51d7"
      },
      "execution_count": null,
      "outputs": [
        {
          "output_type": "execute_result",
          "data": {
            "text/plain": [
              "'^(x{2})*x{2}$|^x{1}$'"
            ],
            "application/vnd.google.colaboratory.intrinsic+json": {
              "type": "string"
            }
          },
          "metadata": {},
          "execution_count": 148
        }
      ]
    },
    {
      "cell_type": "markdown",
      "source": [
        "14)Powers 2\n",
        "* Нужно что число это степень тройки"
      ],
      "metadata": {
        "id": "7-dPcdvR3j_l"
      }
    },
    {
      "cell_type": "code",
      "source": [
        "\"^(x{3})+$|^x$\""
      ],
      "metadata": {
        "id": "AcSAsnyI3j_l",
        "colab": {
          "base_uri": "https://localhost:8080/",
          "height": 36
        },
        "outputId": "a59361fd-5d06-4fdb-e969-420f55385476"
      },
      "execution_count": null,
      "outputs": [
        {
          "output_type": "execute_result",
          "data": {
            "text/plain": [
              "'^(x{3})+$|^x$'"
            ],
            "application/vnd.google.colaboratory.intrinsic+json": {
              "type": "string"
            }
          },
          "metadata": {},
          "execution_count": 149
        }
      ]
    },
    {
      "cell_type": "markdown",
      "source": [
        "15) Long count\n",
        "* Нужно проверить, что ввели бинарное представление чисел от 0 до 16 через пробел"
      ],
      "metadata": {
        "id": "BNAqL95S3kF_"
      }
    },
    {
      "cell_type": "code",
      "source": [
        "\"\\b0000 0001 0010 0011 0100 0101 0110 0111 1000 1001 1010 1011 1100 1101 1110 1111\\b\""
      ],
      "metadata": {
        "id": "Ue_EDQ9K3kF_",
        "colab": {
          "base_uri": "https://localhost:8080/",
          "height": 36
        },
        "outputId": "08ebfa10-2ca9-479c-a8a1-c3163c022b78"
      },
      "execution_count": null,
      "outputs": [
        {
          "output_type": "execute_result",
          "data": {
            "text/plain": [
              "'\\x080000 0001 0010 0011 0100 0101 0110 0111 1000 1001 1010 1011 1100 1101 1110 1111\\x08'"
            ],
            "application/vnd.google.colaboratory.intrinsic+json": {
              "type": "string"
            }
          },
          "metadata": {},
          "execution_count": 150
        }
      ]
    },
    {
      "cell_type": "markdown",
      "source": [
        "16) Alphabetical\n",
        "* Нужно проверить, что сначала идут слова на букву a, затем на b и так далее до z."
      ],
      "metadata": {
        "id": "TnUh_yid3kMA"
      }
    },
    {
      "cell_type": "code",
      "source": [
        "\"/^(a[a-z]*\\s+)*(b[a-z]*\\s+)*(c[a-z]*\\s+)*(d[a-z]*\\s+)*(e[a-z]*\\s+)*(f[a-z]*\\s+)*(g[a-z]*\\s+)*(h[a-z]*\\s+)*(i[a-z]*\\s+)*(j[a-z]*\\s+)*(k[a-z]*\\s+)*(l[a-z]*\\s+)*(m[a-z]*\\s+)*(n[a-z]*\\s+)*(o[a-z]*\\s+)*(p[a-z]*\\s+)*(q[a-z]*\\s+)*(r[a-z]*\\s+)*(s[a-z]*\\s+)*(t[a-z]*\\s+)*(u[a-z]*\\s+)*(v[a-z]*\\s+)*(w[a-z]*\\s+)*(x[a-z]*\\s+)*(y[a-z]*\\s+)*(z[a-z]*\\s+)*$\""
      ],
      "metadata": {
        "id": "qeP8uoie3kMB",
        "colab": {
          "base_uri": "https://localhost:8080/",
          "height": 72
        },
        "outputId": "5e431b90-74c7-4450-8c3d-a68a349aefec"
      },
      "execution_count": null,
      "outputs": [
        {
          "output_type": "execute_result",
          "data": {
            "text/plain": [
              "'/^(a[a-z]*\\\\s+)*(b[a-z]*\\\\s+)*(c[a-z]*\\\\s+)*(d[a-z]*\\\\s+)*(e[a-z]*\\\\s+)*(f[a-z]*\\\\s+)*(g[a-z]*\\\\s+)*(h[a-z]*\\\\s+)*(i[a-z]*\\\\s+)*(j[a-z]*\\\\s+)*(k[a-z]*\\\\s+)*(l[a-z]*\\\\s+)*(m[a-z]*\\\\s+)*(n[a-z]*\\\\s+)*(o[a-z]*\\\\s+)*(p[a-z]*\\\\s+)*(q[a-z]*\\\\s+)*(r[a-z]*\\\\s+)*(s[a-z]*\\\\s+)*(t[a-z]*\\\\s+)*(u[a-z]*\\\\s+)*(v[a-z]*\\\\s+)*(w[a-z]*\\\\s+)*(x[a-z]*\\\\s+)*(y[a-z]*\\\\s+)*(z[a-z]*\\\\s+)*$'"
            ],
            "application/vnd.google.colaboratory.intrinsic+json": {
              "type": "string"
            }
          },
          "metadata": {},
          "execution_count": 151
        }
      ]
    },
    {
      "cell_type": "markdown",
      "source": [
        "17) Subtraction\n",
        "* Возьмем выражения формата:\n",
        "x(m раз) -  x(n раз) = x(m - n раз);\n"
      ],
      "metadata": {
        "id": "DW2PCQf03kSF"
      }
    },
    {
      "cell_type": "code",
      "source": [
        "\"^x{m}-x{n}=x{m-n}$\""
      ],
      "metadata": {
        "id": "47PjxEDV3kSG",
        "colab": {
          "base_uri": "https://localhost:8080/",
          "height": 36
        },
        "outputId": "32ec315e-e69e-4819-b214-19106cc4e9c9"
      },
      "execution_count": null,
      "outputs": [
        {
          "output_type": "execute_result",
          "data": {
            "text/plain": [
              "'^x{m}-x{n}=x{m-n}$'"
            ],
            "application/vnd.google.colaboratory.intrinsic+json": {
              "type": "string"
            }
          },
          "metadata": {},
          "execution_count": 152
        }
      ]
    },
    {
      "cell_type": "markdown",
      "source": [
        "18) Addition\n",
        "* Возьмем выражения формата:\n",
        "x(m раз) +  x(n раз) = x(z раз) + x(n+m- z раз);\n"
      ],
      "metadata": {
        "id": "pUZZsAW-3kXO"
      }
    },
    {
      "cell_type": "code",
      "source": [
        "\"^x{m}+x{n}=x{z}+x{m+n-z}$\""
      ],
      "metadata": {
        "id": "oTqicZZG3kXP",
        "colab": {
          "base_uri": "https://localhost:8080/",
          "height": 36
        },
        "outputId": "3f7a59d8-73f8-4612-ddad-6a0810923d1c"
      },
      "execution_count": null,
      "outputs": [
        {
          "output_type": "execute_result",
          "data": {
            "text/plain": [
              "'^x{m}+x{n}=x{z}+x{m+n-z}$'"
            ],
            "application/vnd.google.colaboratory.intrinsic+json": {
              "type": "string"
            }
          },
          "metadata": {},
          "execution_count": 153
        }
      ]
    },
    {
      "cell_type": "markdown",
      "source": [
        "19) Modulus\n",
        "* Возьмем выражения формата:\n",
        "x(m раз) %  x(n раз) = x(m % n раз);\n"
      ],
      "metadata": {
        "id": "WeY7LXit3kda"
      }
    },
    {
      "cell_type": "code",
      "source": [
        "\"^x{m}%x{n}=x{m % n}$\""
      ],
      "metadata": {
        "id": "KSwyKk0Q3kda",
        "colab": {
          "base_uri": "https://localhost:8080/",
          "height": 36
        },
        "outputId": "dfcd103b-98a6-47b2-c0d8-9c8f89c08df4"
      },
      "execution_count": null,
      "outputs": [
        {
          "output_type": "execute_result",
          "data": {
            "text/plain": [
              "'^x{m}%x{n}=x{m % n}$'"
            ],
            "application/vnd.google.colaboratory.intrinsic+json": {
              "type": "string"
            }
          },
          "metadata": {},
          "execution_count": 154
        }
      ]
    },
    {
      "cell_type": "markdown",
      "source": [
        "20) ^x{m}%x{n}=x{m % n}$\n",
        "* 4 слова, при этом все они являются перестановкой одних и тех же букв."
      ],
      "metadata": {
        "id": "BykLVpLy3kjx"
      }
    },
    {
      "cell_type": "code",
      "source": [
        "\"^([a-z]+)\\b\\s\\1\\b\\s\\1\\b\\s\\1\\b$\""
      ],
      "metadata": {
        "id": "CbEtj3Mz3kjy",
        "colab": {
          "base_uri": "https://localhost:8080/",
          "height": 36
        },
        "outputId": "7a4fb2c3-ea7d-4919-e93e-69b62bf4917f"
      },
      "execution_count": null,
      "outputs": [
        {
          "output_type": "execute_result",
          "data": {
            "text/plain": [
              "'^([a-z]+)\\x08\\\\s\\x01\\x08\\\\s\\x01\\x08\\\\s\\x01\\x08$'"
            ],
            "application/vnd.google.colaboratory.intrinsic+json": {
              "type": "string"
            }
          },
          "metadata": {},
          "execution_count": 155
        }
      ]
    },
    {
      "cell_type": "markdown",
      "source": [
        "# Задание 7\n",
        "Разработать программу (Python, C# или любой другой язык программирования) для поиска в тексте всех корректно записанных римских чисел (от 1 до 3999) и их замены на соответствующее “арабское” число. Использовать возможности поиска и замены библиотеки регулярных выражений.\n",
        "\n"
      ],
      "metadata": {
        "id": "xqv5cZ2wdsp3"
      }
    },
    {
      "cell_type": "code",
      "source": [
        "import re\n",
        "\n",
        "# Функция для преобразования римского числа в арабское\n",
        "def roman_to_arabic(roman):\n",
        "    roman_numerals = {\n",
        "        'I': 1,\n",
        "        'V': 5,\n",
        "        'X': 10,\n",
        "        'L': 50,\n",
        "        'C': 100,\n",
        "        'D': 500,\n",
        "        'M': 1000\n",
        "    }\n",
        "    arabic = 0\n",
        "    prev_value = 0\n",
        "\n",
        "    for char in reversed(roman):\n",
        "        value = roman_numerals[char]\n",
        "        if value < prev_value:\n",
        "            arabic -= value\n",
        "        else:\n",
        "            arabic += value\n",
        "        prev_value = value\n",
        "\n",
        "    return arabic\n",
        "\n",
        "# Регулярное выражение для поиска корректных римских чисел\n",
        "roman_pattern = r'\\bM{0,3}(CM|CD|D?C{0,3})(XC|XL|L?X{0,3})(IX|IV|V?I{0,3})\\b'\n",
        "\n",
        "def transform(match):\n",
        "    roman_numeral = match.group(0)\n",
        "    if not roman_numeral:\n",
        "      return \"\"\n",
        "    print(roman_numeral)\n",
        "    arabic_number = roman_to_arabic(roman_numeral)\n",
        "    return str(arabic_number)\n",
        "\n",
        "def replace_substrings(text, pattern):\n",
        "    # Ищем подстроки по регулярному выражению и заменяем их\n",
        "    result = re.sub(pattern, transform, text)\n",
        "    return result\n",
        "\n",
        "# Пример текста\n",
        "text = \"I, III, IV, IX, X, XLII, MCMXCIV, CCXLVI, DCCC, CMLXIII, MMXX, MMMDCCCLXXXVIII, MMMCMXCIX, XXXXXXXXXXXXXXXXXXxxxxxx.\"\n",
        "\n",
        "# Замена римских чисел на арабские\n",
        "result = replace_substrings(text, roman_pattern)\n",
        "\n",
        "print(\"Исходный текст:\")\n",
        "print(text)\n",
        "print(\"\\nТекст с замененными римскими числами:\")\n",
        "print(result)\n"
      ],
      "metadata": {
        "id": "YrxNgr3Hdtjv",
        "colab": {
          "base_uri": "https://localhost:8080/"
        },
        "outputId": "cb430e75-440f-4891-96e6-81b611c8f280"
      },
      "execution_count": null,
      "outputs": [
        {
          "output_type": "stream",
          "name": "stdout",
          "text": [
            "I\n",
            "III\n",
            "IV\n",
            "IX\n",
            "X\n",
            "XLII\n",
            "MCMXCIV\n",
            "CCXLVI\n",
            "DCCC\n",
            "CMLXIII\n",
            "MMXX\n",
            "MMMDCCCLXXXVIII\n",
            "MMMCMXCIX\n",
            "Исходный текст:\n",
            "I, III, IV, IX, X, XLII, MCMXCIV, CCXLVI, DCCC, CMLXIII, MMXX, MMMDCCCLXXXVIII, MMMCMXCIX, XXXXXXXXXXXXXXXXXXxxxxxx.\n",
            "\n",
            "Текст с замененными римскими числами:\n",
            "1, 3, 4, 9, 10, 42, 1994, 246, 800, 963, 2020, 3888, 3999, XXXXXXXXXXXXXXXXXXxxxxxx.\n"
          ]
        }
      ]
    },
    {
      "cell_type": "markdown",
      "source": [
        "# Задание 8\n",
        "Разработать программу (Python, C# или любой другой язык программирования) для поиска в тексе всех дат, записанных в формате ДД.ММ.ГГГГ (должны учитываться количестве дней в месяце и високосные года). Найденные даты увеличить на 15 дней и вставить их в текст. Использовать возможности поиска и замены библиотеки регулярных выражений.\n"
      ],
      "metadata": {
        "id": "HO6L3rbW8TlD"
      }
    },
    {
      "cell_type": "code",
      "source": [
        "import re\n",
        "from datetime import datetime, timedelta\n",
        "\n",
        "# Регулярное выражение для поиска дат в формате ДД.ММ.ГГГГ\n",
        "date_pattern = r'\\b([0-2][0-9]|3[01])\\.([0-1][0-9])\\.([0-9]{4})\\b'\n",
        "\n",
        "def is_valid_date(day, month, year):\n",
        "    try:\n",
        "        datetime(year, month, day)\n",
        "        return True\n",
        "    except ValueError:\n",
        "        return False\n",
        "\n",
        "def add_days(match):\n",
        "    # Получаем найденную дату\n",
        "    day, month, year = map(int, match.groups())\n",
        "\n",
        "    # Проверяем корректность даты\n",
        "    if not is_valid_date(day, month, year):\n",
        "        return match.group(0)  # Если дата некорректная, возвращаем исходную дату\n",
        "\n",
        "    original_date = datetime(year, month, day)\n",
        "\n",
        "    # Увеличиваем дату на 15 дней\n",
        "    new_date = original_date + timedelta(days=15)\n",
        "\n",
        "    # Форматируем новую дату в нужный формат\n",
        "    return new_date.strftime('%d.%m.%Y')\n",
        "\n",
        "def replace_dates(text, pattern):\n",
        "    # Ищем даты по регулярному выражению и заменяем их\n",
        "    result = re.sub(pattern, add_days, text)\n",
        "    return result\n",
        "\n",
        "# Пример текста с датами\n",
        "text = \"Даты: 28.02.2024, 29.02.2020, 31.04.2023, 31.12.2023, 15.13.2023, 01.01.2021, 30.02.2022.\"\n",
        "\n",
        "# Замена дат на увеличенные на 15 дней\n",
        "result = replace_dates(text, date_pattern)\n",
        "\n",
        "print(\"Исходный текст:\")\n",
        "print(text)\n",
        "print(\"\\nТекст с увеличенными датами:\")\n",
        "print(result)\n"
      ],
      "metadata": {
        "colab": {
          "base_uri": "https://localhost:8080/"
        },
        "id": "neFqx9U95eY1",
        "outputId": "b35e52a1-68f1-45b3-c92c-908c30a9bf67"
      },
      "execution_count": null,
      "outputs": [
        {
          "output_type": "stream",
          "name": "stdout",
          "text": [
            "Исходный текст:\n",
            "Даты: 28.02.2024, 29.02.2020, 31.04.2023, 31.12.2023, 15.13.2023, 01.01.2021, 30.02.2022.\n",
            "\n",
            "Текст с увеличенными датами:\n",
            "Даты: 14.03.2024, 15.03.2020, 31.04.2023, 15.01.2024, 15.13.2023, 16.01.2021, 30.02.2022.\n"
          ]
        }
      ]
    },
    {
      "cell_type": "markdown",
      "source": [
        "# Задание 9\n",
        "Написать программу (Python, С# или любой другой язык программирования) для построения частотного словаря текста на русском языке без учета стоп-слов. Входной текст хранится в текстовом файле, построенный словарь также должен быть сохранен в текстовый файл в формате (словоформа, количество_вхождений_словоформы) с сортировкой по количеству вхождений. Для деления текста на токены и удаления стоп-слов использовать библиотеку nltk, а для нормализации использовать библиотеку Pymorphy2.\n"
      ],
      "metadata": {
        "id": "E9yNb-BdQLJP"
      }
    },
    {
      "cell_type": "code",
      "source": [
        "!pip install nltk pymorphy2"
      ],
      "metadata": {
        "id": "6tboIMiJQLRJ",
        "colab": {
          "base_uri": "https://localhost:8080/"
        },
        "outputId": "63265140-f696-4b82-9430-07c2510dddaa"
      },
      "execution_count": null,
      "outputs": [
        {
          "output_type": "stream",
          "name": "stdout",
          "text": [
            "Requirement already satisfied: nltk in /usr/local/lib/python3.10/dist-packages (3.8.1)\n",
            "Requirement already satisfied: pymorphy2 in /usr/local/lib/python3.10/dist-packages (0.9.1)\n",
            "Requirement already satisfied: click in /usr/local/lib/python3.10/dist-packages (from nltk) (8.1.7)\n",
            "Requirement already satisfied: joblib in /usr/local/lib/python3.10/dist-packages (from nltk) (1.4.2)\n",
            "Requirement already satisfied: regex>=2021.8.3 in /usr/local/lib/python3.10/dist-packages (from nltk) (2024.9.11)\n",
            "Requirement already satisfied: tqdm in /usr/local/lib/python3.10/dist-packages (from nltk) (4.66.5)\n",
            "Requirement already satisfied: dawg-python>=0.7.1 in /usr/local/lib/python3.10/dist-packages (from pymorphy2) (0.7.2)\n",
            "Requirement already satisfied: pymorphy2-dicts-ru<3.0,>=2.4 in /usr/local/lib/python3.10/dist-packages (from pymorphy2) (2.4.417127.4579844)\n",
            "Requirement already satisfied: docopt>=0.6 in /usr/local/lib/python3.10/dist-packages (from pymorphy2) (0.6.2)\n"
          ]
        }
      ]
    },
    {
      "cell_type": "code",
      "source": [
        "import nltk\n",
        "import pymorphy2\n",
        "from collections import Counter\n",
        "import re"
      ],
      "metadata": {
        "id": "cycSM1BCC6Wq"
      },
      "execution_count": null,
      "outputs": []
    },
    {
      "cell_type": "code",
      "source": [
        "nltk.download('stopwords')\n",
        "nltk.download('punkt')\n",
        "from nltk.corpus import stopwords\n",
        "from nltk.tokenize import word_tokenize"
      ],
      "metadata": {
        "colab": {
          "base_uri": "https://localhost:8080/"
        },
        "id": "4v_mxiEVC91D",
        "outputId": "3d34f9ff-42ea-449b-dd28-4dbbc2ff6d2d"
      },
      "execution_count": null,
      "outputs": [
        {
          "output_type": "stream",
          "name": "stderr",
          "text": [
            "[nltk_data] Downloading package stopwords to /root/nltk_data...\n",
            "[nltk_data]   Package stopwords is already up-to-date!\n",
            "[nltk_data] Downloading package punkt to /root/nltk_data...\n",
            "[nltk_data]   Package punkt is already up-to-date!\n"
          ]
        }
      ]
    },
    {
      "cell_type": "code",
      "source": [
        "stop_words = set(stopwords.words(\"russian\"))"
      ],
      "metadata": {
        "id": "lyNg4d6aDHFI"
      },
      "execution_count": null,
      "outputs": []
    },
    {
      "cell_type": "code",
      "source": [
        "morph = pymorphy2.MorphAnalyzer()"
      ],
      "metadata": {
        "id": "TWsSX4XrGfkI"
      },
      "execution_count": null,
      "outputs": []
    },
    {
      "cell_type": "code",
      "source": [
        "def print_first_n_lines(file_path, n=10):\n",
        "    try:\n",
        "        with open(file_path, 'r', encoding='utf-8') as file:\n",
        "            for i in range(n):\n",
        "                line = file.readline()\n",
        "                if not line:\n",
        "                    break\n",
        "                print(line.strip())\n",
        "    except FileNotFoundError:\n",
        "        print(f\"Файл {file_path} не найден.\")\n",
        "    except Exception as e:\n",
        "        print(f\"Произошла ошибка: {e}\")"
      ],
      "metadata": {
        "id": "RjafqPcDKjsO"
      },
      "execution_count": null,
      "outputs": []
    },
    {
      "cell_type": "code",
      "source": [
        "# Функция для нормализации слова\n",
        "def normalize_word(word):\n",
        "    parsed_word = morph.parse(word)[0]\n",
        "    return parsed_word.normal_form"
      ],
      "metadata": {
        "id": "eq4ogyvXH0nr"
      },
      "execution_count": null,
      "outputs": []
    },
    {
      "cell_type": "code",
      "source": [
        "def process_text(file_path):\n",
        "    # Чтение текста из файла\n",
        "    with open(file_path, 'r', encoding='utf-8') as f:\n",
        "        text = f.read()\n",
        "\n",
        "    # Токенизация текста\n",
        "    tokens = word_tokenize(text)\n",
        "    # Нормализация и фильтрация токенов\n",
        "    normalized_words = [ normalize_word(word) for word in tokens\n",
        "                        if word.lower() not in stop_words\n",
        "                         and (word.isalpha() or re.match(r'^[\\w]+(?:[+\\-][\\w]*)*$', word.lower()))\n",
        "                         ]\n",
        "\n",
        "\n",
        "    # Построение частотного словаря\n",
        "    word_freq = Counter(normalized_words)\n",
        "    # Сортируем частотный словарь по количеству вхождений\n",
        "    sorted_word_freq = sorted(word_freq.items(), key=lambda x: x[1], reverse=True)\n",
        "    return sorted_word_freq"
      ],
      "metadata": {
        "id": "vZok0G0OGFIb"
      },
      "execution_count": null,
      "outputs": []
    },
    {
      "cell_type": "code",
      "source": [
        "# Задание путей к файлам\n",
        "input_file = 'cpp-wiki.txt'  # Путь к входному текстовому файлу\n",
        "output_file = 'frequency_dict_9.txt'  # Путь к выходному файлу для частотного словаря"
      ],
      "metadata": {
        "id": "t61QWEVGDLTV"
      },
      "execution_count": null,
      "outputs": []
    },
    {
      "cell_type": "code",
      "source": [
        "print_first_n_lines(input_file)"
      ],
      "metadata": {
        "colab": {
          "base_uri": "https://localhost:8080/"
        },
        "id": "Df2vtRu1Kqf0",
        "outputId": "3f212d67-8689-4b6d-9276-f4a1dce6f019"
      },
      "execution_count": null,
      "outputs": [
        {
          "output_type": "stream",
          "name": "stdout",
          "text": [
            "C++ (читается си-плюс-плюс[2][3]) — компилируемый, статически типизированный язык программирования общего назначения.\n",
            "\n",
            "Поддерживает такие парадигмы программирования, как процедурное программирование, объектно-ориентированное программирование, обобщённое программирование. Язык имеет богатую стандартную библиотеку, которая включает в себя распространённые контейнеры и алгоритмы, ввод-вывод, регулярные выражения, поддержку многопоточности и другие возможности. C++ сочетает свойства как высокоуровневых, так и низкоуровневых языков[4][5]. В сравнении с его предшественником — языком C — наибольшее внимание уделено поддержке объектно-ориентированного и обобщённого программирования[5].\n",
            "\n",
            "C++ широко используется для разработки программного обеспечения, являясь одним из самых популярных языков программирования[мнения 1][мнения 2]. Область его применения включает создание операционных систем, разнообразных прикладных программ, драйверов устройств, приложений для встраиваемых систем, высокопроизводительных серверов, а также компьютерных игр. Существует множество реализаций языка C++, как бесплатных, так и коммерческих и для различных платформ. Например, на платформе x86 это GCC, Clang, Visual C++, Intel C++ Compiler, Embarcadero (Borland) C++ Builder и другие. C++ оказал огромное влияние на другие языки программирования, в первую очередь на Java и C#.\n",
            "\n",
            "Синтаксис C++ унаследован от языка Си. Изначально одним из принципов разработки было сохранение совместимости с Си. Тем не менее, C++ не является в строгом смысле надмножеством Си: множество программ, которые могут одинаково успешно транслироваться как компиляторами Си, так и компиляторами C++, довольно велико, но не включает все возможные программы на Си.\n",
            "\n",
            "Создание\n",
            "Язык возник в начале 1980-х годов, когда сотрудник фирмы Bell Labs Бьёрн Страуструп придумал ряд усовершенствований к языку Си под собственные нужды[7]. Когда в конце 1970-х годов Страуструп начал работать в Bell Labs над задачами теории очередей (в приложении к моделированию телефонных вызовов), он обнаружил, что попытки применения существовавших в то время языков моделирования оказались неэффективными, а применение высокоэффективных машинных языков слишком сложно из-за их ограниченной выразительности. Так, язык Симула имеет такие возможности, которые были бы очень полезны для разработки большого программного обеспечения, но работает слишком медленно, а язык BCPL достаточно быстр, но слишком близок к языкам низкого уровня и не подходит для разработки большого программного обеспечения.\n"
          ]
        }
      ]
    },
    {
      "cell_type": "code",
      "source": [
        "word_freq = process_text(input_file)"
      ],
      "metadata": {
        "id": "1puL34ACF51g"
      },
      "execution_count": null,
      "outputs": []
    },
    {
      "cell_type": "code",
      "source": [
        "def save_frequency_dict(word_freq, output_file):\n",
        "    # Запись словаря в файл\n",
        "    with open(output_file, 'w', encoding='utf-8') as f:\n",
        "        for word, freq in word_freq:\n",
        "            f.write(f\"{word}, {freq}\\n\")"
      ],
      "metadata": {
        "id": "L2oLhMCUH4yh"
      },
      "execution_count": null,
      "outputs": []
    },
    {
      "cell_type": "code",
      "source": [
        "save_frequency_dict(word_freq, output_file)"
      ],
      "metadata": {
        "id": "9Ax2-7OQGDQf"
      },
      "execution_count": null,
      "outputs": []
    },
    {
      "cell_type": "code",
      "source": [
        "print_first_n_lines(output_file)"
      ],
      "metadata": {
        "colab": {
          "base_uri": "https://localhost:8080/"
        },
        "id": "ch7AbHsoKvsI",
        "outputId": "52b39a69-500b-42ab-d845-2ec4d3eddaee"
      },
      "execution_count": null,
      "outputs": [
        {
          "output_type": "stream",
          "name": "stdout",
          "text": [
            "c++, 242\n",
            "язык, 170\n",
            "класс, 71\n",
            "си, 66\n",
            "c, 63\n",
            "библиотека, 61\n",
            "тип, 60\n",
            "возможность, 53\n",
            "программирование, 51\n",
            "который, 48\n"
          ]
        }
      ]
    },
    {
      "cell_type": "markdown",
      "source": [
        "# Задание 10\n",
        "Реализовать версию программы (см. задание 1) построения частотного словаря, в которой для нормализации используется стеммер (найти необходимую библиотеку самостоятельно). Сравнить построенные частотные словари."
      ],
      "metadata": {
        "id": "dqgPszzpQOQX"
      }
    },
    {
      "cell_type": "code",
      "source": [
        "from nltk.stem import SnowballStemmer"
      ],
      "metadata": {
        "id": "g6DdHRFHQOQY"
      },
      "execution_count": null,
      "outputs": []
    },
    {
      "cell_type": "code",
      "source": [
        "# Инициализация стеммера для русского языка\n",
        "stemmer = SnowballStemmer(\"russian\")"
      ],
      "metadata": {
        "id": "tNAkCvzINTAz"
      },
      "execution_count": null,
      "outputs": []
    },
    {
      "cell_type": "code",
      "source": [
        "def stem_word(word):\n",
        "    return stemmer.stem(word)"
      ],
      "metadata": {
        "id": "kefiBx5wNUx2"
      },
      "execution_count": null,
      "outputs": []
    },
    {
      "cell_type": "code",
      "source": [
        "def process_text_stem(file_path):\n",
        "    # Чтение текста из файла\n",
        "    with open(file_path, 'r', encoding='utf-8') as f:\n",
        "        text = f.read()\n",
        "\n",
        "    # Токенизация текста\n",
        "    tokens = word_tokenize(text)\n",
        "    # Нормализация и фильтрация токенов\n",
        "    normalized_words = [stem_word(word) for word in tokens\n",
        "                        if word.lower() not in stop_words\n",
        "                        and (word.isalpha() or re.match(r'^[\\w]+(?:[+\\-][\\w]*)*$', word.lower()))\n",
        "                        ]\n",
        "\n",
        "\n",
        "    # Построение частотного словаря\n",
        "    word_freq = Counter(normalized_words)\n",
        "    # Сортируем частотный словарь по количеству вхождений\n",
        "    sorted_word_freq = sorted(word_freq.items(), key=lambda x: x[1], reverse=True)\n",
        "    return sorted_word_freq"
      ],
      "metadata": {
        "id": "rv4k7gDrNcze"
      },
      "execution_count": null,
      "outputs": []
    },
    {
      "cell_type": "code",
      "source": [
        "word_freq = process_text_stem(input_file)"
      ],
      "metadata": {
        "id": "DLxYlJ1qPcC_"
      },
      "execution_count": null,
      "outputs": []
    },
    {
      "cell_type": "code",
      "source": [
        "output_file = 'frequency_dict_10.txt'  # Путь к выходному файлу для частотного словаря"
      ],
      "metadata": {
        "id": "uNtCAHqdPkvZ"
      },
      "execution_count": null,
      "outputs": []
    },
    {
      "cell_type": "code",
      "source": [
        "save_frequency_dict(word_freq, output_file)"
      ],
      "metadata": {
        "id": "xHW1_WBFPff6"
      },
      "execution_count": null,
      "outputs": []
    },
    {
      "cell_type": "code",
      "source": [
        "print_first_n_lines(output_file)"
      ],
      "metadata": {
        "colab": {
          "base_uri": "https://localhost:8080/"
        },
        "id": "kZl8BkMFPrQL",
        "outputId": "e246b99a-d2e4-4f20-d39d-c66716554a77"
      },
      "execution_count": null,
      "outputs": [
        {
          "output_type": "stream",
          "name": "stdout",
          "text": [
            "C++, 242\n",
            "язык, 170\n",
            "класс, 71\n",
            "си, 66\n",
            "C, 63\n",
            "библиотек, 61\n",
            "тип, 60\n",
            "возможн, 59\n",
            "программирован, 51\n",
            "котор, 48\n"
          ]
        }
      ]
    },
    {
      "cell_type": "markdown",
      "source": [
        "# Задание 11\n",
        "Собрать корпус документов по выбранной теме и по основы программ, разработанных в заданиях 1 и 2, подсчитать метрику TF-IDF для ключевых слов документа."
      ],
      "metadata": {
        "id": "Plljy1tWQO1G"
      }
    },
    {
      "cell_type": "code",
      "source": [
        "# Список файлов для чтения\n",
        "file_names = [\n",
        "    \"cpp-metanit.txt\",\n",
        "    \"cpp-skillbox.txt\",\n",
        "    \"cpp-skillfactory.txt\",\n",
        "    \"cpp-wiki.txt\",\n",
        "    \"cpp-yandex.txt\",\n",
        "]"
      ],
      "metadata": {
        "id": "7N6qrAiLQO1H"
      },
      "execution_count": null,
      "outputs": []
    },
    {
      "cell_type": "code",
      "source": [
        "# Корпус документов\n",
        "corpus = []\n",
        "\n",
        "# Чтение содержимого файлов и добавление его к корпусу\n",
        "for file_name in file_names:\n",
        "    with open(file_name, 'r', encoding='utf-8') as file:\n",
        "        text = file.read()\n",
        "        corpus.append(text)"
      ],
      "metadata": {
        "id": "xqk5UxXtUz1b"
      },
      "execution_count": null,
      "outputs": []
    },
    {
      "cell_type": "code",
      "source": [
        "from sklearn.feature_extraction.text import TfidfVectorizer"
      ],
      "metadata": {
        "id": "tAi1RKGXVDPX"
      },
      "execution_count": null,
      "outputs": []
    },
    {
      "cell_type": "code",
      "source": [
        "def calc_tfid(corpus):\n",
        "  # Инициализация TfidfVectorizer с учетом стоп-слов\n",
        "  tfidf_vectorizer = TfidfVectorizer(lowercase=True, stop_words=list(stopwords.words('russian')))\n",
        "  tfidf_matrix = tfidf_vectorizer.fit_transform(corpus)\n",
        "\n",
        "  # Получаем список ключевых слов\n",
        "  feature_names = tfidf_vectorizer.get_feature_names_out()\n",
        "\n",
        "  #Получение слов и их TF-IDF значений\n",
        "  dense = tfidf_matrix.todense()\n",
        "  denselist = dense.tolist()\n",
        "\n",
        "  # Создание словаря для хранения TF-IDF значений\n",
        "  tfidf_dict = {}\n",
        "  for doc_index, doc in enumerate(denselist):\n",
        "      tfidf_dict[f'document_{doc_index+1}'] = {feature_names[i]: doc[i] for i in range(len(doc)) if doc[i] > 0}\n",
        "\n",
        "  # Вывод результатов\n",
        "  for doc, scores in tfidf_dict.items():\n",
        "      print(f\"{doc}:\")\n",
        "      for word, score in sorted(scores.items(), key=lambda x: x[1], reverse=True)[:10]:  # Выводим топ-10 слов\n",
        "          print(f\"  {word}: {score:.4f}\")\n"
      ],
      "metadata": {
        "id": "efOhmvktXk-_"
      },
      "execution_count": null,
      "outputs": []
    },
    {
      "cell_type": "code",
      "source": [
        "calc_tfid(corpus)"
      ],
      "metadata": {
        "colab": {
          "base_uri": "https://localhost:8080/"
        },
        "id": "p8lknUY3VL0E",
        "outputId": "847918c2-949f-4c5a-f299-95a19dc0063c"
      },
      "execution_count": null,
      "outputs": [
        {
          "output_type": "stream",
          "name": "stdout",
          "text": [
            "document_1:\n",
            "  си: 0.2643\n",
            "  язык: 0.2069\n",
            "  языка: 0.1505\n",
            "  компиляторов: 0.1322\n",
            "  различных: 0.1322\n",
            "  который: 0.1317\n",
            "  просто: 0.1274\n",
            "  программирования: 0.1128\n",
            "  приложений: 0.1112\n",
            "  создания: 0.1112\n",
            "document_2:\n",
            "  hello: 0.3603\n",
            "  cd: 0.2218\n",
            "  нажмите: 0.2218\n",
            "  код: 0.1849\n",
            "  команды: 0.1386\n",
            "  world: 0.1342\n",
            "  нужно: 0.1249\n",
            "  например: 0.1114\n",
            "  cpp1: 0.1109\n",
            "  img: 0.1109\n",
            "document_3:\n",
            "  программирование: 0.1732\n",
            "  язык: 0.1726\n",
            "  приложений: 0.1312\n",
            "  движков: 0.1293\n",
            "  языка: 0.1233\n",
            "  net: 0.1043\n",
            "  производительность: 0.1043\n",
            "  игровых: 0.1035\n",
            "  нужен: 0.1035\n",
            "  объектно: 0.1020\n",
            "document_4:\n",
            "  си: 0.2881\n",
            "  типов: 0.2057\n",
            "  класса: 0.1621\n",
            "  языка: 0.1575\n",
            "  является: 0.1459\n",
            "  язык: 0.1426\n",
            "  java: 0.1372\n",
            "  стандартной: 0.1157\n",
            "  средства: 0.1060\n",
            "  функций: 0.1056\n",
            "document_5:\n",
            "  например: 0.2344\n",
            "  язык: 0.1835\n",
            "  программирования: 0.1501\n",
            "  начать: 0.1412\n",
            "  изучать: 0.1407\n",
            "  нём: 0.1407\n",
            "  языка: 0.1334\n",
            "  всё: 0.1172\n",
            "  компиляции: 0.1130\n",
            "  2022: 0.1050\n"
          ]
        }
      ]
    },
    {
      "cell_type": "code",
      "source": [
        "# Функция для нормализации текста\n",
        "def normalize_text(text):\n",
        "    cleaned_text = re.sub(r'[.,(){}\\[\\]\\/\\-]', '', text)\n",
        "    # Убираем лишние символы\n",
        "    cleaned_text = re.sub(r'\\s+', ' ', cleaned_text).strip()\n",
        "\n",
        "    # Лемматизация\n",
        "    normalized_tokens = [morph.parse(token)[0].normal_form for token in text.split()]\n",
        "    return ' '.join(normalized_tokens)"
      ],
      "metadata": {
        "id": "4mAchYU3Ys72"
      },
      "execution_count": null,
      "outputs": []
    },
    {
      "cell_type": "code",
      "source": [
        "# Корпус документов\n",
        "corpus = []\n",
        "\n",
        "# Чтение содержимого файлов, нормализация и добавление его к корпусу\n",
        "for file_name in file_names:\n",
        "    with open(file_name, 'r', encoding='utf-8') as file:\n",
        "        text = file.read()\n",
        "        normalized_text = normalize_text(text)\n",
        "        corpus.append(normalized_text)"
      ],
      "metadata": {
        "id": "ONaRq__jVYwo"
      },
      "execution_count": null,
      "outputs": []
    },
    {
      "cell_type": "code",
      "source": [
        "calc_tfid(corpus)"
      ],
      "metadata": {
        "colab": {
          "base_uri": "https://localhost:8080/"
        },
        "id": "9jg6Fke4Vtm5",
        "outputId": "0104e610-5a54-4ea0-fc37-fe367c520ee1"
      },
      "execution_count": null,
      "outputs": [
        {
          "output_type": "stream",
          "name": "stdout",
          "text": [
            "document_1:\n",
            "  язык: 0.3891\n",
            "  который: 0.2538\n",
            "  си: 0.2140\n",
            "  компилятор: 0.2000\n",
            "  новый: 0.1600\n",
            "  создание: 0.1600\n",
            "  различный: 0.1427\n",
            "  год: 0.1400\n",
            "  стандарт: 0.1200\n",
            "  исходный: 0.1189\n",
            "document_2:\n",
            "  hello: 0.3362\n",
            "  команда: 0.2586\n",
            "  cd: 0.2069\n",
            "  нажать: 0.2069\n",
            "  код: 0.1972\n",
            "  программа: 0.1479\n",
            "  который: 0.1356\n",
            "  язык: 0.1356\n",
            "  папка: 0.1293\n",
            "  world: 0.1252\n",
            "document_3:\n",
            "  язык: 0.3270\n",
            "  программирование: 0.1692\n",
            "  который: 0.1466\n",
            "  высокий: 0.1337\n",
            "  код: 0.1241\n",
            "  большой: 0.1200\n",
            "  игровой: 0.1146\n",
            "  память: 0.1146\n",
            "  всё: 0.1128\n",
            "  система: 0.1109\n",
            "document_4:\n",
            "  язык: 0.3296\n",
            "  си: 0.2369\n",
            "  класс: 0.1729\n",
            "  являться: 0.1678\n",
            "  стандартный: 0.1567\n",
            "  тип: 0.1567\n",
            "  библиотека: 0.1260\n",
            "  средство: 0.1248\n",
            "  который: 0.1165\n",
            "  java: 0.1144\n",
            "document_5:\n",
            "  язык: 0.4191\n",
            "  например: 0.2182\n",
            "  который: 0.1552\n",
            "  это: 0.1552\n",
            "  программирование: 0.1397\n",
            "  изучать: 0.1285\n",
            "  работать: 0.1242\n",
            "  нужный: 0.1091\n",
            "  сайт: 0.1051\n",
            "  2022: 0.0977\n"
          ]
        }
      ]
    },
    {
      "cell_type": "code",
      "source": [
        "def normalize_text_stem(text):\n",
        "    # Удаляем указанные знаки препинания\n",
        "    cleaned_text = re.sub(r'[.,(){}\\[\\]\\/\\-]', '', text)\n",
        "    # Убираем лишние пробелы\n",
        "    cleaned_text = re.sub(r'\\s+', ' ', cleaned_text).strip()\n",
        "\n",
        "    # Стемминг\n",
        "    normalized_tokens = [stem_word(token) for token in cleaned_text.split()]\n",
        "    return ' '.join(normalized_tokens)"
      ],
      "metadata": {
        "id": "AScFdxEAaslc"
      },
      "execution_count": null,
      "outputs": []
    },
    {
      "cell_type": "code",
      "source": [
        "# Корпус документов\n",
        "corpus = []\n",
        "\n",
        "# Чтение содержимого файлов, нормализация и добавление его к корпусу\n",
        "for file_name in file_names:\n",
        "    with open(file_name, 'r', encoding='utf-8') as file:\n",
        "        text = file.read()\n",
        "        normalized_text = normalize_text_stem(text)\n",
        "        corpus.append(normalized_text)"
      ],
      "metadata": {
        "id": "TR3wkLtGa-JB"
      },
      "execution_count": null,
      "outputs": []
    },
    {
      "cell_type": "code",
      "source": [
        "calc_tfid(corpus)"
      ],
      "metadata": {
        "id": "yeivTcLobClh",
        "outputId": "83593778-087e-4714-cc68-122408b457f6",
        "colab": {
          "base_uri": "https://localhost:8080/"
        }
      },
      "execution_count": null,
      "outputs": [
        {
          "output_type": "stream",
          "name": "stdout",
          "text": [
            "document_1:\n",
            "  язык: 0.4291\n",
            "  котор: 0.2384\n",
            "  компилятор: 0.2255\n",
            "  си: 0.2234\n",
            "  стандарт: 0.1879\n",
            "  год: 0.1691\n",
            "  можн: 0.1589\n",
            "  нов: 0.1503\n",
            "  создан: 0.1503\n",
            "  различн: 0.1340\n",
            "document_2:\n",
            "  команд: 0.2818\n",
            "  код: 0.2197\n",
            "  программ: 0.2075\n",
            "  cd: 0.2049\n",
            "  hello: 0.2049\n",
            "  нажм: 0.2049\n",
            "  эт: 0.1587\n",
            "  язык: 0.1465\n",
            "  вывод: 0.1447\n",
            "  компьютер: 0.1373\n",
            "document_3:\n",
            "  язык: 0.3493\n",
            "  программирован: 0.2074\n",
            "  котор: 0.1419\n",
            "  код: 0.1310\n",
            "  высок: 0.1294\n",
            "  больш: 0.1201\n",
            "  эт: 0.1201\n",
            "  бол: 0.1162\n",
            "  движк: 0.1109\n",
            "  игров: 0.1109\n",
            "document_4:\n",
            "  язык: 0.3810\n",
            "  си: 0.2097\n",
            "  тип: 0.1936\n",
            "  класс: 0.1515\n",
            "  явля: 0.1477\n",
            "  стандартн: 0.1452\n",
            "  эт: 0.1423\n",
            "  библиотек: 0.1400\n",
            "  шаблон: 0.1399\n",
            "  возможн: 0.1308\n",
            "document_5:\n",
            "  язык: 0.4474\n",
            "  например: 0.2029\n",
            "  эт: 0.1876\n",
            "  нужн: 0.1536\n",
            "  сложн: 0.1536\n",
            "  котор: 0.1443\n",
            "  программирован: 0.1443\n",
            "  мног: 0.1365\n",
            "  зависим: 0.1222\n",
            "  можн: 0.1155\n"
          ]
        }
      ]
    },
    {
      "cell_type": "markdown",
      "source": [
        "# Задание 12\n",
        "Реализовать алгоритм автоматического реферирования (квазиреферирование) на основе статистического подхода, алгоритм приведен ниже. Входные данные: исходный текст и коэффициент сжатия. Единицей реферирования (фрагментом) должно являться предложение. Выходные данные: список ключевых слов с весами, список предложений с весами, текст реферата.\n",
        "Алгоритм:\n",
        "1.\tРазбить текст на предложения.\n",
        "2.\tРазбить текст на слова произвести их нормализацию.\n",
        "3.\tУдалить стоп-слова.\n",
        "4.\tПодсчитать веса слов (tf или tf-idf).\n",
        "5.\tОпределить веса предложений, рассчитанный как сумма весов, входящих в предложение слов.\n",
        "6.\tОтсортировать предложения по убыванию веса.\n",
        "7.\tВ отсортированном списке оставить те предложений, которые входят в задаваемый процент сжатия. Например, если процент сжатия 10%, а в исходном тексте 50 предложений, то в реферате будет 5 предложений.\n",
        "8.\tСформировать текст реферата из отобранных на предыдущем шаге предложений в порядке, котором они встретились в исходном тексте.\n"
      ],
      "metadata": {
        "id": "6lo54anqQO9O"
      }
    },
    {
      "cell_type": "code",
      "source": [
        "from nltk.tokenize import sent_tokenize"
      ],
      "metadata": {
        "id": "rjMpEFSk4Bux"
      },
      "execution_count": null,
      "outputs": []
    },
    {
      "cell_type": "code",
      "source": [
        "# Функция для чистки текста\n",
        "def clean_text(text):\n",
        "    # Убираем знаки препинания и переводим в нижний регистр\n",
        "    cleaned_text = re.sub(r'[.,()\\{\\}\\[\\]/\\-:;«»—]', '', text)\n",
        "    # Убираем лишние пробелы\n",
        "    cleaned_text = re.sub(r'\\s+', ' ', cleaned_text).strip()\n",
        "    return cleaned_text"
      ],
      "metadata": {
        "id": "QfEY6jAY1e92"
      },
      "execution_count": null,
      "outputs": []
    },
    {
      "cell_type": "code",
      "source": [
        "# Основная функция для реферирования текста\n",
        "def summarize_text(file_path, compression_ratio):\n",
        "    # Чтение текста из файла\n",
        "    with open(file_path, 'r', encoding='utf-8') as f:\n",
        "        text = f.read()\n",
        "\n",
        "    # 1. Разбиваем текст на предложения\n",
        "    sentences = sent_tokenize(text)\n",
        "\n",
        "    # 2-3. Нормализация и токенизация текста для подсчета частоты слов (TF)\n",
        "    normalized_words = []\n",
        "    for sentence in sentences:\n",
        "        clean_sentence = clean_text(sentence)\n",
        "        tokens = word_tokenize(clean_sentence)\n",
        "        # Фильтруем и нормализуем слова\n",
        "        norm_words = [\n",
        "            normalize_word(word) for word in tokens\n",
        "            if word.lower() not in stop_words\n",
        "            and (word.isalpha() or re.match(r'^[\\w]+(?:[+\\-][\\w]*)*$', word.lower()))\n",
        "        ]\n",
        "        normalized_words.extend(norm_words)\n",
        "\n",
        "    # 4. Подсчет весов слов (TF)\n",
        "    word_frequencies = Counter(normalized_words)\n",
        "\n",
        "    # 5. Определение веса каждого предложения\n",
        "    sentence_weights = []\n",
        "    for sentence in sentences:\n",
        "        normalized_sentence = clean_text(sentence)\n",
        "        sentence_weight = sum(word_frequencies[word] for word in word_tokenize(normalized_sentence) if word in word_frequencies)\n",
        "        sentence_weights.append((sentence, sentence_weight))\n",
        "\n",
        "    # 6. Сортировка предложений по убыванию веса\n",
        "    sentence_weights.sort(key=lambda x: x[1], reverse=True)\n",
        "\n",
        "    # 7. Отбор предложений по коэффициенту сжатия\n",
        "    num_sentences = max(1, int(len(sentences) * compression_ratio))\n",
        "    summary_sentences = sentence_weights[:num_sentences]\n",
        "\n",
        "    # 8. Сортировка отобранных предложений в исходном порядке\n",
        "    summary_sentences = sorted(summary_sentences, key=lambda x: sentences.index(x[0]))\n",
        "\n",
        "    # Формирование текста реферата\n",
        "    summary_text = ' '.join([sentence[0] for sentence in summary_sentences])\n",
        "\n",
        "    # Возвращаем ключевые слова, отобранные предложения и текст реферата\n",
        "    keywords_with_weights = word_frequencies.most_common(10)  # Топ-10 ключевых слов\n",
        "    return keywords_with_weights, summary_sentences, summary_text"
      ],
      "metadata": {
        "id": "AxWTTzxQ3qaA"
      },
      "execution_count": null,
      "outputs": []
    },
    {
      "cell_type": "code",
      "source": [
        "# Путь к входному текстовому файлу\n",
        "input_file = 'cpp-wiki.txt'\n",
        "# Процент сжатия\n",
        "compression_ratio = 0.15"
      ],
      "metadata": {
        "id": "ZichutTL5P1-"
      },
      "execution_count": null,
      "outputs": []
    },
    {
      "cell_type": "code",
      "source": [
        "keywords_with_weights, summary_sentences, summary_text = summarize_text(input_file, compression_ratio)"
      ],
      "metadata": {
        "id": "JKMzbeMj49-C"
      },
      "execution_count": null,
      "outputs": []
    },
    {
      "cell_type": "code",
      "source": [
        "keywords_with_weights"
      ],
      "metadata": {
        "colab": {
          "base_uri": "https://localhost:8080/"
        },
        "id": "cujXQtXC5mW3",
        "outputId": "ebdf3c24-3ce4-46db-e86d-ad3e5651c4bc"
      },
      "execution_count": null,
      "outputs": [
        {
          "output_type": "execute_result",
          "data": {
            "text/plain": [
              "[('c++', 240),\n",
              " ('язык', 167),\n",
              " ('класс', 71),\n",
              " ('c', 68),\n",
              " ('си', 64),\n",
              " ('библиотека', 61),\n",
              " ('тип', 60),\n",
              " ('возможность', 53),\n",
              " ('программирование', 48),\n",
              " ('который', 48)]"
            ]
          },
          "metadata": {},
          "execution_count": 196
        }
      ]
    },
    {
      "cell_type": "code",
      "source": [
        "summary_sentences"
      ],
      "metadata": {
        "colab": {
          "base_uri": "https://localhost:8080/"
        },
        "id": "Eq6fbPpi5nog",
        "outputId": "bc84a5af-30aa-4405-d091-1447d57698d8"
      },
      "execution_count": null,
      "outputs": [
        {
          "output_type": "execute_result",
          "data": {
            "text/plain": [
              "[('C++ (читается си-плюс-плюс[2][3]) — компилируемый, статически типизированный язык программирования общего назначения.',\n",
              "  170),\n",
              " ('Поддерживает такие парадигмы программирования, как процедурное программирование, объектно-ориентированное программирование, обобщённое программирование.',\n",
              "  144),\n",
              " ('Так, язык Симула имеет такие возможности, которые были бы очень полезны для разработки большого программного обеспечения, но работает слишком медленно, а язык BCPL достаточно быстр, но слишком близок к языкам низкого уровня и не подходит для разработки большого программного обеспечения.',\n",
              "  348),\n",
              " ('Вспомнив опыт своей диссертации, Страуструп решил дополнить язык C (преемник BCPL) возможностями, имевшимися в языке Симула.',\n",
              "  172),\n",
              " ('Разрабатывая «Си с классами», Страуструп написал программу cfront — транслятор, перерабатывающий исходный код своего языка в исходный код простого Си.',\n",
              "  101),\n",
              " ('Новый язык неожиданно для автора приобрёл большую популярность среди коллег и вскоре Страуструп уже не мог лично поддерживать его, отвечая на тысячи вопросов.',\n",
              "  181),\n",
              " ('К 1983 году в язык были добавлены новые возможности, такие как виртуальные функции, перегрузка функций и операторов, ссылки, константы, пользовательский контроль над управлением свободной памятью, улучшенная проверка типов и новый стиль комментариев (//).',\n",
              "  235),\n",
              " ('Получившийся язык уже перестал быть просто дополненной версией классического C и был переименован из C с классами в «C++».',\n",
              "  172),\n",
              " ('До начала официальной стандартизации язык развивался в основном силами Страуструпа в ответ на запросы программистского сообщества.',\n",
              "  168),\n",
              " ('Одна из групп, разрабатывающих язык C++ и направляющих комитету по стандартизации C++ предложения по его улучшению — это Boost, которая занимается, в том числе, совершенствованием возможностей языка путём добавления в него особенностей метапрограммирования.',\n",
              "  203),\n",
              " ('Никто не обладает правами на язык C++, он является свободным.', 172),\n",
              " ('Некоторые из них:\\n\\nПолучить универсальный язык со статическими типами данных, эффективностью и переносимостью языка C.\\nНепосредственно и всесторонне поддерживать множество стилей программирования, в том числе процедурное программирование, абстракцию данных, объектно-ориентированное программирование и обобщённое программирование.',\n",
              "  337),\n",
              " ('Первое время язык развивался вне формальных рамок, спонтанно, по мере встававших перед ним задач.',\n",
              "  190),\n",
              " ('Эти номера версий кросс-компилятора распространялись и на сам язык, но применительно к настоящему времени речь о версиях языка C++ не ведут.',\n",
              "  180),\n",
              " ('Лишь в 1998 году язык стал стандартизированным.', 171),\n",
              " ('C++ поддерживает как комментарии в стиле C (/* комментарий */), так и однострочные (// вся оставшаяся часть строки является комментарием), где // обозначает начало комментария, а ближайший последующий символ новой строки, который не предварён символом \\\\ (либо эквивалентным ему обозначением ?',\n",
              "  90),\n",
              " ('volatile используется в описании переменных и информирует компилятор, что значение данной переменной может быть изменено способом, который компилятор не в состоянии отследить.',\n",
              "  114),\n",
              " ('Типы C++ практически полностью повторяют типы данных в C:\\n\\nсимвольные: char, wchar_t, char16_t и char32_t, в стандарте C++11 и char8_t в стандарте C++20);\\nцелочисленные знаковые: signed char, short int, int, long int (и long long, в стандарте C++11);\\nцелочисленные беззнаковые: unsigned char, unsigned short int, unsigned int, unsigned long int (и unsigned long long, в стандарте C++11);\\nс плавающей точкой: float, double, long double;\\nлогический: bool, имеющий значения либо true, либо false.',\n",
              "  205),\n",
              " ('В стандарте C++ под классом (class) подразумевается пользовательский тип, объявленный с использованием одного из ключевых слов class, struct или union, под структурой (structure) подразумевается класс, определённый через ключевое слово struct, и под объединением (union) подразумевается класс, определённый через ключевое слово union.',\n",
              "  263),\n",
              " ('Наследование от каждого класса может быть публичным, защищённым или закрытым:\\n\\nДоступ члена базового класса/режим наследования\\tprivate-член\\tprotected-член\\tpublic-член\\nprivate-наследование\\tнедоступен\\tprivate\\tprivate\\nprotected-наследование\\tнедоступен\\tprotected\\tprotected\\npublic-наследование\\tнедоступен\\tprotected\\tpublic\\nПо умолчанию базовый класс наследуется как private.',\n",
              "  139),\n",
              " ('Если один класс-предок наследуется несколько раз (это возможно, если он является предком нескольких базовых классов создаваемого класса), то экземпляры класса-потомка будет включать столько же подэкземпляров данного класса-предка.',\n",
              "  100),\n",
              " ('При наследовании базовый класс может объявляться виртуальным; на все виртуальные вхождения класса-предка в дерево наследования класса-потомка в потомке создаётся только один подэкземпляр.',\n",
              "  123),\n",
              " ('Полиморфным в C++ является тип, имеющий хотя бы один виртуальный метод.',\n",
              "  137),\n",
              " ('Пример иерархии:\\n\\nclass Figure\\n{\\npublic:\\n    virtual void Draw() = 0; // чистый виртуальный метод\\n    virtual ~Figure();       // при наличии хотя бы одного виртуального метода деструктор следует сделать виртуальным\\n};\\n\\nclass Square : public Figure\\n{\\npublic:\\n    void Draw() override;\\n};\\n\\nclass Circle : public Figure\\n{\\npublic:\\n    void Draw() override;\\n};\\nЗдесь класс Figure является абстрактным (и, даже, интерфейсным), так как метод Draw не определён.',\n",
              "  264),\n",
              " ('Доступ\\tprivate\\tprotected\\tpublic\\nСам класс\\tда\\tда\\tда\\nДрузья\\tда\\tда\\tда\\nНаследники\\tнет\\tда\\tда\\nИзвне\\tнет\\tнет\\tда\\nПроверка доступа происходит во время компиляции, попытка обращения к недоступному члену класса вызовет ошибку компиляции.',\n",
              "  120),\n",
              " ('Если класс A объявляет другом класс B, то он не становится автоматически другом для B. Для этого должно существовать явное объявление дружественности A в классе B.\\nДружественность не наследуется.',\n",
              "  171),\n",
              " ('Если A объявляет класс B своим другом, то потомки B не становятся автоматически друзьями A. Для этого каждый из них должен быть объявлен другом A в явной форме.',\n",
              "  89),\n",
              " ('Если класс A объявляет B другом, то B не становится автоматически другом для классов-потомков A. Каждый потомок, если это нужно, должен объявить B своим другом самостоятельно.',\n",
              "  136),\n",
              " ('Специальные функции\\nКласс по умолчанию может иметь шесть специальных функций: конструктор по умолчанию, конструктор копирования, конструктор перемещения, деструктор, оператор присваивания копированием, оператор присваивания перемещением.',\n",
              "  111),\n",
              " ('class Array {\\npublic:\\n\\tArray() = default; // компилятор создаст конструктор по умолчанию сам\\n\\tArray(size_t _len) :\\n\\t\\t\\tlen(_len) {\\n\\t\\tval = new double[_len];\\n\\t}\\n\\tArray(const Array & a) = delete;  // конструктор копирования явно удалён\\n\\tArray(Array && a); // конструктор перемещения\\n\\t~Array() {\\n\\t\\tdelete[] val;\\n\\t}\\n\\tArray& operator=(const Array& rhs); // оператор присваивания копированием\\n\\tArray& operator=(Array&& rhs); // оператор присваивания перемещением\\n\\tdouble& operator[](size_t i) {\\n\\t\\treturn val[i];\\n\\t}\\n\\tconst double& operator[](size_t i) const {\\n\\t\\treturn val[i];\\n\\t}\\n\\nprotected:\\n\\tstd::size_t len = 0; // инициализация поля\\n\\tdouble* val {nullptr};\\n};\\nКонструктор вызывается для инициализации объекта (соответствующего типа) при его создании, а деструктор — для уничтожения объекта.',\n",
              "  303),\n",
              " ('Класс может иметь несколько конструкторов, но деструктор может иметь только один.',\n",
              "  91),\n",
              " ('Например, предыдущий класс мог бы реализовывать массив для любого типа данных:\\n\\ntemplate <typename T>\\nclass Array {\\n    ...\\n    T& operator[](size_t i) {\\n\\t\\treturn val[i];\\n\\t}\\nprotected:\\n\\tstd::size_t len {0}; // инициализация поля\\n\\tT* val {nullptr};\\n};\\nСтандартная библиотека\\nОсновная статья: Стандартная библиотека C++\\nОбщая структура\\nСтандартная библиотека C++ включает в себя набор средств, которые должны быть доступны для любой реализации языка, чтобы обеспечить программистам удобное пользование языковыми средствами и создать базу для разработки как прикладных приложений самого широкого спектра, так и специализированных библиотек.',\n",
              "  379),\n",
              " ('Стандарт языка не называет её «STL», так как эта библиотека стала неотъемлемой частью языка, однако многие люди до сих пор используют это название, чтобы отличать её от остальной части стандартной библиотеки (потоки ввода-вывода (iostream), подраздел C и другие).',\n",
              "  134),\n",
              " ('Отличия от Си\\nСовместимость с Си\\nОсновная статья: Несовместимость Си и C++\\nВыбор именно C в качестве базы для создания нового языка программирования объясняется тем, что язык C:\\nявляется многоцелевым, лаконичным и относительно низкоуровневым языком;\\nподходит для решения большинства системных задач;\\nисполняется везде и на всём;\\nстыкуется со средой программирования UNIX.',\n",
              "  186),\n",
              " ('Раздел 1.6[16]\\nНесмотря на ряд известных недостатков языка Си, Страуструп пошёл на его использование в качестве основы, так как «в Си есть свои проблемы, но их имел бы и разработанный с нуля язык, а проблемы C нам известны».',\n",
              "  203),\n",
              " ('Кроме того, это позволило быстро получить прототип компилятора (cfront), который лишь выполнял трансляцию добавленных синтаксических элементов в оригинальный язык Си.',\n",
              "  269),\n",
              " ('Новые возможности\\nЛоготип Викиучебника\\tИмеется викиучебник по теме «Си++»\\nНовые возможности C++ включают объявления в виде выражений, преобразования типов в виде функций, операторы new и delete, тип bool, ссылки, расширенное понятие константности, подставляемые функции, аргументы по умолчанию, переопределения, пространства имён, классы (включая и все связанные с классами возможности, такие как наследование, функции-члены, виртуальные функции, абстрактные классы и конструкторы), переопределения операторов, шаблоны, оператор ::, обработку исключений, динамическую идентификацию и многое другое.',\n",
              "  123),\n",
              " ('Существует и такой верный для C код, который неверен для C++.', 117),\n",
              " (\"Так происходит из-за того, что символьные константы в C (например, 'a') имеют тип int, а в C++ — тип char, а размеры этих типов обычно различаются.\",\n",
              "  176),\n",
              " ('В целом C++ спроектирован и развивается как мультипарадигменный язык, впитывающий в себя различные методы и технологии программирования, но реализующий их на платформе, обеспечивающей высокую техническую эффективность.',\n",
              "  184),\n",
              " ('Поэтому в будущем не исключено добавление в язык средств функционального программирования, автоматической сборки мусора и других отсутствующих в нём сейчас механизмов.',\n",
              "  171),\n",
              " ('Для применения в шаблонах, там, где затруднительно указать конкретный тип переменной, введены два новых механизма: переменные типа auto и описание decltype.',\n",
              "  90),\n",
              " ('Добавлен необязательный модификатор override, который употребляется в объявлении метода, замещающего виртуальный метод родительского класса.',\n",
              "  98),\n",
              " ('C++ и Ада\\nЯзык Ада близок к C++ по набору возможностей и по сферам применения: это компилируемый структурный язык с Симула-подобным объектно-ориентированным дополнением (та же модель «Алгол с классами», что и в C++), статической типизацией, средствами обобщённого программирования, предназначенный для разработки крупных и сложных программных систем.',\n",
              "  209),\n",
              " ('Ада имеет встроенную в язык модульность и стандартизованную систему раздельной компиляции, тогда как C++ применяет включение текстовых файлов и внешние средства управления компиляцией и сборкой.',\n",
              "  175),\n",
              " ('C++ и Java\\nJava не может считаться в полной мере заменой C++, она создана как безопасный язык с низким порогом вхождения для разработки прикладных пользовательских приложений с высокими показателями портируемости[30] и принципиально непригодна для некоторых типов приложений, которые разрабатываются на C++.',\n",
              "  181),\n",
              " ('В низкоуровневом программировании значительная часть новых возможностей C++ оказывается неприменимой из-за увеличения накладных расходов: виртуальные функции требуют динамического вычисления реального адреса (RVA), шаблоны приводят к раздуванию кода и ухудшению возможностей оптимизации, библиотека времени исполнения (RTL) очень велика, а отказ от неё лишает большинства возможностей C++ (хотя бы из-за недоступности операций new/delete).',\n",
              "  98),\n",
              " ('Критика\\nО критике C++ в целом\\nЧаще всего критики не противопоставляют C++ какой-либо другой конкретный язык, а утверждают, что отказ от использования единственного языка, имеющего многочисленные недостатки, в пользу декомпозиции проекта на подзадачи, решаемые на различных, наиболее подходящих для них, языках, делает разработку существенно менее трудоёмкой при одновременном повышении показателей качества программирования[35][36].',\n",
              "  205),\n",
              " ('Этот язык почти не пересекается с самим C++, из-за чего потенциал роста сложности абстракций оказывается ограниченным.',\n",
              "  169),\n",
              " ('Программы, использующие шаблоны C++, имеют крайне низкие показатели понимаемости и тестируемости, а само разворачивание шаблонов порождает неэффективный код, так как язык шаблонов не предоставляет никаких средств для оптимизации (см.',\n",
              "  219),\n",
              " ('Функциональное программирование\\nЯвная поддержка функционального программирования присутствует только в стандарте C++0x, ранее пробел устранялся библиотеками (Loki, Boost), использующими язык шаблонов, но их качество значительно уступают решениям, встроенным в функциональные языки[пояснения 1], как и качеству реализаций возможностей C++ (таких как ООП) посредством функциональных языков.',\n",
              "  260),\n",
              " ('Это резко повышает риск ошибок, тем более что вводить новый синтаксис и изменять существующий (например, создавать новые операторы или менять приоритеты или ассоциативность) нельзя, хотя синтаксис стандартных операторов C++ адекватен семантике далеко не всех типов, которые может потребоваться ввести в программу.',\n",
              "  102),\n",
              " ('Другим решением могла бы быть стандартизованная ещё в 1998 году возможность экспорта шаблонов, но она доступна далеко не во всех компиляторах, так как её трудно реализовать[48][49][мнения 4] и для импорта библиотек шаблонов C++ в языки с существенно отличной от C++ семантикой она всё равно была бы бесполезна.',\n",
              "  101),\n",
              " ('Результативность\\nСоотнесение факторов результативности с затратами на разработку, а также общую культивируемую в сообществе программистов дисциплину и культуру программирования важно принимать во внимание заказчикам, выбирающим язык С++ (и, соответственно, предпочитающим этот язык разработчикам) для реализации задуманных ими проектов, а также людям, начинающим изучать программирование, особенно с намерением программировать для собственных нужд.',\n",
              "  453),\n",
              " ('Качество и культура программирования\\nПринцип C++ «не навязывать „хороший“ стиль программирования» противоречит промышленному подходу к программированию, в котором ведущую роль играют качество программного обеспечения и возможность сопровождения кода не только автором, и для которого предпочтительны языки, сводящие к минимуму влияние человеческого фактора, то есть как раз «навязывающие „хороший“ стиль программирования», хотя такие языки и могут иметь более высокий порог вхождения.',\n",
              "  170),\n",
              " ('В частности, Линус Торвальдс говорит, что использует положительное мнение кандидатов о C++ в качестве критерия отсева[мнения 3]:\\nC++ — кошмарный язык.',\n",
              "  179),\n",
              " ('— Линус Торвальдс,[33]\\nИсправление исправного\\nНепрерывная эволюция языка побуждает (а порой вынуждает) программистов раз за разом изменять уже отлаженный код — это не только удорожает разработку, но и несёт риск внедрения в отлаженный код новых ошибок.',\n",
              "  131),\n",
              " ('В частности, хотя изначально обратная совместимость с Си была одним из базовых принципов C++, с 1999 года Си перестал быть подмножеством C++, так что отлаженный код на Си уже не может использоваться в проекте на C++ без изменений.',\n",
              "  92),\n",
              " ('По мнению Эрика Реймонда, это делает язык сам по себе почвой для личного самоутверждения программистов, превращения процесса разработки в самоцель:\\n\\nПрограммисты — это зачастую яркие люди, которые гордятся … своей способностью справляться со сложностями и ловко обращаться с абстракциями.',\n",
              "  248),\n",
              " ('— Ф. Брукс, Мифический человеко-месяц\\nВлияние и альтернативы\\nЕдинственным прямым потомком C++ является язык D, задуманный как переработка C++ для устранения наиболее очевидных его проблем.',\n",
              "  172),\n",
              " ('Авторы отказались от совместимости с Си, сохранив синтаксис и многие базовые принципы C++ и введя в язык возможности, характерные для новых языков.',\n",
              "  181),\n",
              " ('Одной из первых альтернатив C++ в прикладном программировании стал язык Java.',\n",
              "  167),\n",
              " ('В том же русле находится созданный Microsoft язык F# — диалект ML, адаптированный для среды .NET.',\n",
              "  170),\n",
              " ('Попыткой создать промышленную замену Си и C++ стал разработанный в корпорации Google в 2009 году язык программирования Go.',\n",
              "  179),\n",
              " ('Go — компактный, несложный по структуре императивный язык с Си-подобным синтаксисом, без препроцессора, со статической типизацией, строгим контролем типов, системой пакетов, автоматическим управлением памятью, некоторыми функциональными чертами, экономно построенной ООП-подсистемой без поддержки наследования реализации, но с интерфейсами и утиной типизацией, встроенной многопоточностью, основанной на сопрограммах и каналах (в духе Occam).',\n",
              "  172),\n",
              " ('Язык позиционируется как альтернатива C++, то есть, в первую очередь, средство групповой разработки высокоэффективных вычислительных систем большой сложности, в том числе распределённых, допускающее, при необходимости, низкоуровневое программирование.',\n",
              "  99),\n",
              " ('В одной нише с Си и C++ находится разработанный в 2010 году и поддерживаемый корпорацией Mozilla язык Rust, ориентированный на безопасное управление памятью без использования сборщика мусора.',\n",
              "  182)]"
            ]
          },
          "metadata": {},
          "execution_count": 197
        }
      ]
    },
    {
      "cell_type": "code",
      "source": [
        "summary_text"
      ],
      "metadata": {
        "colab": {
          "base_uri": "https://localhost:8080/",
          "height": 145
        },
        "id": "txp1Uqea5osr",
        "outputId": "b5f38e1c-1615-4f43-aba0-ecf06b5ba35f"
      },
      "execution_count": null,
      "outputs": [
        {
          "output_type": "execute_result",
          "data": {
            "text/plain": [
              "\"C++ (читается си-плюс-плюс[2][3]) — компилируемый, статически типизированный язык программирования общего назначения. Поддерживает такие парадигмы программирования, как процедурное программирование, объектно-ориентированное программирование, обобщённое программирование. Так, язык Симула имеет такие возможности, которые были бы очень полезны для разработки большого программного обеспечения, но работает слишком медленно, а язык BCPL достаточно быстр, но слишком близок к языкам низкого уровня и не подходит для разработки большого программного обеспечения. Вспомнив опыт своей диссертации, Страуструп решил дополнить язык C (преемник BCPL) возможностями, имевшимися в языке Симула. Разрабатывая «Си с классами», Страуструп написал программу cfront — транслятор, перерабатывающий исходный код своего языка в исходный код простого Си. Новый язык неожиданно для автора приобрёл большую популярность среди коллег и вскоре Страуструп уже не мог лично поддерживать его, отвечая на тысячи вопросов. К 1983 году в язык были добавлены новые возможности, такие как виртуальные функции, перегрузка функций и операторов, ссылки, константы, пользовательский контроль над управлением свободной памятью, улучшенная проверка типов и новый стиль комментариев (//). Получившийся язык уже перестал быть просто дополненной версией классического C и был переименован из C с классами в «C++». До начала официальной стандартизации язык развивался в основном силами Страуструпа в ответ на запросы программистского сообщества. Одна из групп, разрабатывающих язык C++ и направляющих комитету по стандартизации C++ предложения по его улучшению — это Boost, которая занимается, в том числе, совершенствованием возможностей языка путём добавления в него особенностей метапрограммирования. Никто не обладает правами на язык C++, он является свободным. Некоторые из них:\\n\\nПолучить универсальный язык со статическими типами данных, эффективностью и переносимостью языка C.\\nНепосредственно и всесторонне поддерживать множество стилей программирования, в том числе процедурное программирование, абстракцию данных, объектно-ориентированное программирование и обобщённое программирование. Первое время язык развивался вне формальных рамок, спонтанно, по мере встававших перед ним задач. Эти номера версий кросс-компилятора распространялись и на сам язык, но применительно к настоящему времени речь о версиях языка C++ не ведут. Лишь в 1998 году язык стал стандартизированным. C++ поддерживает как комментарии в стиле C (/* комментарий */), так и однострочные (// вся оставшаяся часть строки является комментарием), где // обозначает начало комментария, а ближайший последующий символ новой строки, который не предварён символом \\\\ (либо эквивалентным ему обозначением ? volatile используется в описании переменных и информирует компилятор, что значение данной переменной может быть изменено способом, который компилятор не в состоянии отследить. Типы C++ практически полностью повторяют типы данных в C:\\n\\nсимвольные: char, wchar_t, char16_t и char32_t, в стандарте C++11 и char8_t в стандарте C++20);\\nцелочисленные знаковые: signed char, short int, int, long int (и long long, в стандарте C++11);\\nцелочисленные беззнаковые: unsigned char, unsigned short int, unsigned int, unsigned long int (и unsigned long long, в стандарте C++11);\\nс плавающей точкой: float, double, long double;\\nлогический: bool, имеющий значения либо true, либо false. В стандарте C++ под классом (class) подразумевается пользовательский тип, объявленный с использованием одного из ключевых слов class, struct или union, под структурой (structure) подразумевается класс, определённый через ключевое слово struct, и под объединением (union) подразумевается класс, определённый через ключевое слово union. Наследование от каждого класса может быть публичным, защищённым или закрытым:\\n\\nДоступ члена базового класса/режим наследования\\tprivate-член\\tprotected-член\\tpublic-член\\nprivate-наследование\\tнедоступен\\tprivate\\tprivate\\nprotected-наследование\\tнедоступен\\tprotected\\tprotected\\npublic-наследование\\tнедоступен\\tprotected\\tpublic\\nПо умолчанию базовый класс наследуется как private. Если один класс-предок наследуется несколько раз (это возможно, если он является предком нескольких базовых классов создаваемого класса), то экземпляры класса-потомка будет включать столько же подэкземпляров данного класса-предка. При наследовании базовый класс может объявляться виртуальным; на все виртуальные вхождения класса-предка в дерево наследования класса-потомка в потомке создаётся только один подэкземпляр. Полиморфным в C++ является тип, имеющий хотя бы один виртуальный метод. Пример иерархии:\\n\\nclass Figure\\n{\\npublic:\\n    virtual void Draw() = 0; // чистый виртуальный метод\\n    virtual ~Figure();       // при наличии хотя бы одного виртуального метода деструктор следует сделать виртуальным\\n};\\n\\nclass Square : public Figure\\n{\\npublic:\\n    void Draw() override;\\n};\\n\\nclass Circle : public Figure\\n{\\npublic:\\n    void Draw() override;\\n};\\nЗдесь класс Figure является абстрактным (и, даже, интерфейсным), так как метод Draw не определён. Доступ\\tprivate\\tprotected\\tpublic\\nСам класс\\tда\\tда\\tда\\nДрузья\\tда\\tда\\tда\\nНаследники\\tнет\\tда\\tда\\nИзвне\\tнет\\tнет\\tда\\nПроверка доступа происходит во время компиляции, попытка обращения к недоступному члену класса вызовет ошибку компиляции. Если класс A объявляет другом класс B, то он не становится автоматически другом для B. Для этого должно существовать явное объявление дружественности A в классе B.\\nДружественность не наследуется. Если A объявляет класс B своим другом, то потомки B не становятся автоматически друзьями A. Для этого каждый из них должен быть объявлен другом A в явной форме. Если класс A объявляет B другом, то B не становится автоматически другом для классов-потомков A. Каждый потомок, если это нужно, должен объявить B своим другом самостоятельно. Специальные функции\\nКласс по умолчанию может иметь шесть специальных функций: конструктор по умолчанию, конструктор копирования, конструктор перемещения, деструктор, оператор присваивания копированием, оператор присваивания перемещением. class Array {\\npublic:\\n\\tArray() = default; // компилятор создаст конструктор по умолчанию сам\\n\\tArray(size_t _len) :\\n\\t\\t\\tlen(_len) {\\n\\t\\tval = new double[_len];\\n\\t}\\n\\tArray(const Array & a) = delete;  // конструктор копирования явно удалён\\n\\tArray(Array && a); // конструктор перемещения\\n\\t~Array() {\\n\\t\\tdelete[] val;\\n\\t}\\n\\tArray& operator=(const Array& rhs); // оператор присваивания копированием\\n\\tArray& operator=(Array&& rhs); // оператор присваивания перемещением\\n\\tdouble& operator[](size_t i) {\\n\\t\\treturn val[i];\\n\\t}\\n\\tconst double& operator[](size_t i) const {\\n\\t\\treturn val[i];\\n\\t}\\n\\nprotected:\\n\\tstd::size_t len = 0; // инициализация поля\\n\\tdouble* val {nullptr};\\n};\\nКонструктор вызывается для инициализации объекта (соответствующего типа) при его создании, а деструктор — для уничтожения объекта. Класс может иметь несколько конструкторов, но деструктор может иметь только один. Например, предыдущий класс мог бы реализовывать массив для любого типа данных:\\n\\ntemplate <typename T>\\nclass Array {\\n    ...\\n    T& operator[](size_t i) {\\n\\t\\treturn val[i];\\n\\t}\\nprotected:\\n\\tstd::size_t len {0}; // инициализация поля\\n\\tT* val {nullptr};\\n};\\nСтандартная библиотека\\nОсновная статья: Стандартная библиотека C++\\nОбщая структура\\nСтандартная библиотека C++ включает в себя набор средств, которые должны быть доступны для любой реализации языка, чтобы обеспечить программистам удобное пользование языковыми средствами и создать базу для разработки как прикладных приложений самого широкого спектра, так и специализированных библиотек. Стандарт языка не называет её «STL», так как эта библиотека стала неотъемлемой частью языка, однако многие люди до сих пор используют это название, чтобы отличать её от остальной части стандартной библиотеки (потоки ввода-вывода (iostream), подраздел C и другие). Отличия от Си\\nСовместимость с Си\\nОсновная статья: Несовместимость Си и C++\\nВыбор именно C в качестве базы для создания нового языка программирования объясняется тем, что язык C:\\nявляется многоцелевым, лаконичным и относительно низкоуровневым языком;\\nподходит для решения большинства системных задач;\\nисполняется везде и на всём;\\nстыкуется со средой программирования UNIX. Раздел 1.6[16]\\nНесмотря на ряд известных недостатков языка Си, Страуструп пошёл на его использование в качестве основы, так как «в Си есть свои проблемы, но их имел бы и разработанный с нуля язык, а проблемы C нам известны». Кроме того, это позволило быстро получить прототип компилятора (cfront), который лишь выполнял трансляцию добавленных синтаксических элементов в оригинальный язык Си. Новые возможности\\nЛоготип Викиучебника\\tИмеется викиучебник по теме «Си++»\\nНовые возможности C++ включают объявления в виде выражений, преобразования типов в виде функций, операторы new и delete, тип bool, ссылки, расширенное понятие константности, подставляемые функции, аргументы по умолчанию, переопределения, пространства имён, классы (включая и все связанные с классами возможности, такие как наследование, функции-члены, виртуальные функции, абстрактные классы и конструкторы), переопределения операторов, шаблоны, оператор ::, обработку исключений, динамическую идентификацию и многое другое. Существует и такой верный для C код, который неверен для C++. Так происходит из-за того, что символьные константы в C (например, 'a') имеют тип int, а в C++ — тип char, а размеры этих типов обычно различаются. В целом C++ спроектирован и развивается как мультипарадигменный язык, впитывающий в себя различные методы и технологии программирования, но реализующий их на платформе, обеспечивающей высокую техническую эффективность. Поэтому в будущем не исключено добавление в язык средств функционального программирования, автоматической сборки мусора и других отсутствующих в нём сейчас механизмов. Для применения в шаблонах, там, где затруднительно указать конкретный тип переменной, введены два новых механизма: переменные типа auto и описание decltype. Добавлен необязательный модификатор override, который употребляется в объявлении метода, замещающего виртуальный метод родительского класса. C++ и Ада\\nЯзык Ада близок к C++ по набору возможностей и по сферам применения: это компилируемый структурный язык с Симула-подобным объектно-ориентированным дополнением (та же модель «Алгол с классами», что и в C++), статической типизацией, средствами обобщённого программирования, предназначенный для разработки крупных и сложных программных систем. Ада имеет встроенную в язык модульность и стандартизованную систему раздельной компиляции, тогда как C++ применяет включение текстовых файлов и внешние средства управления компиляцией и сборкой. C++ и Java\\nJava не может считаться в полной мере заменой C++, она создана как безопасный язык с низким порогом вхождения для разработки прикладных пользовательских приложений с высокими показателями портируемости[30] и принципиально непригодна для некоторых типов приложений, которые разрабатываются на C++. В низкоуровневом программировании значительная часть новых возможностей C++ оказывается неприменимой из-за увеличения накладных расходов: виртуальные функции требуют динамического вычисления реального адреса (RVA), шаблоны приводят к раздуванию кода и ухудшению возможностей оптимизации, библиотека времени исполнения (RTL) очень велика, а отказ от неё лишает большинства возможностей C++ (хотя бы из-за недоступности операций new/delete). Критика\\nО критике C++ в целом\\nЧаще всего критики не противопоставляют C++ какой-либо другой конкретный язык, а утверждают, что отказ от использования единственного языка, имеющего многочисленные недостатки, в пользу декомпозиции проекта на подзадачи, решаемые на различных, наиболее подходящих для них, языках, делает разработку существенно менее трудоёмкой при одновременном повышении показателей качества программирования[35][36]. Этот язык почти не пересекается с самим C++, из-за чего потенциал роста сложности абстракций оказывается ограниченным. Программы, использующие шаблоны C++, имеют крайне низкие показатели понимаемости и тестируемости, а само разворачивание шаблонов порождает неэффективный код, так как язык шаблонов не предоставляет никаких средств для оптимизации (см. Функциональное программирование\\nЯвная поддержка функционального программирования присутствует только в стандарте C++0x, ранее пробел устранялся библиотеками (Loki, Boost), использующими язык шаблонов, но их качество значительно уступают решениям, встроенным в функциональные языки[пояснения 1], как и качеству реализаций возможностей C++ (таких как ООП) посредством функциональных языков. Это резко повышает риск ошибок, тем более что вводить новый синтаксис и изменять существующий (например, создавать новые операторы или менять приоритеты или ассоциативность) нельзя, хотя синтаксис стандартных операторов C++ адекватен семантике далеко не всех типов, которые может потребоваться ввести в программу. Другим решением могла бы быть стандартизованная ещё в 1998 году возможность экспорта шаблонов, но она доступна далеко не во всех компиляторах, так как её трудно реализовать[48][49][мнения 4] и для импорта библиотек шаблонов C++ в языки с существенно отличной от C++ семантикой она всё равно была бы бесполезна. Результативность\\nСоотнесение факторов результативности с затратами на разработку, а также общую культивируемую в сообществе программистов дисциплину и культуру программирования важно принимать во внимание заказчикам, выбирающим язык С++ (и, соответственно, предпочитающим этот язык разработчикам) для реализации задуманных ими проектов, а также людям, начинающим изучать программирование, особенно с намерением программировать для собственных нужд. Качество и культура программирования\\nПринцип C++ «не навязывать „хороший“ стиль программирования» противоречит промышленному подходу к программированию, в котором ведущую роль играют качество программного обеспечения и возможность сопровождения кода не только автором, и для которого предпочтительны языки, сводящие к минимуму влияние человеческого фактора, то есть как раз «навязывающие „хороший“ стиль программирования», хотя такие языки и могут иметь более высокий порог вхождения. В частности, Линус Торвальдс говорит, что использует положительное мнение кандидатов о C++ в качестве критерия отсева[мнения 3]:\\nC++ — кошмарный язык. — Линус Торвальдс,[33]\\nИсправление исправного\\nНепрерывная эволюция языка побуждает (а порой вынуждает) программистов раз за разом изменять уже отлаженный код — это не только удорожает разработку, но и несёт риск внедрения в отлаженный код новых ошибок. В частности, хотя изначально обратная совместимость с Си была одним из базовых принципов C++, с 1999 года Си перестал быть подмножеством C++, так что отлаженный код на Си уже не может использоваться в проекте на C++ без изменений. По мнению Эрика Реймонда, это делает язык сам по себе почвой для личного самоутверждения программистов, превращения процесса разработки в самоцель:\\n\\nПрограммисты — это зачастую яркие люди, которые гордятся … своей способностью справляться со сложностями и ловко обращаться с абстракциями. — Ф. Брукс, Мифический человеко-месяц\\nВлияние и альтернативы\\nЕдинственным прямым потомком C++ является язык D, задуманный как переработка C++ для устранения наиболее очевидных его проблем. Авторы отказались от совместимости с Си, сохранив синтаксис и многие базовые принципы C++ и введя в язык возможности, характерные для новых языков. Одной из первых альтернатив C++ в прикладном программировании стал язык Java. В том же русле находится созданный Microsoft язык F# — диалект ML, адаптированный для среды .NET. Попыткой создать промышленную замену Си и C++ стал разработанный в корпорации Google в 2009 году язык программирования Go. Go — компактный, несложный по структуре императивный язык с Си-подобным синтаксисом, без препроцессора, со статической типизацией, строгим контролем типов, системой пакетов, автоматическим управлением памятью, некоторыми функциональными чертами, экономно построенной ООП-подсистемой без поддержки наследования реализации, но с интерфейсами и утиной типизацией, встроенной многопоточностью, основанной на сопрограммах и каналах (в духе Occam). Язык позиционируется как альтернатива C++, то есть, в первую очередь, средство групповой разработки высокоэффективных вычислительных систем большой сложности, в том числе распределённых, допускающее, при необходимости, низкоуровневое программирование. В одной нише с Си и C++ находится разработанный в 2010 году и поддерживаемый корпорацией Mozilla язык Rust, ориентированный на безопасное управление памятью без использования сборщика мусора.\""
            ],
            "application/vnd.google.colaboratory.intrinsic+json": {
              "type": "string"
            }
          },
          "metadata": {},
          "execution_count": 198
        }
      ]
    },
    {
      "cell_type": "code",
      "source": [
        "output_file = f'summarize_text_12({int(compression_ratio * 100)}%).txt'"
      ],
      "metadata": {
        "id": "foIrmxlt57Od"
      },
      "execution_count": null,
      "outputs": []
    },
    {
      "cell_type": "code",
      "source": [
        "def save_text(text, output_file):\n",
        "    # Запись текста в файл\n",
        "    with open(output_file, 'w', encoding='utf-8') as f:\n",
        "      f.write(text)"
      ],
      "metadata": {
        "id": "H-wpuC8X5s8z"
      },
      "execution_count": null,
      "outputs": []
    },
    {
      "cell_type": "code",
      "source": [
        "save_text(summary_text, output_file)"
      ],
      "metadata": {
        "id": "B4kGyw9555ZA"
      },
      "execution_count": null,
      "outputs": []
    }
  ]
}